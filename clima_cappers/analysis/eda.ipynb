{
 "cells": [
  {
   "cell_type": "markdown",
   "metadata": {},
   "source": [
    "## Analysis and  Model Development\n",
    "\n",
    "This document outlines the process of exploratory data analysis for climate and \n",
    "economic data. There are two main components:\n",
    "1. Data cleaning and Missing values\n",
    "Indicators with more than 35% of missing values are dropped. Further, countries\n",
    "with more than 35% of the data missing are also dropped from the panel dataset.\n",
    "\n",
    "2. Data Imputation\n",
    "We use KNNImputer from sklearn to do missing value imputation. \n",
    "\n",
    "3. Model Development\n",
    "\n",
    "    * PooledOLS- Linear regression on Panel dataset. This is not the appropriate \n",
    "    model to study the relationship between CO2 emissions per capita and gdp per \n",
    "    capita because it does not account for fixed effects. \n",
    "    * PanelOLS to do Fixed Effects Regressions. This model incorporates time fixed \n",
    "    effects. We use the results from this model in the dashboard.\n",
    "\n",
    "The benchhmark model to study Environmental Kuznets Curve relationship is \n",
    "\n",
    "$logCO2capita = \\beta_0 + \\beta_1 logGDPcapita + \\beta_2 (logGDPcapita)^2$\n",
    "\n",
    "\n",
    "\n",
    "#### Conclusion\n",
    "\n",
    "From the above region specific regressions, we see that a 1% increase in GDP capita\n",
    "growth rate leads to approximately 1%-3% change in the growth of CO2 emissions per\n",
    "capita. For future iterations of the project, we would want to do a more \n",
    "detailed statistical analysis of assumptions and undertake necessary variable \n",
    "manipulations. Additionally, the model would greatly benefit by incoproating more\n",
    "socio-economic variables like human development index for each country and\n",
    "an indicator on the quality of governance and level of corruption. It would be \n",
    "interesting to see the inter-play of these socio-economic indicators on the \n",
    "level of emissions. \n",
    "\n",
    "Additionally, a test to account for the structural break like the years around \n",
    "major climate conventions would offer meaningful insights on the changes in the \n",
    "level of emissions and if these climatic conventions have had any impact on the \n",
    "level of emissions. \n",
    "\n",
    "\n"
   ]
  },
  {
   "cell_type": "code",
   "execution_count": 178,
   "metadata": {},
   "outputs": [],
   "source": [
    "#Import libraries\n",
    "import sqlite3\n",
    "import numpy as np\n",
    "import pandas as pd\n",
    "import matplotlib.pyplot as plt\n",
    "import seaborn as sns\n",
    "#Pooled OLS\n",
    "import statsmodels.api as sm\n",
    "from linearmodels.panel import PooledOLS\n",
    "# FE  model\n",
    "from linearmodels import PanelOLS\n",
    "from sklearn.impute import KNNImputer"
   ]
  },
  {
   "cell_type": "code",
   "execution_count": 179,
   "metadata": {},
   "outputs": [],
   "source": [
    "# Create your connection.\n",
    "con = sqlite3.connect('../data/indicators.sqlite3', check_same_thread=False)"
   ]
  },
  {
   "cell_type": "code",
   "execution_count": 180,
   "metadata": {},
   "outputs": [],
   "source": [
    "# Import dataset as pandas dataframe\n",
    "climate_data = pd.read_sql_query(\"SELECT * FROM climate_indicators\", con)\n",
    "economic_data = pd.read_sql_query(\"SELECT * FROM econ_indicators\", con)\n",
    "region_mapping = pd.read_sql_query(\"SELECT * FROM region_mapping\", con)"
   ]
  },
  {
   "cell_type": "markdown",
   "metadata": {},
   "source": [
    "### Exploring climate data"
   ]
  },
  {
   "cell_type": "code",
   "execution_count": 181,
   "metadata": {},
   "outputs": [
    {
     "data": {
      "text/html": [
       "<div>\n",
       "<style scoped>\n",
       "    .dataframe tbody tr th:only-of-type {\n",
       "        vertical-align: middle;\n",
       "    }\n",
       "\n",
       "    .dataframe tbody tr th {\n",
       "        vertical-align: top;\n",
       "    }\n",
       "\n",
       "    .dataframe thead th {\n",
       "        text-align: right;\n",
       "    }\n",
       "</style>\n",
       "<table border=\"1\" class=\"dataframe\">\n",
       "  <thead>\n",
       "    <tr style=\"text-align: right;\">\n",
       "      <th></th>\n",
       "      <th>country</th>\n",
       "      <th>iso_code</th>\n",
       "      <th>year</th>\n",
       "      <th>co2_emissions_kt</th>\n",
       "      <th>co2_emissions_capita</th>\n",
       "      <th>forest_area</th>\n",
       "      <th>population</th>\n",
       "      <th>electricity_pro_hydro</th>\n",
       "      <th>electricity_pro_natural_gas</th>\n",
       "      <th>electricity_pro_nuclear</th>\n",
       "      <th>electricity_pro_oil</th>\n",
       "      <th>electricity_pro_coal</th>\n",
       "      <th>electricity_pro_fossils</th>\n",
       "      <th>electricity_pro_renewable</th>\n",
       "      <th>pm_25</th>\n",
       "      <th>sf6_emissions</th>\n",
       "      <th>ghg_total</th>\n",
       "      <th>ghg_growth</th>\n",
       "      <th>ghg_capita</th>\n",
       "      <th>mean_surface_temp</th>\n",
       "    </tr>\n",
       "  </thead>\n",
       "  <tbody>\n",
       "    <tr>\n",
       "      <th>0</th>\n",
       "      <td>Aruba</td>\n",
       "      <td>ABW</td>\n",
       "      <td>1995</td>\n",
       "      <td>NaN</td>\n",
       "      <td>NaN</td>\n",
       "      <td>2.333333</td>\n",
       "      <td>80324.0</td>\n",
       "      <td>NaN</td>\n",
       "      <td>NaN</td>\n",
       "      <td>NaN</td>\n",
       "      <td>NaN</td>\n",
       "      <td>NaN</td>\n",
       "      <td>NaN</td>\n",
       "      <td>NaN</td>\n",
       "      <td>NaN</td>\n",
       "      <td>NaN</td>\n",
       "      <td>NaN</td>\n",
       "      <td>NaN</td>\n",
       "      <td>NaN</td>\n",
       "      <td>0.573</td>\n",
       "    </tr>\n",
       "    <tr>\n",
       "      <th>1</th>\n",
       "      <td>Aruba</td>\n",
       "      <td>ABW</td>\n",
       "      <td>1996</td>\n",
       "      <td>NaN</td>\n",
       "      <td>NaN</td>\n",
       "      <td>2.333333</td>\n",
       "      <td>83211.0</td>\n",
       "      <td>NaN</td>\n",
       "      <td>NaN</td>\n",
       "      <td>NaN</td>\n",
       "      <td>NaN</td>\n",
       "      <td>NaN</td>\n",
       "      <td>NaN</td>\n",
       "      <td>NaN</td>\n",
       "      <td>NaN</td>\n",
       "      <td>NaN</td>\n",
       "      <td>NaN</td>\n",
       "      <td>NaN</td>\n",
       "      <td>NaN</td>\n",
       "      <td>0.727</td>\n",
       "    </tr>\n",
       "    <tr>\n",
       "      <th>2</th>\n",
       "      <td>Aruba</td>\n",
       "      <td>ABW</td>\n",
       "      <td>1997</td>\n",
       "      <td>NaN</td>\n",
       "      <td>NaN</td>\n",
       "      <td>2.333333</td>\n",
       "      <td>85450.0</td>\n",
       "      <td>NaN</td>\n",
       "      <td>NaN</td>\n",
       "      <td>NaN</td>\n",
       "      <td>NaN</td>\n",
       "      <td>NaN</td>\n",
       "      <td>NaN</td>\n",
       "      <td>NaN</td>\n",
       "      <td>NaN</td>\n",
       "      <td>NaN</td>\n",
       "      <td>NaN</td>\n",
       "      <td>NaN</td>\n",
       "      <td>NaN</td>\n",
       "      <td>NaN</td>\n",
       "    </tr>\n",
       "    <tr>\n",
       "      <th>3</th>\n",
       "      <td>Aruba</td>\n",
       "      <td>ABW</td>\n",
       "      <td>1998</td>\n",
       "      <td>NaN</td>\n",
       "      <td>NaN</td>\n",
       "      <td>2.333333</td>\n",
       "      <td>87280.0</td>\n",
       "      <td>NaN</td>\n",
       "      <td>NaN</td>\n",
       "      <td>NaN</td>\n",
       "      <td>NaN</td>\n",
       "      <td>NaN</td>\n",
       "      <td>NaN</td>\n",
       "      <td>NaN</td>\n",
       "      <td>NaN</td>\n",
       "      <td>NaN</td>\n",
       "      <td>NaN</td>\n",
       "      <td>NaN</td>\n",
       "      <td>NaN</td>\n",
       "      <td>NaN</td>\n",
       "    </tr>\n",
       "    <tr>\n",
       "      <th>4</th>\n",
       "      <td>Aruba</td>\n",
       "      <td>ABW</td>\n",
       "      <td>1999</td>\n",
       "      <td>NaN</td>\n",
       "      <td>NaN</td>\n",
       "      <td>2.333333</td>\n",
       "      <td>89009.0</td>\n",
       "      <td>NaN</td>\n",
       "      <td>NaN</td>\n",
       "      <td>NaN</td>\n",
       "      <td>NaN</td>\n",
       "      <td>NaN</td>\n",
       "      <td>NaN</td>\n",
       "      <td>NaN</td>\n",
       "      <td>NaN</td>\n",
       "      <td>NaN</td>\n",
       "      <td>NaN</td>\n",
       "      <td>NaN</td>\n",
       "      <td>NaN</td>\n",
       "      <td>NaN</td>\n",
       "    </tr>\n",
       "  </tbody>\n",
       "</table>\n",
       "</div>"
      ],
      "text/plain": [
       "  country iso_code  year  co2_emissions_kt  co2_emissions_capita  forest_area  \\\n",
       "0   Aruba      ABW  1995               NaN                   NaN     2.333333   \n",
       "1   Aruba      ABW  1996               NaN                   NaN     2.333333   \n",
       "2   Aruba      ABW  1997               NaN                   NaN     2.333333   \n",
       "3   Aruba      ABW  1998               NaN                   NaN     2.333333   \n",
       "4   Aruba      ABW  1999               NaN                   NaN     2.333333   \n",
       "\n",
       "   population  electricity_pro_hydro  electricity_pro_natural_gas  \\\n",
       "0     80324.0                    NaN                          NaN   \n",
       "1     83211.0                    NaN                          NaN   \n",
       "2     85450.0                    NaN                          NaN   \n",
       "3     87280.0                    NaN                          NaN   \n",
       "4     89009.0                    NaN                          NaN   \n",
       "\n",
       "   electricity_pro_nuclear  electricity_pro_oil  electricity_pro_coal  \\\n",
       "0                      NaN                  NaN                   NaN   \n",
       "1                      NaN                  NaN                   NaN   \n",
       "2                      NaN                  NaN                   NaN   \n",
       "3                      NaN                  NaN                   NaN   \n",
       "4                      NaN                  NaN                   NaN   \n",
       "\n",
       "   electricity_pro_fossils  electricity_pro_renewable  pm_25  sf6_emissions  \\\n",
       "0                      NaN                        NaN    NaN            NaN   \n",
       "1                      NaN                        NaN    NaN            NaN   \n",
       "2                      NaN                        NaN    NaN            NaN   \n",
       "3                      NaN                        NaN    NaN            NaN   \n",
       "4                      NaN                        NaN    NaN            NaN   \n",
       "\n",
       "   ghg_total  ghg_growth  ghg_capita  mean_surface_temp  \n",
       "0        NaN         NaN         NaN              0.573  \n",
       "1        NaN         NaN         NaN              0.727  \n",
       "2        NaN         NaN         NaN                NaN  \n",
       "3        NaN         NaN         NaN                NaN  \n",
       "4        NaN         NaN         NaN                NaN  "
      ]
     },
     "execution_count": 181,
     "metadata": {},
     "output_type": "execute_result"
    }
   ],
   "source": [
    "#print the head of the data frame.\n",
    "climate_data.head()"
   ]
  },
  {
   "cell_type": "code",
   "execution_count": 182,
   "metadata": {},
   "outputs": [
    {
     "name": "stdout",
     "output_type": "stream",
     "text": [
      "<class 'pandas.core.frame.DataFrame'>\n",
      "RangeIndex: 5250 entries, 0 to 5249\n",
      "Data columns (total 20 columns):\n",
      " #   Column                       Non-Null Count  Dtype  \n",
      "---  ------                       --------------  -----  \n",
      " 0   country                      5250 non-null   object \n",
      " 1   iso_code                     5250 non-null   object \n",
      " 2   year                         5250 non-null   int64  \n",
      " 3   co2_emissions_kt             4584 non-null   float64\n",
      " 4   co2_emissions_capita         4584 non-null   float64\n",
      " 5   forest_area                  5134 non-null   float64\n",
      " 6   population                   5217 non-null   float64\n",
      " 7   electricity_pro_hydro        2903 non-null   float64\n",
      " 8   electricity_pro_natural_gas  2903 non-null   float64\n",
      " 9   electricity_pro_nuclear      2798 non-null   float64\n",
      " 10  electricity_pro_oil          2903 non-null   float64\n",
      " 11  electricity_pro_coal         2903 non-null   float64\n",
      " 12  electricity_pro_fossils      2903 non-null   float64\n",
      " 13  electricity_pro_renewable    2903 non-null   float64\n",
      " 14  pm_25                        2101 non-null   float64\n",
      " 15  sf6_emissions                538 non-null    float64\n",
      " 16  ghg_total                    4584 non-null   float64\n",
      " 17  ghg_growth                   4560 non-null   float64\n",
      " 18  ghg_capita                   4553 non-null   float64\n",
      " 19  mean_surface_temp            5034 non-null   float64\n",
      "dtypes: float64(17), int64(1), object(2)\n",
      "memory usage: 820.4+ KB\n"
     ]
    }
   ],
   "source": [
    "climate_data.info()"
   ]
  },
  {
   "cell_type": "code",
   "execution_count": 183,
   "metadata": {},
   "outputs": [
    {
     "data": {
      "text/plain": [
       "(5250, 20)"
      ]
     },
     "execution_count": 183,
     "metadata": {},
     "output_type": "execute_result"
    }
   ],
   "source": [
    "climate_data.shape"
   ]
  },
  {
   "cell_type": "markdown",
   "metadata": {},
   "source": [
    "### Missing values analysis"
   ]
  },
  {
   "cell_type": "code",
   "execution_count": 184,
   "metadata": {},
   "outputs": [
    {
     "data": {
      "text/html": [
       "<div>\n",
       "<style scoped>\n",
       "    .dataframe tbody tr th:only-of-type {\n",
       "        vertical-align: middle;\n",
       "    }\n",
       "\n",
       "    .dataframe tbody tr th {\n",
       "        vertical-align: top;\n",
       "    }\n",
       "\n",
       "    .dataframe thead th {\n",
       "        text-align: right;\n",
       "    }\n",
       "</style>\n",
       "<table border=\"1\" class=\"dataframe\">\n",
       "  <thead>\n",
       "    <tr style=\"text-align: right;\">\n",
       "      <th></th>\n",
       "      <th>percent_missing</th>\n",
       "    </tr>\n",
       "  </thead>\n",
       "  <tbody>\n",
       "    <tr>\n",
       "      <th>country</th>\n",
       "      <td>0.000000</td>\n",
       "    </tr>\n",
       "    <tr>\n",
       "      <th>iso_code</th>\n",
       "      <td>0.000000</td>\n",
       "    </tr>\n",
       "    <tr>\n",
       "      <th>year</th>\n",
       "      <td>0.000000</td>\n",
       "    </tr>\n",
       "    <tr>\n",
       "      <th>co2_emissions_kt</th>\n",
       "      <td>12.685714</td>\n",
       "    </tr>\n",
       "    <tr>\n",
       "      <th>co2_emissions_capita</th>\n",
       "      <td>12.685714</td>\n",
       "    </tr>\n",
       "    <tr>\n",
       "      <th>forest_area</th>\n",
       "      <td>2.209524</td>\n",
       "    </tr>\n",
       "    <tr>\n",
       "      <th>population</th>\n",
       "      <td>0.628571</td>\n",
       "    </tr>\n",
       "    <tr>\n",
       "      <th>electricity_pro_hydro</th>\n",
       "      <td>44.704762</td>\n",
       "    </tr>\n",
       "    <tr>\n",
       "      <th>electricity_pro_natural_gas</th>\n",
       "      <td>44.704762</td>\n",
       "    </tr>\n",
       "    <tr>\n",
       "      <th>electricity_pro_nuclear</th>\n",
       "      <td>46.704762</td>\n",
       "    </tr>\n",
       "    <tr>\n",
       "      <th>electricity_pro_oil</th>\n",
       "      <td>44.704762</td>\n",
       "    </tr>\n",
       "    <tr>\n",
       "      <th>electricity_pro_coal</th>\n",
       "      <td>44.704762</td>\n",
       "    </tr>\n",
       "    <tr>\n",
       "      <th>electricity_pro_fossils</th>\n",
       "      <td>44.704762</td>\n",
       "    </tr>\n",
       "    <tr>\n",
       "      <th>electricity_pro_renewable</th>\n",
       "      <td>44.704762</td>\n",
       "    </tr>\n",
       "    <tr>\n",
       "      <th>pm_25</th>\n",
       "      <td>59.980952</td>\n",
       "    </tr>\n",
       "    <tr>\n",
       "      <th>sf6_emissions</th>\n",
       "      <td>89.752381</td>\n",
       "    </tr>\n",
       "    <tr>\n",
       "      <th>ghg_total</th>\n",
       "      <td>12.685714</td>\n",
       "    </tr>\n",
       "    <tr>\n",
       "      <th>ghg_growth</th>\n",
       "      <td>13.142857</td>\n",
       "    </tr>\n",
       "    <tr>\n",
       "      <th>ghg_capita</th>\n",
       "      <td>13.276190</td>\n",
       "    </tr>\n",
       "    <tr>\n",
       "      <th>mean_surface_temp</th>\n",
       "      <td>4.114286</td>\n",
       "    </tr>\n",
       "  </tbody>\n",
       "</table>\n",
       "</div>"
      ],
      "text/plain": [
       "                             percent_missing\n",
       "country                             0.000000\n",
       "iso_code                            0.000000\n",
       "year                                0.000000\n",
       "co2_emissions_kt                   12.685714\n",
       "co2_emissions_capita               12.685714\n",
       "forest_area                         2.209524\n",
       "population                          0.628571\n",
       "electricity_pro_hydro              44.704762\n",
       "electricity_pro_natural_gas        44.704762\n",
       "electricity_pro_nuclear            46.704762\n",
       "electricity_pro_oil                44.704762\n",
       "electricity_pro_coal               44.704762\n",
       "electricity_pro_fossils            44.704762\n",
       "electricity_pro_renewable          44.704762\n",
       "pm_25                              59.980952\n",
       "sf6_emissions                      89.752381\n",
       "ghg_total                          12.685714\n",
       "ghg_growth                         13.142857\n",
       "ghg_capita                         13.276190\n",
       "mean_surface_temp                   4.114286"
      ]
     },
     "execution_count": 184,
     "metadata": {},
     "output_type": "execute_result"
    }
   ],
   "source": [
    "percent_missing = climate_data.isnull().sum() * 100 / len(climate_data)\n",
    "missing_value_df = pd.DataFrame({'percent_missing': percent_missing})\n",
    "missing_value_df"
   ]
  },
  {
   "cell_type": "markdown",
   "metadata": {},
   "source": [
    "As electricity production variables, pm25 and sf6 emissions have more almost 50%\n",
    "of data missing, we can drop these variables. We drop variables with more than \n",
    "35% of data."
   ]
  },
  {
   "cell_type": "code",
   "execution_count": 185,
   "metadata": {},
   "outputs": [
    {
     "data": {
      "text/plain": [
       "Index(['country', 'iso_code', 'year', 'co2_emissions_kt',\n",
       "       'co2_emissions_capita', 'forest_area', 'population', 'ghg_total',\n",
       "       'ghg_growth', 'ghg_capita', 'mean_surface_temp'],\n",
       "      dtype='object')"
      ]
     },
     "execution_count": 185,
     "metadata": {},
     "output_type": "execute_result"
    }
   ],
   "source": [
    "perc = 35.0\n",
    "min_count =  int(((100-perc)/100)*climate_data.shape[0] + 1)\n",
    "climate_data = climate_data.dropna(axis = 1, thresh = min_count)\n",
    "climate_data.columns"
   ]
  },
  {
   "cell_type": "code",
   "execution_count": 186,
   "metadata": {},
   "outputs": [],
   "source": [
    "def missing_values_graph(frame, obs, time, var, Yname):\n",
    "    test = frame[[obs, time, var]]\n",
    "    test[var].fillna(-1, inplace=True)\n",
    "    test = test.groupby([obs, time])[var].aggregate('mean').unstack()\n",
    "    test[test > 0] = 1\n",
    "    cmap = sns.xkcd_palette([\"grey\", \"blue\"])\n",
    "    plt.figure(figsize=(10, 5))\n",
    "    ax = sns.heatmap(test, center=0, cmap=cmap, cbar=False,\n",
    "                     cbar_kws={'ticks': [-1, 0, 1]})\n",
    "    ax.set(yticklabels=[])\n",
    "    plt.ylabel(Yname+ \" (N=\" + str(len(test)) + \")\", fontsize=14)\n",
    "    plt.xlabel(\"\")\n",
    "    plt.title((var + \"\\n missing values (grey), availabe values (blue)\"),\n",
    "              fontsize=14)\n",
    "    plt.tight_layout()\n",
    "    plt.show()"
   ]
  },
  {
   "cell_type": "markdown",
   "metadata": {},
   "source": [
    "The above function creates a graph for the variable of interest. On the y-axsis you see the the observations (names in this case). On the x-axis you see the years. Available values are highlighed blue, while missing data are grey."
   ]
  },
  {
   "cell_type": "code",
   "execution_count": 187,
   "metadata": {},
   "outputs": [
    {
     "name": "stderr",
     "output_type": "stream",
     "text": [
      "<ipython-input-186-3bd2c6c465af>:3: SettingWithCopyWarning: \n",
      "A value is trying to be set on a copy of a slice from a DataFrame\n",
      "\n",
      "See the caveats in the documentation: https://pandas.pydata.org/pandas-docs/stable/user_guide/indexing.html#returning-a-view-versus-a-copy\n",
      "  test[var].fillna(-1, inplace=True)\n"
     ]
    },
    {
     "data": {
      "image/png": "[encoded data removed]",
      "text/plain": [
       "<Figure size 720x360 with 1 Axes>"
      ]
     },
     "metadata": {
      "needs_background": "light"
     },
     "output_type": "display_data"
    },
    {
     "name": "stdout",
     "output_type": "stream",
     "text": [
      "None\n"
     ]
    },
    {
     "name": "stderr",
     "output_type": "stream",
     "text": [
      "<ipython-input-186-3bd2c6c465af>:3: SettingWithCopyWarning: \n",
      "A value is trying to be set on a copy of a slice from a DataFrame\n",
      "\n",
      "See the caveats in the documentation: https://pandas.pydata.org/pandas-docs/stable/user_guide/indexing.html#returning-a-view-versus-a-copy\n",
      "  test[var].fillna(-1, inplace=True)\n"
     ]
    },
    {
     "data": {
      "image/png": "[encoded data removed]",
      "text/plain": [
       "<Figure size 720x360 with 1 Axes>"
      ]
     },
     "metadata": {
      "needs_background": "light"
     },
     "output_type": "display_data"
    },
    {
     "name": "stdout",
     "output_type": "stream",
     "text": [
      "None\n"
     ]
    },
    {
     "name": "stderr",
     "output_type": "stream",
     "text": [
      "<ipython-input-186-3bd2c6c465af>:3: SettingWithCopyWarning: \n",
      "A value is trying to be set on a copy of a slice from a DataFrame\n",
      "\n",
      "See the caveats in the documentation: https://pandas.pydata.org/pandas-docs/stable/user_guide/indexing.html#returning-a-view-versus-a-copy\n",
      "  test[var].fillna(-1, inplace=True)\n"
     ]
    },
    {
     "data": {
      "image/png": "[encoded data removed]",
      "text/plain": [
       "<Figure size 720x360 with 1 Axes>"
      ]
     },
     "metadata": {
      "needs_background": "light"
     },
     "output_type": "display_data"
    },
    {
     "name": "stdout",
     "output_type": "stream",
     "text": [
      "None\n"
     ]
    },
    {
     "name": "stderr",
     "output_type": "stream",
     "text": [
      "<ipython-input-186-3bd2c6c465af>:3: SettingWithCopyWarning: \n",
      "A value is trying to be set on a copy of a slice from a DataFrame\n",
      "\n",
      "See the caveats in the documentation: https://pandas.pydata.org/pandas-docs/stable/user_guide/indexing.html#returning-a-view-versus-a-copy\n",
      "  test[var].fillna(-1, inplace=True)\n"
     ]
    },
    {
     "data": {
      "image/png": "[encoded data removed]",
      "text/plain": [
       "<Figure size 720x360 with 1 Axes>"
      ]
     },
     "metadata": {
      "needs_background": "light"
     },
     "output_type": "display_data"
    },
    {
     "name": "stdout",
     "output_type": "stream",
     "text": [
      "None\n"
     ]
    },
    {
     "name": "stderr",
     "output_type": "stream",
     "text": [
      "<ipython-input-186-3bd2c6c465af>:3: SettingWithCopyWarning: \n",
      "A value is trying to be set on a copy of a slice from a DataFrame\n",
      "\n",
      "See the caveats in the documentation: https://pandas.pydata.org/pandas-docs/stable/user_guide/indexing.html#returning-a-view-versus-a-copy\n",
      "  test[var].fillna(-1, inplace=True)\n"
     ]
    },
    {
     "data": {
      "image/png": "[encoded data removed]",
      "text/plain": [
       "<Figure size 720x360 with 1 Axes>"
      ]
     },
     "metadata": {
      "needs_background": "light"
     },
     "output_type": "display_data"
    },
    {
     "name": "stdout",
     "output_type": "stream",
     "text": [
      "None\n"
     ]
    },
    {
     "name": "stderr",
     "output_type": "stream",
     "text": [
      "<ipython-input-186-3bd2c6c465af>:3: SettingWithCopyWarning: \n",
      "A value is trying to be set on a copy of a slice from a DataFrame\n",
      "\n",
      "See the caveats in the documentation: https://pandas.pydata.org/pandas-docs/stable/user_guide/indexing.html#returning-a-view-versus-a-copy\n",
      "  test[var].fillna(-1, inplace=True)\n"
     ]
    },
    {
     "data": {
      "image/png": "[encoded data removed]",
      "text/plain": [
       "<Figure size 720x360 with 1 Axes>"
      ]
     },
     "metadata": {
      "needs_background": "light"
     },
     "output_type": "display_data"
    },
    {
     "name": "stdout",
     "output_type": "stream",
     "text": [
      "None\n"
     ]
    },
    {
     "name": "stderr",
     "output_type": "stream",
     "text": [
      "<ipython-input-186-3bd2c6c465af>:3: SettingWithCopyWarning: \n",
      "A value is trying to be set on a copy of a slice from a DataFrame\n",
      "\n",
      "See the caveats in the documentation: https://pandas.pydata.org/pandas-docs/stable/user_guide/indexing.html#returning-a-view-versus-a-copy\n",
      "  test[var].fillna(-1, inplace=True)\n"
     ]
    },
    {
     "data": {
      "image/png": "[encoded data removed]",
      "text/plain": [
       "<Figure size 720x360 with 1 Axes>"
      ]
     },
     "metadata": {
      "needs_background": "light"
     },
     "output_type": "display_data"
    },
    {
     "name": "stdout",
     "output_type": "stream",
     "text": [
      "None\n"
     ]
    },
    {
     "name": "stderr",
     "output_type": "stream",
     "text": [
      "<ipython-input-186-3bd2c6c465af>:3: SettingWithCopyWarning: \n",
      "A value is trying to be set on a copy of a slice from a DataFrame\n",
      "\n",
      "See the caveats in the documentation: https://pandas.pydata.org/pandas-docs/stable/user_guide/indexing.html#returning-a-view-versus-a-copy\n",
      "  test[var].fillna(-1, inplace=True)\n"
     ]
    },
    {
     "data": {
      "image/png": "[encoded data removed]",
      "text/plain": [
       "<Figure size 720x360 with 1 Axes>"
      ]
     },
     "metadata": {
      "needs_background": "light"
     },
     "output_type": "display_data"
    },
    {
     "name": "stdout",
     "output_type": "stream",
     "text": [
      "None\n"
     ]
    }
   ],
   "source": [
    "for col in climate_data.columns[3:]:\n",
    "    print(missing_values_graph(climate_data, \"iso_code\", \"year\", col, col))"
   ]
  },
  {
   "cell_type": "markdown",
   "metadata": {},
   "source": [
    "### Exploring economic data"
   ]
  },
  {
   "cell_type": "code",
   "execution_count": 188,
   "metadata": {},
   "outputs": [
    {
     "data": {
      "text/html": [
       "<div>\n",
       "<style scoped>\n",
       "    .dataframe tbody tr th:only-of-type {\n",
       "        vertical-align: middle;\n",
       "    }\n",
       "\n",
       "    .dataframe tbody tr th {\n",
       "        vertical-align: top;\n",
       "    }\n",
       "\n",
       "    .dataframe thead th {\n",
       "        text-align: right;\n",
       "    }\n",
       "</style>\n",
       "<table border=\"1\" class=\"dataframe\">\n",
       "  <thead>\n",
       "    <tr style=\"text-align: right;\">\n",
       "      <th></th>\n",
       "      <th>country</th>\n",
       "      <th>iso_code</th>\n",
       "      <th>year</th>\n",
       "      <th>gdp_constant_change</th>\n",
       "      <th>gdp_capita</th>\n",
       "      <th>vol_imports_change</th>\n",
       "      <th>vol_exports_change</th>\n",
       "      <th>population</th>\n",
       "      <th>gdp_current</th>\n",
       "      <th>energy_usage</th>\n",
       "      <th>imports_gns</th>\n",
       "      <th>exports_gns</th>\n",
       "    </tr>\n",
       "  </thead>\n",
       "  <tbody>\n",
       "    <tr>\n",
       "      <th>0</th>\n",
       "      <td>Afghanistan</td>\n",
       "      <td>AFG</td>\n",
       "      <td>1995</td>\n",
       "      <td></td>\n",
       "      <td></td>\n",
       "      <td></td>\n",
       "      <td></td>\n",
       "      <td></td>\n",
       "      <td></td>\n",
       "      <td></td>\n",
       "      <td></td>\n",
       "      <td></td>\n",
       "    </tr>\n",
       "    <tr>\n",
       "      <th>1</th>\n",
       "      <td>Albania</td>\n",
       "      <td>ALB</td>\n",
       "      <td>1995</td>\n",
       "      <td>8.9</td>\n",
       "      <td>4582.93</td>\n",
       "      <td>0.0</td>\n",
       "      <td></td>\n",
       "      <td>3.188</td>\n",
       "      <td>9.643</td>\n",
       "      <td>417.034843</td>\n",
       "      <td></td>\n",
       "      <td></td>\n",
       "    </tr>\n",
       "    <tr>\n",
       "      <th>2</th>\n",
       "      <td>Algeria</td>\n",
       "      <td>DZA</td>\n",
       "      <td>1995</td>\n",
       "      <td>3.848</td>\n",
       "      <td>8158.72</td>\n",
       "      <td>2.0</td>\n",
       "      <td>5.733</td>\n",
       "      <td>28.06</td>\n",
       "      <td>204.348</td>\n",
       "      <td>843.041996</td>\n",
       "      <td>16590532511.0</td>\n",
       "      <td>33084611492.0</td>\n",
       "    </tr>\n",
       "    <tr>\n",
       "      <th>3</th>\n",
       "      <td>Angola</td>\n",
       "      <td>AGO</td>\n",
       "      <td>1995</td>\n",
       "      <td>10.364</td>\n",
       "      <td>3973.12</td>\n",
       "      <td>27.968</td>\n",
       "      <td>12.24</td>\n",
       "      <td>14.771</td>\n",
       "      <td>37.582</td>\n",
       "      <td>455.666087</td>\n",
       "      <td></td>\n",
       "      <td></td>\n",
       "    </tr>\n",
       "    <tr>\n",
       "      <th>4</th>\n",
       "      <td>Antigua and Barbuda</td>\n",
       "      <td>ATG</td>\n",
       "      <td>1995</td>\n",
       "      <td>-4.359</td>\n",
       "      <td>16127.97</td>\n",
       "      <td></td>\n",
       "      <td></td>\n",
       "      <td>0.067</td>\n",
       "      <td>0.909</td>\n",
       "      <td></td>\n",
       "      <td></td>\n",
       "      <td></td>\n",
       "    </tr>\n",
       "  </tbody>\n",
       "</table>\n",
       "</div>"
      ],
      "text/plain": [
       "               country iso_code  year gdp_constant_change gdp_capita  \\\n",
       "0          Afghanistan      AFG  1995                                  \n",
       "1              Albania      ALB  1995                 8.9    4582.93   \n",
       "2              Algeria      DZA  1995               3.848    8158.72   \n",
       "3               Angola      AGO  1995              10.364    3973.12   \n",
       "4  Antigua and Barbuda      ATG  1995              -4.359   16127.97   \n",
       "\n",
       "  vol_imports_change vol_exports_change population gdp_current energy_usage  \\\n",
       "0                                                                             \n",
       "1                0.0                         3.188       9.643   417.034843   \n",
       "2                2.0              5.733      28.06     204.348   843.041996   \n",
       "3             27.968              12.24     14.771      37.582   455.666087   \n",
       "4                                            0.067       0.909                \n",
       "\n",
       "     imports_gns    exports_gns  \n",
       "0                                \n",
       "1                                \n",
       "2  16590532511.0  33084611492.0  \n",
       "3                                \n",
       "4                                "
      ]
     },
     "execution_count": 188,
     "metadata": {},
     "output_type": "execute_result"
    }
   ],
   "source": [
    "economic_data.head()"
   ]
  },
  {
   "cell_type": "code",
   "execution_count": 189,
   "metadata": {},
   "outputs": [
    {
     "name": "stdout",
     "output_type": "stream",
     "text": [
      "<class 'pandas.core.frame.DataFrame'>\n",
      "RangeIndex: 5070 entries, 0 to 5069\n",
      "Data columns (total 12 columns):\n",
      " #   Column               Non-Null Count  Dtype \n",
      "---  ------               --------------  ----- \n",
      " 0   country              5070 non-null   object\n",
      " 1   iso_code             5070 non-null   object\n",
      " 2   year                 5070 non-null   int64 \n",
      " 3   gdp_constant_change  5070 non-null   object\n",
      " 4   gdp_capita           5070 non-null   object\n",
      " 5   vol_imports_change   5070 non-null   object\n",
      " 6   vol_exports_change   5070 non-null   object\n",
      " 7   population           5070 non-null   object\n",
      " 8   gdp_current          5070 non-null   object\n",
      " 9   energy_usage         5070 non-null   object\n",
      " 10  imports_gns          5070 non-null   object\n",
      " 11  exports_gns          5070 non-null   object\n",
      "dtypes: int64(1), object(11)\n",
      "memory usage: 475.4+ KB\n"
     ]
    }
   ],
   "source": [
    "economic_data.info()"
   ]
  },
  {
   "cell_type": "code",
   "execution_count": 190,
   "metadata": {},
   "outputs": [
    {
     "name": "stdout",
     "output_type": "stream",
     "text": [
      "<class 'pandas.core.frame.DataFrame'>\n",
      "RangeIndex: 5070 entries, 0 to 5069\n",
      "Data columns (total 12 columns):\n",
      " #   Column               Non-Null Count  Dtype  \n",
      "---  ------               --------------  -----  \n",
      " 0   country              5070 non-null   object \n",
      " 1   iso_code             5070 non-null   object \n",
      " 2   year                 5070 non-null   int64  \n",
      " 3   gdp_constant_change  4932 non-null   float64\n",
      " 4   gdp_capita           4926 non-null   float64\n",
      " 5   vol_imports_change   4399 non-null   float64\n",
      " 6   vol_exports_change   4425 non-null   float64\n",
      " 7   population           4948 non-null   float64\n",
      " 8   gdp_current          4957 non-null   float64\n",
      " 9   energy_usage         2851 non-null   float64\n",
      " 10  imports_gns          3730 non-null   float64\n",
      " 11  exports_gns          3730 non-null   float64\n",
      "dtypes: float64(9), int64(1), object(2)\n",
      "memory usage: 475.4+ KB\n"
     ]
    }
   ],
   "source": [
    "# convert string columns to numeric dtype\n",
    "for col in economic_data.columns[3:]:\n",
    "    economic_data[col]=pd.to_numeric(economic_data[col])\n",
    "economic_data.info()"
   ]
  },
  {
   "cell_type": "code",
   "execution_count": 191,
   "metadata": {},
   "outputs": [
    {
     "data": {
      "text/html": [
       "<div>\n",
       "<style scoped>\n",
       "    .dataframe tbody tr th:only-of-type {\n",
       "        vertical-align: middle;\n",
       "    }\n",
       "\n",
       "    .dataframe tbody tr th {\n",
       "        vertical-align: top;\n",
       "    }\n",
       "\n",
       "    .dataframe thead th {\n",
       "        text-align: right;\n",
       "    }\n",
       "</style>\n",
       "<table border=\"1\" class=\"dataframe\">\n",
       "  <thead>\n",
       "    <tr style=\"text-align: right;\">\n",
       "      <th></th>\n",
       "      <th>percent_missing</th>\n",
       "    </tr>\n",
       "  </thead>\n",
       "  <tbody>\n",
       "    <tr>\n",
       "      <th>country</th>\n",
       "      <td>0.000000</td>\n",
       "    </tr>\n",
       "    <tr>\n",
       "      <th>iso_code</th>\n",
       "      <td>0.000000</td>\n",
       "    </tr>\n",
       "    <tr>\n",
       "      <th>year</th>\n",
       "      <td>0.000000</td>\n",
       "    </tr>\n",
       "    <tr>\n",
       "      <th>gdp_constant_change</th>\n",
       "      <td>2.628571</td>\n",
       "    </tr>\n",
       "    <tr>\n",
       "      <th>gdp_capita</th>\n",
       "      <td>2.742857</td>\n",
       "    </tr>\n",
       "    <tr>\n",
       "      <th>vol_imports_change</th>\n",
       "      <td>12.780952</td>\n",
       "    </tr>\n",
       "    <tr>\n",
       "      <th>vol_exports_change</th>\n",
       "      <td>12.285714</td>\n",
       "    </tr>\n",
       "    <tr>\n",
       "      <th>population</th>\n",
       "      <td>2.323810</td>\n",
       "    </tr>\n",
       "    <tr>\n",
       "      <th>gdp_current</th>\n",
       "      <td>2.152381</td>\n",
       "    </tr>\n",
       "    <tr>\n",
       "      <th>energy_usage</th>\n",
       "      <td>42.266667</td>\n",
       "    </tr>\n",
       "    <tr>\n",
       "      <th>imports_gns</th>\n",
       "      <td>25.523810</td>\n",
       "    </tr>\n",
       "    <tr>\n",
       "      <th>exports_gns</th>\n",
       "      <td>25.523810</td>\n",
       "    </tr>\n",
       "  </tbody>\n",
       "</table>\n",
       "</div>"
      ],
      "text/plain": [
       "                     percent_missing\n",
       "country                     0.000000\n",
       "iso_code                    0.000000\n",
       "year                        0.000000\n",
       "gdp_constant_change         2.628571\n",
       "gdp_capita                  2.742857\n",
       "vol_imports_change         12.780952\n",
       "vol_exports_change         12.285714\n",
       "population                  2.323810\n",
       "gdp_current                 2.152381\n",
       "energy_usage               42.266667\n",
       "imports_gns                25.523810\n",
       "exports_gns                25.523810"
      ]
     },
     "execution_count": 191,
     "metadata": {},
     "output_type": "execute_result"
    }
   ],
   "source": [
    "percent_missing = economic_data.isnull().sum() * 100 / len(climate_data)\n",
    "missing_value_df = pd.DataFrame({'percent_missing': percent_missing})\n",
    "missing_value_df"
   ]
  },
  {
   "cell_type": "code",
   "execution_count": 192,
   "metadata": {},
   "outputs": [
    {
     "data": {
      "text/plain": [
       "(5070, 12)"
      ]
     },
     "execution_count": 192,
     "metadata": {},
     "output_type": "execute_result"
    }
   ],
   "source": [
    "economic_data.shape"
   ]
  },
  {
   "cell_type": "code",
   "execution_count": 193,
   "metadata": {},
   "outputs": [
    {
     "data": {
      "text/plain": [
       "(5070, 11)"
      ]
     },
     "execution_count": 193,
     "metadata": {},
     "output_type": "execute_result"
    }
   ],
   "source": [
    "perc = 35.0\n",
    "min_count =  int(((100-perc)/100)*economic_data.shape[0] + 1)\n",
    "economic_data = economic_data.dropna(axis = 1, thresh = min_count)\n",
    "economic_data.shape"
   ]
  },
  {
   "cell_type": "code",
   "execution_count": 194,
   "metadata": {},
   "outputs": [
    {
     "name": "stderr",
     "output_type": "stream",
     "text": [
      "<ipython-input-186-3bd2c6c465af>:3: SettingWithCopyWarning: \n",
      "A value is trying to be set on a copy of a slice from a DataFrame\n",
      "\n",
      "See the caveats in the documentation: https://pandas.pydata.org/pandas-docs/stable/user_guide/indexing.html#returning-a-view-versus-a-copy\n",
      "  test[var].fillna(-1, inplace=True)\n"
     ]
    },
    {
     "data": {
      "image/png": "[encoded data removed]",
      "text/plain": [
       "<Figure size 720x360 with 1 Axes>"
      ]
     },
     "metadata": {
      "needs_background": "light"
     },
     "output_type": "display_data"
    },
    {
     "name": "stdout",
     "output_type": "stream",
     "text": [
      "None\n"
     ]
    },
    {
     "name": "stderr",
     "output_type": "stream",
     "text": [
      "<ipython-input-186-3bd2c6c465af>:3: SettingWithCopyWarning: \n",
      "A value is trying to be set on a copy of a slice from a DataFrame\n",
      "\n",
      "See the caveats in the documentation: https://pandas.pydata.org/pandas-docs/stable/user_guide/indexing.html#returning-a-view-versus-a-copy\n",
      "  test[var].fillna(-1, inplace=True)\n"
     ]
    },
    {
     "data": {
      "image/png": "[encoded data removed]",
      "text/plain": [
       "<Figure size 720x360 with 1 Axes>"
      ]
     },
     "metadata": {
      "needs_background": "light"
     },
     "output_type": "display_data"
    },
    {
     "name": "stdout",
     "output_type": "stream",
     "text": [
      "None\n"
     ]
    },
    {
     "name": "stderr",
     "output_type": "stream",
     "text": [
      "<ipython-input-186-3bd2c6c465af>:3: SettingWithCopyWarning: \n",
      "A value is trying to be set on a copy of a slice from a DataFrame\n",
      "\n",
      "See the caveats in the documentation: https://pandas.pydata.org/pandas-docs/stable/user_guide/indexing.html#returning-a-view-versus-a-copy\n",
      "  test[var].fillna(-1, inplace=True)\n"
     ]
    },
    {
     "data": {
      "image/png": "[encoded data removed]",
      "text/plain": [
       "<Figure size 720x360 with 1 Axes>"
      ]
     },
     "metadata": {
      "needs_background": "light"
     },
     "output_type": "display_data"
    },
    {
     "name": "stdout",
     "output_type": "stream",
     "text": [
      "None\n"
     ]
    },
    {
     "name": "stderr",
     "output_type": "stream",
     "text": [
      "<ipython-input-186-3bd2c6c465af>:3: SettingWithCopyWarning: \n",
      "A value is trying to be set on a copy of a slice from a DataFrame\n",
      "\n",
      "See the caveats in the documentation: https://pandas.pydata.org/pandas-docs/stable/user_guide/indexing.html#returning-a-view-versus-a-copy\n",
      "  test[var].fillna(-1, inplace=True)\n"
     ]
    },
    {
     "data": {
      "image/png": "[encoded data removed]",
      "text/plain": [
       "<Figure size 720x360 with 1 Axes>"
      ]
     },
     "metadata": {
      "needs_background": "light"
     },
     "output_type": "display_data"
    },
    {
     "name": "stdout",
     "output_type": "stream",
     "text": [
      "None\n"
     ]
    },
    {
     "name": "stderr",
     "output_type": "stream",
     "text": [
      "<ipython-input-186-3bd2c6c465af>:3: SettingWithCopyWarning: \n",
      "A value is trying to be set on a copy of a slice from a DataFrame\n",
      "\n",
      "See the caveats in the documentation: https://pandas.pydata.org/pandas-docs/stable/user_guide/indexing.html#returning-a-view-versus-a-copy\n",
      "  test[var].fillna(-1, inplace=True)\n"
     ]
    },
    {
     "data": {
      "image/png": "[encoded data removed]",
      "text/plain": [
       "<Figure size 720x360 with 1 Axes>"
      ]
     },
     "metadata": {
      "needs_background": "light"
     },
     "output_type": "display_data"
    },
    {
     "name": "stdout",
     "output_type": "stream",
     "text": [
      "None\n"
     ]
    },
    {
     "name": "stderr",
     "output_type": "stream",
     "text": [
      "<ipython-input-186-3bd2c6c465af>:3: SettingWithCopyWarning: \n",
      "A value is trying to be set on a copy of a slice from a DataFrame\n",
      "\n",
      "See the caveats in the documentation: https://pandas.pydata.org/pandas-docs/stable/user_guide/indexing.html#returning-a-view-versus-a-copy\n",
      "  test[var].fillna(-1, inplace=True)\n"
     ]
    },
    {
     "data": {
      "image/png": "[encoded data removed]",
      "text/plain": [
       "<Figure size 720x360 with 1 Axes>"
      ]
     },
     "metadata": {
      "needs_background": "light"
     },
     "output_type": "display_data"
    },
    {
     "name": "stdout",
     "output_type": "stream",
     "text": [
      "None\n"
     ]
    },
    {
     "name": "stderr",
     "output_type": "stream",
     "text": [
      "<ipython-input-186-3bd2c6c465af>:3: SettingWithCopyWarning: \n",
      "A value is trying to be set on a copy of a slice from a DataFrame\n",
      "\n",
      "See the caveats in the documentation: https://pandas.pydata.org/pandas-docs/stable/user_guide/indexing.html#returning-a-view-versus-a-copy\n",
      "  test[var].fillna(-1, inplace=True)\n"
     ]
    },
    {
     "data": {
      "image/png": "[encoded data removed]",
      "text/plain": [
       "<Figure size 720x360 with 1 Axes>"
      ]
     },
     "metadata": {
      "needs_background": "light"
     },
     "output_type": "display_data"
    },
    {
     "name": "stdout",
     "output_type": "stream",
     "text": [
      "None\n"
     ]
    },
    {
     "name": "stderr",
     "output_type": "stream",
     "text": [
      "<ipython-input-186-3bd2c6c465af>:3: SettingWithCopyWarning: \n",
      "A value is trying to be set on a copy of a slice from a DataFrame\n",
      "\n",
      "See the caveats in the documentation: https://pandas.pydata.org/pandas-docs/stable/user_guide/indexing.html#returning-a-view-versus-a-copy\n",
      "  test[var].fillna(-1, inplace=True)\n"
     ]
    },
    {
     "data": {
      "image/png": "[encoded data removed]",
      "text/plain": [
       "<Figure size 720x360 with 1 Axes>"
      ]
     },
     "metadata": {
      "needs_background": "light"
     },
     "output_type": "display_data"
    },
    {
     "name": "stdout",
     "output_type": "stream",
     "text": [
      "None\n"
     ]
    }
   ],
   "source": [
    "for col in economic_data.columns[3:]:\n",
    "    print(missing_values_graph(economic_data, \"iso_code\", \"year\", col, col))"
   ]
  },
  {
   "cell_type": "markdown",
   "metadata": {},
   "source": [
    "# Selecting Countries for Region Specific Analysis"
   ]
  },
  {
   "cell_type": "markdown",
   "metadata": {},
   "source": [
    "We want to keep countries for which we have enough data to perform further analysis. We start by looking at the percentage of missing values for each country, and ddrop the countries for which this proportion is greater than 35%. "
   ]
  },
  {
   "cell_type": "code",
   "execution_count": 195,
   "metadata": {},
   "outputs": [
    {
     "data": {
      "text/html": [
       "<div>\n",
       "<style scoped>\n",
       "    .dataframe tbody tr th:only-of-type {\n",
       "        vertical-align: middle;\n",
       "    }\n",
       "\n",
       "    .dataframe tbody tr th {\n",
       "        vertical-align: top;\n",
       "    }\n",
       "\n",
       "    .dataframe thead th {\n",
       "        text-align: right;\n",
       "    }\n",
       "</style>\n",
       "<table border=\"1\" class=\"dataframe\">\n",
       "  <thead>\n",
       "    <tr style=\"text-align: right;\">\n",
       "      <th></th>\n",
       "      <th>country</th>\n",
       "      <th>iso_code</th>\n",
       "      <th>year</th>\n",
       "      <th>gdp_constant_change</th>\n",
       "      <th>gdp_capita</th>\n",
       "      <th>vol_imports_change</th>\n",
       "      <th>vol_exports_change</th>\n",
       "      <th>population_x</th>\n",
       "      <th>gdp_current</th>\n",
       "      <th>imports_gns</th>\n",
       "      <th>exports_gns</th>\n",
       "      <th>co2_emissions_kt</th>\n",
       "      <th>co2_emissions_capita</th>\n",
       "      <th>forest_area</th>\n",
       "      <th>population_y</th>\n",
       "      <th>ghg_total</th>\n",
       "      <th>ghg_growth</th>\n",
       "      <th>ghg_capita</th>\n",
       "      <th>mean_surface_temp</th>\n",
       "    </tr>\n",
       "  </thead>\n",
       "  <tbody>\n",
       "    <tr>\n",
       "      <th>0</th>\n",
       "      <td>Afghanistan</td>\n",
       "      <td>AFG</td>\n",
       "      <td>1995</td>\n",
       "      <td>NaN</td>\n",
       "      <td>NaN</td>\n",
       "      <td>NaN</td>\n",
       "      <td>NaN</td>\n",
       "      <td>NaN</td>\n",
       "      <td>NaN</td>\n",
       "      <td>NaN</td>\n",
       "      <td>NaN</td>\n",
       "      <td>1250.0</td>\n",
       "      <td>0.069020</td>\n",
       "      <td>1.850994</td>\n",
       "      <td>18110662.0</td>\n",
       "      <td>13480.0</td>\n",
       "      <td>1.88</td>\n",
       "      <td>0.61</td>\n",
       "      <td>0.401</td>\n",
       "    </tr>\n",
       "    <tr>\n",
       "      <th>1</th>\n",
       "      <td>Albania</td>\n",
       "      <td>ALB</td>\n",
       "      <td>1995</td>\n",
       "      <td>8.900</td>\n",
       "      <td>4582.93</td>\n",
       "      <td>0.000</td>\n",
       "      <td>NaN</td>\n",
       "      <td>3.188</td>\n",
       "      <td>9.643</td>\n",
       "      <td>NaN</td>\n",
       "      <td>NaN</td>\n",
       "      <td>1950.0</td>\n",
       "      <td>0.611710</td>\n",
       "      <td>28.432482</td>\n",
       "      <td>3187784.0</td>\n",
       "      <td>7430.0</td>\n",
       "      <td>-3.06</td>\n",
       "      <td>2.39</td>\n",
       "      <td>-0.127</td>\n",
       "    </tr>\n",
       "    <tr>\n",
       "      <th>2</th>\n",
       "      <td>Algeria</td>\n",
       "      <td>DZA</td>\n",
       "      <td>1995</td>\n",
       "      <td>3.848</td>\n",
       "      <td>8158.72</td>\n",
       "      <td>2.000</td>\n",
       "      <td>5.733</td>\n",
       "      <td>28.060</td>\n",
       "      <td>204.348</td>\n",
       "      <td>1.659053e+10</td>\n",
       "      <td>3.308461e+10</td>\n",
       "      <td>73050.0</td>\n",
       "      <td>2.540181</td>\n",
       "      <td>0.681435</td>\n",
       "      <td>28757788.0</td>\n",
       "      <td>103000.0</td>\n",
       "      <td>4.23</td>\n",
       "      <td>3.60</td>\n",
       "      <td>0.619</td>\n",
       "    </tr>\n",
       "    <tr>\n",
       "      <th>3</th>\n",
       "      <td>Angola</td>\n",
       "      <td>AGO</td>\n",
       "      <td>1995</td>\n",
       "      <td>10.364</td>\n",
       "      <td>3973.12</td>\n",
       "      <td>27.968</td>\n",
       "      <td>12.240</td>\n",
       "      <td>14.771</td>\n",
       "      <td>37.582</td>\n",
       "      <td>NaN</td>\n",
       "      <td>NaN</td>\n",
       "      <td>10780.0</td>\n",
       "      <td>0.773026</td>\n",
       "      <td>62.954757</td>\n",
       "      <td>13945205.0</td>\n",
       "      <td>48460.0</td>\n",
       "      <td>6.50</td>\n",
       "      <td>5.12</td>\n",
       "      <td>0.827</td>\n",
       "    </tr>\n",
       "    <tr>\n",
       "      <th>4</th>\n",
       "      <td>Antigua and Barbuda</td>\n",
       "      <td>ATG</td>\n",
       "      <td>1995</td>\n",
       "      <td>-4.359</td>\n",
       "      <td>16127.97</td>\n",
       "      <td>NaN</td>\n",
       "      <td>NaN</td>\n",
       "      <td>0.067</td>\n",
       "      <td>0.909</td>\n",
       "      <td>NaN</td>\n",
       "      <td>NaN</td>\n",
       "      <td>270.0</td>\n",
       "      <td>3.931733</td>\n",
       "      <td>22.227273</td>\n",
       "      <td>68672.0</td>\n",
       "      <td>460.0</td>\n",
       "      <td>6.14</td>\n",
       "      <td>6.69</td>\n",
       "      <td>0.522</td>\n",
       "    </tr>\n",
       "  </tbody>\n",
       "</table>\n",
       "</div>"
      ],
      "text/plain": [
       "               country iso_code  year  gdp_constant_change  gdp_capita  \\\n",
       "0          Afghanistan      AFG  1995                  NaN         NaN   \n",
       "1              Albania      ALB  1995                8.900     4582.93   \n",
       "2              Algeria      DZA  1995                3.848     8158.72   \n",
       "3               Angola      AGO  1995               10.364     3973.12   \n",
       "4  Antigua and Barbuda      ATG  1995               -4.359    16127.97   \n",
       "\n",
       "   vol_imports_change  vol_exports_change  population_x  gdp_current  \\\n",
       "0                 NaN                 NaN           NaN          NaN   \n",
       "1               0.000                 NaN         3.188        9.643   \n",
       "2               2.000               5.733        28.060      204.348   \n",
       "3              27.968              12.240        14.771       37.582   \n",
       "4                 NaN                 NaN         0.067        0.909   \n",
       "\n",
       "    imports_gns   exports_gns  co2_emissions_kt  co2_emissions_capita  \\\n",
       "0           NaN           NaN            1250.0              0.069020   \n",
       "1           NaN           NaN            1950.0              0.611710   \n",
       "2  1.659053e+10  3.308461e+10           73050.0              2.540181   \n",
       "3           NaN           NaN           10780.0              0.773026   \n",
       "4           NaN           NaN             270.0              3.931733   \n",
       "\n",
       "   forest_area  population_y  ghg_total  ghg_growth  ghg_capita  \\\n",
       "0     1.850994    18110662.0    13480.0        1.88        0.61   \n",
       "1    28.432482     3187784.0     7430.0       -3.06        2.39   \n",
       "2     0.681435    28757788.0   103000.0        4.23        3.60   \n",
       "3    62.954757    13945205.0    48460.0        6.50        5.12   \n",
       "4    22.227273       68672.0      460.0        6.14        6.69   \n",
       "\n",
       "   mean_surface_temp  \n",
       "0              0.401  \n",
       "1             -0.127  \n",
       "2              0.619  \n",
       "3              0.827  \n",
       "4              0.522  "
      ]
     },
     "execution_count": 195,
     "metadata": {},
     "output_type": "execute_result"
    }
   ],
   "source": [
    "combined_data = pd.merge(economic_data, climate_data, on = [\"iso_code\", \"year\", \"country\"], how = \"left\")\n",
    "combined_data.head()"
   ]
  },
  {
   "cell_type": "code",
   "execution_count": 196,
   "metadata": {},
   "outputs": [],
   "source": [
    "def missing_data_prop(df):\n",
    "    perc = 35.0\n",
    "    min_count =  int(((100-perc)/100)*df.shape[0] + 1)\n",
    "    df = df.dropna(axis = 1, thresh = min_count)\n",
    "    return df"
   ]
  },
  {
   "cell_type": "code",
   "execution_count": 197,
   "metadata": {},
   "outputs": [],
   "source": [
    "# \n",
    "drop_countries = []\n",
    "for country in combined_data[\"iso_code\"].unique():\n",
    "    df = combined_data[combined_data[\"iso_code\"] == country]\n",
    "    df_clean = missing_data_prop(df)\n",
    "    if df.shape[1] != df_clean.shape[1]:\n",
    "        drop_countries.append(country)\n",
    "\n",
    "combined_data = combined_data[combined_data.iso_code.isin(drop_countries) == False]"
   ]
  },
  {
   "cell_type": "code",
   "execution_count": 198,
   "metadata": {},
   "outputs": [
    {
     "data": {
      "text/plain": [
       "114"
      ]
     },
     "execution_count": 198,
     "metadata": {},
     "output_type": "execute_result"
    }
   ],
   "source": [
    "#114 countries left\n",
    "len(combined_data.iso_code.unique())"
   ]
  },
  {
   "cell_type": "markdown",
   "metadata": {},
   "source": [
    "# Pooled OLS"
   ]
  },
  {
   "cell_type": "code",
   "execution_count": 199,
   "metadata": {},
   "outputs": [
    {
     "data": {
      "text/html": [
       "<div>\n",
       "<style scoped>\n",
       "    .dataframe tbody tr th:only-of-type {\n",
       "        vertical-align: middle;\n",
       "    }\n",
       "\n",
       "    .dataframe tbody tr th {\n",
       "        vertical-align: top;\n",
       "    }\n",
       "\n",
       "    .dataframe thead th {\n",
       "        text-align: right;\n",
       "    }\n",
       "</style>\n",
       "<table border=\"1\" class=\"dataframe\">\n",
       "  <thead>\n",
       "    <tr style=\"text-align: right;\">\n",
       "      <th></th>\n",
       "      <th>country</th>\n",
       "      <th>iso_code</th>\n",
       "      <th>year</th>\n",
       "      <th>gdp_constant_change</th>\n",
       "      <th>gdp_capita</th>\n",
       "      <th>vol_imports_change</th>\n",
       "      <th>vol_exports_change</th>\n",
       "      <th>population_x</th>\n",
       "      <th>gdp_current</th>\n",
       "      <th>imports_gns</th>\n",
       "      <th>exports_gns</th>\n",
       "      <th>co2_emissions_kt</th>\n",
       "      <th>co2_emissions_capita</th>\n",
       "      <th>forest_area</th>\n",
       "      <th>population_y</th>\n",
       "      <th>ghg_total</th>\n",
       "      <th>ghg_growth</th>\n",
       "      <th>ghg_capita</th>\n",
       "      <th>mean_surface_temp</th>\n",
       "    </tr>\n",
       "  </thead>\n",
       "  <tbody>\n",
       "    <tr>\n",
       "      <th>1</th>\n",
       "      <td>Albania</td>\n",
       "      <td>ALB</td>\n",
       "      <td>1995</td>\n",
       "      <td>8.900</td>\n",
       "      <td>4582.93</td>\n",
       "      <td>0.000</td>\n",
       "      <td>NaN</td>\n",
       "      <td>3.188</td>\n",
       "      <td>9.643</td>\n",
       "      <td>NaN</td>\n",
       "      <td>NaN</td>\n",
       "      <td>1950.0</td>\n",
       "      <td>0.611710</td>\n",
       "      <td>28.432482</td>\n",
       "      <td>3187784.0</td>\n",
       "      <td>7430.0</td>\n",
       "      <td>-3.06</td>\n",
       "      <td>2.39</td>\n",
       "      <td>-0.127</td>\n",
       "    </tr>\n",
       "    <tr>\n",
       "      <th>2</th>\n",
       "      <td>Algeria</td>\n",
       "      <td>DZA</td>\n",
       "      <td>1995</td>\n",
       "      <td>3.848</td>\n",
       "      <td>8158.72</td>\n",
       "      <td>2.000</td>\n",
       "      <td>5.733</td>\n",
       "      <td>28.060</td>\n",
       "      <td>204.348</td>\n",
       "      <td>1.659053e+10</td>\n",
       "      <td>3.308461e+10</td>\n",
       "      <td>73050.0</td>\n",
       "      <td>2.540181</td>\n",
       "      <td>0.681435</td>\n",
       "      <td>28757788.0</td>\n",
       "      <td>103000.0</td>\n",
       "      <td>4.23</td>\n",
       "      <td>3.60</td>\n",
       "      <td>0.619</td>\n",
       "    </tr>\n",
       "    <tr>\n",
       "      <th>3</th>\n",
       "      <td>Angola</td>\n",
       "      <td>AGO</td>\n",
       "      <td>1995</td>\n",
       "      <td>10.364</td>\n",
       "      <td>3973.12</td>\n",
       "      <td>27.968</td>\n",
       "      <td>12.240</td>\n",
       "      <td>14.771</td>\n",
       "      <td>37.582</td>\n",
       "      <td>NaN</td>\n",
       "      <td>NaN</td>\n",
       "      <td>10780.0</td>\n",
       "      <td>0.773026</td>\n",
       "      <td>62.954757</td>\n",
       "      <td>13945205.0</td>\n",
       "      <td>48460.0</td>\n",
       "      <td>6.50</td>\n",
       "      <td>5.12</td>\n",
       "      <td>0.827</td>\n",
       "    </tr>\n",
       "    <tr>\n",
       "      <th>5</th>\n",
       "      <td>Argentina</td>\n",
       "      <td>ARG</td>\n",
       "      <td>1995</td>\n",
       "      <td>-2.845</td>\n",
       "      <td>17387.03</td>\n",
       "      <td>-11.484</td>\n",
       "      <td>25.559</td>\n",
       "      <td>34.779</td>\n",
       "      <td>347.223</td>\n",
       "      <td>2.737656e+10</td>\n",
       "      <td>3.314611e+10</td>\n",
       "      <td>113810.0</td>\n",
       "      <td>3.267757</td>\n",
       "      <td>12.530100</td>\n",
       "      <td>34828168.0</td>\n",
       "      <td>260580.0</td>\n",
       "      <td>0.19</td>\n",
       "      <td>8.78</td>\n",
       "      <td>0.210</td>\n",
       "    </tr>\n",
       "    <tr>\n",
       "      <th>6</th>\n",
       "      <td>Armenia</td>\n",
       "      <td>ARM</td>\n",
       "      <td>1995</td>\n",
       "      <td>8.033</td>\n",
       "      <td>3008.39</td>\n",
       "      <td>NaN</td>\n",
       "      <td>NaN</td>\n",
       "      <td>3.220</td>\n",
       "      <td>5.862</td>\n",
       "      <td>2.493916e+09</td>\n",
       "      <td>6.852152e+08</td>\n",
       "      <td>3510.0</td>\n",
       "      <td>1.090960</td>\n",
       "      <td>11.720583</td>\n",
       "      <td>3217349.0</td>\n",
       "      <td>6710.0</td>\n",
       "      <td>9.73</td>\n",
       "      <td>2.13</td>\n",
       "      <td>0.730</td>\n",
       "    </tr>\n",
       "  </tbody>\n",
       "</table>\n",
       "</div>"
      ],
      "text/plain": [
       "     country iso_code  year  gdp_constant_change  gdp_capita  \\\n",
       "1    Albania      ALB  1995                8.900     4582.93   \n",
       "2    Algeria      DZA  1995                3.848     8158.72   \n",
       "3     Angola      AGO  1995               10.364     3973.12   \n",
       "5  Argentina      ARG  1995               -2.845    17387.03   \n",
       "6    Armenia      ARM  1995                8.033     3008.39   \n",
       "\n",
       "   vol_imports_change  vol_exports_change  population_x  gdp_current  \\\n",
       "1               0.000                 NaN         3.188        9.643   \n",
       "2               2.000               5.733        28.060      204.348   \n",
       "3              27.968              12.240        14.771       37.582   \n",
       "5             -11.484              25.559        34.779      347.223   \n",
       "6                 NaN                 NaN         3.220        5.862   \n",
       "\n",
       "    imports_gns   exports_gns  co2_emissions_kt  co2_emissions_capita  \\\n",
       "1           NaN           NaN            1950.0              0.611710   \n",
       "2  1.659053e+10  3.308461e+10           73050.0              2.540181   \n",
       "3           NaN           NaN           10780.0              0.773026   \n",
       "5  2.737656e+10  3.314611e+10          113810.0              3.267757   \n",
       "6  2.493916e+09  6.852152e+08            3510.0              1.090960   \n",
       "\n",
       "   forest_area  population_y  ghg_total  ghg_growth  ghg_capita  \\\n",
       "1    28.432482     3187784.0     7430.0       -3.06        2.39   \n",
       "2     0.681435    28757788.0   103000.0        4.23        3.60   \n",
       "3    62.954757    13945205.0    48460.0        6.50        5.12   \n",
       "5    12.530100    34828168.0   260580.0        0.19        8.78   \n",
       "6    11.720583     3217349.0     6710.0        9.73        2.13   \n",
       "\n",
       "   mean_surface_temp  \n",
       "1             -0.127  \n",
       "2              0.619  \n",
       "3              0.827  \n",
       "5              0.210  \n",
       "6              0.730  "
      ]
     },
     "execution_count": 199,
     "metadata": {},
     "output_type": "execute_result"
    }
   ],
   "source": [
    "#merged climate data and economic data\n",
    "data = combined_data.copy()\n",
    "data.head()"
   ]
  },
  {
   "cell_type": "code",
   "execution_count": 200,
   "metadata": {},
   "outputs": [],
   "source": [
    "data[\"log_co2_capita\"] = np.log(data[\"co2_emissions_capita\"])\n",
    "data[\"log_gdp_capita\"] = np.log(pd.to_numeric(data[\"gdp_capita\"]))\n",
    "data[\"log_gdp_capita_sq\"] = (np.log(pd.to_numeric(data[\"gdp_capita\"])))**2"
   ]
  },
  {
   "cell_type": "code",
   "execution_count": 201,
   "metadata": {},
   "outputs": [],
   "source": [
    "# Perform PooledOLS\n",
    "data['year'] = pd.to_datetime(data['year'], format='%Y')\n",
    "# #add column year to index\n",
    "data = data.set_index('year', append=True)"
   ]
  },
  {
   "cell_type": "code",
   "execution_count": 225,
   "metadata": {},
   "outputs": [
    {
     "name": "stderr",
     "output_type": "stream",
     "text": [
      "/home/kaveri/.local/lib/python3.8/site-packages/linearmodels/shared/exceptions.py:37: MissingValueWarning: \n",
      "Inputs contain missing values. Dropping rows with missing observations.\n",
      "  warnings.warn(missing_value_warning_msg, MissingValueWarning)\n"
     ]
    }
   ],
   "source": [
    "#exog = sm.tools.tools.add_constant(data[\"log_gdp_capita\"])\n",
    "exog = sm.tools.tools.add_constant(data.filter([\"log_gdp_capita\", \"log_gdp_capita_sq\", \n",
    "                                               \"vol_exports_change\", \"vol_imports_change\",],\n",
    "                                               axis = 1))\n",
    "endog = data[\"log_co2_capita\"]\n",
    "mod = PooledOLS(endog, exog)\n",
    "pooledOLS_res = mod.fit(cov_type='clustered', cluster_entity=True)\n",
    "# Store values for checking homoskedasticity graphically\n",
    "fittedvals_pooled_OLS = pooledOLS_res.predict().fitted_values\n",
    "residuals_pooled_OLS = pooledOLS_res.resids"
   ]
  },
  {
   "cell_type": "code",
   "execution_count": 226,
   "metadata": {},
   "outputs": [
    {
     "name": "stdout",
     "output_type": "stream",
     "text": [
      "                          PooledOLS Estimation Summary                          \n",
      "================================================================================\n",
      "Dep. Variable:         log_co2_capita   R-squared:                        0.8600\n",
      "Estimator:                  PooledOLS   R-squared (Between):              0.8600\n",
      "No. Observations:                2723   R-squared (Within):               0.0000\n",
      "Date:                Wed, Mar 16 2022   R-squared (Overall):              0.8600\n",
      "Time:                        14:47:06   Log-likelihood                   -2174.2\n",
      "Cov. Estimator:             Clustered                                           \n",
      "                                        F-statistic:                      4173.3\n",
      "Entities:                        2723   P-value                           0.0000\n",
      "Avg Obs:                       1.0000   Distribution:                  F(4,2718)\n",
      "Min Obs:                       1.0000                                           \n",
      "Max Obs:                       1.0000   F-statistic (robust):             3679.9\n",
      "                                        P-value                           0.0000\n",
      "Time periods:                      24   Distribution:                  F(4,2718)\n",
      "Avg Obs:                       113.46                                           \n",
      "Min Obs:                       106.00                                           \n",
      "Max Obs:                       114.00                                           \n",
      "                                                                                \n",
      "                                 Parameter Estimates                                  \n",
      "======================================================================================\n",
      "                    Parameter  Std. Err.     T-stat    P-value    Lower CI    Upper CI\n",
      "--------------------------------------------------------------------------------------\n",
      "const                 -21.325     0.6951    -30.678     0.0000     -22.688     -19.962\n",
      "log_gdp_capita         3.6559     0.1499     24.394     0.0000      3.3620      3.9497\n",
      "log_gdp_capita_sq     -0.1359     0.0080    -16.989     0.0000     -0.1516     -0.1202\n",
      "vol_exports_change     0.0012     0.0011     1.1397     0.2545     -0.0009      0.0033\n",
      "vol_imports_change    -0.0001     0.0012    -0.0861     0.9314     -0.0025      0.0023\n",
      "======================================================================================\n"
     ]
    }
   ],
   "source": [
    "print(pooledOLS_res)"
   ]
  },
  {
   "cell_type": "markdown",
   "metadata": {},
   "source": [
    "The preliminary model studies the Environmental Kuznets Curve. We see that the \n",
    "coeffcient of log_gdp_capita is positive andd log_gdp_capita_sq is negative. \n",
    "Only these two coefficients are significant. This implies that the log_co2_emissions\n",
    "increase at a decreasing rate with an increase in log_gdp_capita. However, we \n",
    "do not see any significant impact of other variables like volumne of exports and \n",
    "imports. These results are not completely reliable as the data does not satisfy\n",
    "the necessary assumptions to do a meaningful regression analysis. \n",
    "\n",
    "We have tested for some of these assumptions below:"
   ]
  },
  {
   "cell_type": "code",
   "execution_count": 228,
   "metadata": {},
   "outputs": [
    {
     "data": {
      "image/png": "[encoded data removed]",
      "text/plain": [
       "<Figure size 720x432 with 1 Axes>"
      ]
     },
     "metadata": {
      "needs_background": "light"
     },
     "output_type": "display_data"
    }
   ],
   "source": [
    "fig, ax = plt.subplots(figsize=(10, 6))\n",
    "ax.scatter(x = data['gdp_capita'], y = data[\"co2_emissions_capita\"])\n",
    "plt.xlabel(\"GDP per capita\")\n",
    "plt.ylabel(\"CO2 emissions per capita\")\n",
    "plt.show()"
   ]
  },
  {
   "cell_type": "code",
   "execution_count": 229,
   "metadata": {},
   "outputs": [
    {
     "data": {
      "image/png": "[encoded data removed]",
      "text/plain": [
       "<Figure size 432x288 with 1 Axes>"
      ]
     },
     "metadata": {
      "needs_background": "light"
     },
     "output_type": "display_data"
    }
   ],
   "source": [
    "#QQPlot to check for normality\n",
    "sm.qqplot(residuals_pooled_OLS, line='45')\n",
    "plt.show()"
   ]
  },
  {
   "cell_type": "markdown",
   "metadata": {},
   "source": [
    "The plot shows that the residuals of the plot are not normalaly distributed. Even though the residual errors are not normally distributed, the Pooled OLS estimator is still the Best Linear Unbiased Estimator (BLUE) for the panel data regression problem. Non-normality of residual errors does not affect the BLUE-ness of OLS regression model."
   ]
  },
  {
   "cell_type": "code",
   "execution_count": 230,
   "metadata": {},
   "outputs": [
    {
     "data": {
      "image/png": "[encoded data removed]",
      "text/plain": [
       "<Figure size 432x288 with 1 Axes>"
      ]
     },
     "metadata": {
      "needs_background": "light"
     },
     "output_type": "display_data"
    }
   ],
   "source": [
    "#  Homoskedasticity\n",
    "# Residuals-Plot for growing Variance Detection\n",
    "fig, ax = plt.subplots()\n",
    "ax.scatter(fittedvals_pooled_OLS, residuals_pooled_OLS, color = 'blue')\n",
    "ax.axhline(0, color = 'r', ls = '--')\n",
    "ax.set_xlabel('Predicted Values', fontsize = 15)\n",
    "ax.set_ylabel('Residuals', fontsize = 15)\n",
    "ax.set_title('Homoskedasticity Test', fontsize = 30)\n",
    "plt.show()"
   ]
  },
  {
   "cell_type": "code",
   "execution_count": 231,
   "metadata": {},
   "outputs": [
    {
     "data": {
      "image/png": "[encoded data removed]",
      "text/plain": [
       "<Figure size 432x288 with 1 Axes>"
      ]
     },
     "metadata": {
      "needs_background": "light"
     },
     "output_type": "display_data"
    }
   ],
   "source": [
    "#check for autocorrelation\n",
    "import statsmodels.graphics.tsaplots as tsap\n",
    "tsap.plot_acf(x=residuals_pooled_OLS)\n",
    "plt.show()"
   ]
  },
  {
   "cell_type": "markdown",
   "metadata": {},
   "source": [
    "The perfect correlation of 1.0 at lag 0 is to be ignored as a number is always perfectly correlated with itself. But we see significant auto-correlation between residual errors at lags 1, 2 and 3.\n",
    "\n",
    "The residuls are heteroskedastic as the variances are not uniformly distributed. "
   ]
  },
  {
   "cell_type": "markdown",
   "metadata": {},
   "source": [
    "# Fixed Effects Regression\n",
    "\n",
    "To correct for some of the shortcomings of the simple panel data regression \n",
    "performed above, we have performed PanelOLS regression to account for time\n",
    "fixed effects in our model. "
   ]
  },
  {
   "cell_type": "code",
   "execution_count": 232,
   "metadata": {},
   "outputs": [
    {
     "name": "stderr",
     "output_type": "stream",
     "text": [
      "/usr/local/lib/python3.8/dist-packages/pandas/core/arraylike.py:397: RuntimeWarning: invalid value encountered in log\n",
      "  result = getattr(ufunc, method)(*inputs, **kwargs)\n"
     ]
    }
   ],
   "source": [
    "data2 = combined_data.copy()\n",
    "data2[\"log_co2_capita\"] = np.log(data2[\"co2_emissions_capita\"])\n",
    "data2[\"log_gdp_capita\"] = np.log(pd.to_numeric(data2[\"gdp_capita\"]))\n",
    "data2[\"log_gdp_capita_sq\"] = (np.log(pd.to_numeric(data2[\"gdp_capita\"])))**2\n",
    "data2[\"net_exports\"] = data2[\"exports_gns\"] - data2[\"imports_gns\"]\n",
    "data2[\"log_net_exports\"] = np.log(data2[\"net_exports\"])"
   ]
  },
  {
   "cell_type": "code",
   "execution_count": 233,
   "metadata": {},
   "outputs": [],
   "source": [
    "# \n",
    "drop_countries = []\n",
    "for country in data2[\"iso_code\"].unique():\n",
    "    df = data2[data2[\"iso_code\"] == country]\n",
    "    df_clean = missing_data_prop(df)\n",
    "    if df.shape[1] != df_clean.shape[1]:\n",
    "        drop_countries.append(country)\n",
    "\n",
    "data2 = data2[data2.iso_code.isin(drop_countries) == False]"
   ]
  },
  {
   "cell_type": "code",
   "execution_count": 234,
   "metadata": {},
   "outputs": [],
   "source": [
    "# Imputing missing data grouped by countries\n",
    "def impute_missing_values(df):\n",
    "    imputer = KNNImputer(n_neighbors=2)\n",
    "    X = df.iloc[:,3:]\n",
    "    out = imputer.fit_transform(X)\n",
    "    out1 = pd.DataFrame(out, columns = df.columns[3:])\n",
    "    return out1\n",
    "\n",
    "res = data2.groupby([\"iso_code\", \"country\"], as_index = False).apply(impute_missing_values)"
   ]
  },
  {
   "cell_type": "code",
   "execution_count": 235,
   "metadata": {},
   "outputs": [
    {
     "data": {
      "text/html": [
       "<div>\n",
       "<style scoped>\n",
       "    .dataframe tbody tr th:only-of-type {\n",
       "        vertical-align: middle;\n",
       "    }\n",
       "\n",
       "    .dataframe tbody tr th {\n",
       "        vertical-align: top;\n",
       "    }\n",
       "\n",
       "    .dataframe thead th {\n",
       "        text-align: right;\n",
       "    }\n",
       "</style>\n",
       "<table border=\"1\" class=\"dataframe\">\n",
       "  <thead>\n",
       "    <tr style=\"text-align: right;\">\n",
       "      <th></th>\n",
       "      <th>gdp_constant_change</th>\n",
       "      <th>gdp_capita</th>\n",
       "      <th>vol_imports_change</th>\n",
       "      <th>vol_exports_change</th>\n",
       "      <th>population_x</th>\n",
       "      <th>gdp_current</th>\n",
       "      <th>imports_gns</th>\n",
       "      <th>exports_gns</th>\n",
       "      <th>co2_emissions_kt</th>\n",
       "      <th>co2_emissions_capita</th>\n",
       "      <th>...</th>\n",
       "      <th>population_y</th>\n",
       "      <th>ghg_total</th>\n",
       "      <th>ghg_growth</th>\n",
       "      <th>ghg_capita</th>\n",
       "      <th>mean_surface_temp</th>\n",
       "      <th>log_co2_capita</th>\n",
       "      <th>log_gdp_capita</th>\n",
       "      <th>log_gdp_capita_sq</th>\n",
       "      <th>net_exports</th>\n",
       "      <th>log_net_exports</th>\n",
       "    </tr>\n",
       "  </thead>\n",
       "  <tbody>\n",
       "    <tr>\n",
       "      <th>0</th>\n",
       "      <td>-2.845</td>\n",
       "      <td>17387.03</td>\n",
       "      <td>-11.484</td>\n",
       "      <td>25.559</td>\n",
       "      <td>34.779</td>\n",
       "      <td>347.223</td>\n",
       "      <td>2.737656e+10</td>\n",
       "      <td>3.314611e+10</td>\n",
       "      <td>113810.0</td>\n",
       "      <td>3.267757</td>\n",
       "      <td>...</td>\n",
       "      <td>34828168.0</td>\n",
       "      <td>260580.0</td>\n",
       "      <td>0.19</td>\n",
       "      <td>8.78</td>\n",
       "      <td>0.210</td>\n",
       "      <td>1.184104</td>\n",
       "      <td>9.763480</td>\n",
       "      <td>95.325538</td>\n",
       "      <td>5.769549e+09</td>\n",
       "      <td>22.475860</td>\n",
       "    </tr>\n",
       "    <tr>\n",
       "      <th>1</th>\n",
       "      <td>5.527</td>\n",
       "      <td>18130.83</td>\n",
       "      <td>19.483</td>\n",
       "      <td>6.395</td>\n",
       "      <td>35.196</td>\n",
       "      <td>373.122</td>\n",
       "      <td>3.217542e+10</td>\n",
       "      <td>3.568072e+10</td>\n",
       "      <td>126560.0</td>\n",
       "      <td>3.590724</td>\n",
       "      <td>...</td>\n",
       "      <td>35246376.0</td>\n",
       "      <td>272500.0</td>\n",
       "      <td>4.54</td>\n",
       "      <td>9.07</td>\n",
       "      <td>0.476</td>\n",
       "      <td>1.278354</td>\n",
       "      <td>9.805369</td>\n",
       "      <td>96.145263</td>\n",
       "      <td>3.505302e+09</td>\n",
       "      <td>21.977543</td>\n",
       "    </tr>\n",
       "    <tr>\n",
       "      <th>2</th>\n",
       "      <td>8.111</td>\n",
       "      <td>19376.36</td>\n",
       "      <td>30.046</td>\n",
       "      <td>15.133</td>\n",
       "      <td>35.604</td>\n",
       "      <td>410.342</td>\n",
       "      <td>4.082145e+10</td>\n",
       "      <td>4.002572e+10</td>\n",
       "      <td>127320.0</td>\n",
       "      <td>3.570644</td>\n",
       "      <td>...</td>\n",
       "      <td>35657438.0</td>\n",
       "      <td>274400.0</td>\n",
       "      <td>0.79</td>\n",
       "      <td>9.04</td>\n",
       "      <td>0.732</td>\n",
       "      <td>1.272746</td>\n",
       "      <td>9.871809</td>\n",
       "      <td>97.452614</td>\n",
       "      <td>-7.957339e+08</td>\n",
       "      <td>19.553738</td>\n",
       "    </tr>\n",
       "    <tr>\n",
       "      <th>3</th>\n",
       "      <td>3.850</td>\n",
       "      <td>19898.28</td>\n",
       "      <td>9.881</td>\n",
       "      <td>12.705</td>\n",
       "      <td>36.005</td>\n",
       "      <td>430.938</td>\n",
       "      <td>4.425614e+10</td>\n",
       "      <td>4.427781e+10</td>\n",
       "      <td>133170.0</td>\n",
       "      <td>3.692658</td>\n",
       "      <td>...</td>\n",
       "      <td>36063451.0</td>\n",
       "      <td>278480.0</td>\n",
       "      <td>1.18</td>\n",
       "      <td>9.04</td>\n",
       "      <td>0.320</td>\n",
       "      <td>1.306347</td>\n",
       "      <td>9.898389</td>\n",
       "      <td>97.978096</td>\n",
       "      <td>2.166769e+07</td>\n",
       "      <td>16.891333</td>\n",
       "    </tr>\n",
       "    <tr>\n",
       "      <th>4</th>\n",
       "      <td>-3.385</td>\n",
       "      <td>19016.97</td>\n",
       "      <td>-15.955</td>\n",
       "      <td>-2.148</td>\n",
       "      <td>36.399</td>\n",
       "      <td>422.360</td>\n",
       "      <td>3.926990e+10</td>\n",
       "      <td>4.371978e+10</td>\n",
       "      <td>134190.0</td>\n",
       "      <td>3.679743</td>\n",
       "      <td>...</td>\n",
       "      <td>36467218.0</td>\n",
       "      <td>283170.0</td>\n",
       "      <td>1.87</td>\n",
       "      <td>9.11</td>\n",
       "      <td>0.138</td>\n",
       "      <td>1.302843</td>\n",
       "      <td>9.853087</td>\n",
       "      <td>97.083324</td>\n",
       "      <td>4.449881e+09</td>\n",
       "      <td>22.216143</td>\n",
       "    </tr>\n",
       "  </tbody>\n",
       "</table>\n",
       "<p>5 rows × 21 columns</p>\n",
       "</div>"
      ],
      "text/plain": [
       "   gdp_constant_change  gdp_capita  vol_imports_change  vol_exports_change  \\\n",
       "0               -2.845    17387.03             -11.484              25.559   \n",
       "1                5.527    18130.83              19.483               6.395   \n",
       "2                8.111    19376.36              30.046              15.133   \n",
       "3                3.850    19898.28               9.881              12.705   \n",
       "4               -3.385    19016.97             -15.955              -2.148   \n",
       "\n",
       "   population_x  gdp_current   imports_gns   exports_gns  co2_emissions_kt  \\\n",
       "0        34.779      347.223  2.737656e+10  3.314611e+10          113810.0   \n",
       "1        35.196      373.122  3.217542e+10  3.568072e+10          126560.0   \n",
       "2        35.604      410.342  4.082145e+10  4.002572e+10          127320.0   \n",
       "3        36.005      430.938  4.425614e+10  4.427781e+10          133170.0   \n",
       "4        36.399      422.360  3.926990e+10  4.371978e+10          134190.0   \n",
       "\n",
       "   co2_emissions_capita  ...  population_y  ghg_total  ghg_growth  ghg_capita  \\\n",
       "0              3.267757  ...    34828168.0   260580.0        0.19        8.78   \n",
       "1              3.590724  ...    35246376.0   272500.0        4.54        9.07   \n",
       "2              3.570644  ...    35657438.0   274400.0        0.79        9.04   \n",
       "3              3.692658  ...    36063451.0   278480.0        1.18        9.04   \n",
       "4              3.679743  ...    36467218.0   283170.0        1.87        9.11   \n",
       "\n",
       "   mean_surface_temp  log_co2_capita  log_gdp_capita  log_gdp_capita_sq  \\\n",
       "0              0.210        1.184104        9.763480          95.325538   \n",
       "1              0.476        1.278354        9.805369          96.145263   \n",
       "2              0.732        1.272746        9.871809          97.452614   \n",
       "3              0.320        1.306347        9.898389          97.978096   \n",
       "4              0.138        1.302843        9.853087          97.083324   \n",
       "\n",
       "    net_exports  log_net_exports  \n",
       "0  5.769549e+09        22.475860  \n",
       "1  3.505302e+09        21.977543  \n",
       "2 -7.957339e+08        19.553738  \n",
       "3  2.166769e+07        16.891333  \n",
       "4  4.449881e+09        22.216143  \n",
       "\n",
       "[5 rows x 21 columns]"
      ]
     },
     "execution_count": 235,
     "metadata": {},
     "output_type": "execute_result"
    }
   ],
   "source": [
    "res.iloc[:,1:]\n",
    "res.reset_index(drop=True, inplace=True)\n",
    "res.head()"
   ]
  },
  {
   "cell_type": "code",
   "execution_count": 221,
   "metadata": {},
   "outputs": [],
   "source": [
    "data2.iloc[:,:3]\n",
    "data2.reset_index(drop=True, inplace=True)"
   ]
  },
  {
   "cell_type": "code",
   "execution_count": 222,
   "metadata": {},
   "outputs": [],
   "source": [
    "frames = [data2.iloc[:,:3], res]\n",
    "final_dataset = pd.concat(frames,  axis=1)"
   ]
  },
  {
   "cell_type": "code",
   "execution_count": 223,
   "metadata": {},
   "outputs": [
    {
     "data": {
      "text/html": [
       "<div>\n",
       "<style scoped>\n",
       "    .dataframe tbody tr th:only-of-type {\n",
       "        vertical-align: middle;\n",
       "    }\n",
       "\n",
       "    .dataframe tbody tr th {\n",
       "        vertical-align: top;\n",
       "    }\n",
       "\n",
       "    .dataframe thead th {\n",
       "        text-align: right;\n",
       "    }\n",
       "</style>\n",
       "<table border=\"1\" class=\"dataframe\">\n",
       "  <thead>\n",
       "    <tr style=\"text-align: right;\">\n",
       "      <th></th>\n",
       "      <th>country</th>\n",
       "      <th>iso_code</th>\n",
       "      <th>year</th>\n",
       "      <th>gdp_constant_change</th>\n",
       "      <th>gdp_capita</th>\n",
       "      <th>vol_imports_change</th>\n",
       "      <th>vol_exports_change</th>\n",
       "      <th>population_x</th>\n",
       "      <th>gdp_current</th>\n",
       "      <th>imports_gns</th>\n",
       "      <th>...</th>\n",
       "      <th>population_y</th>\n",
       "      <th>ghg_total</th>\n",
       "      <th>ghg_growth</th>\n",
       "      <th>ghg_capita</th>\n",
       "      <th>mean_surface_temp</th>\n",
       "      <th>log_co2_capita</th>\n",
       "      <th>log_gdp_capita</th>\n",
       "      <th>log_gdp_capita_sq</th>\n",
       "      <th>net_exports</th>\n",
       "      <th>log_net_exports</th>\n",
       "    </tr>\n",
       "  </thead>\n",
       "  <tbody>\n",
       "    <tr>\n",
       "      <th>0</th>\n",
       "      <td>Argentina</td>\n",
       "      <td>ARG</td>\n",
       "      <td>1995</td>\n",
       "      <td>-2.845</td>\n",
       "      <td>17387.03</td>\n",
       "      <td>-11.484</td>\n",
       "      <td>25.559</td>\n",
       "      <td>34.779</td>\n",
       "      <td>347.223</td>\n",
       "      <td>2.737656e+10</td>\n",
       "      <td>...</td>\n",
       "      <td>34828168.0</td>\n",
       "      <td>260580.0</td>\n",
       "      <td>0.19</td>\n",
       "      <td>8.78</td>\n",
       "      <td>0.210</td>\n",
       "      <td>1.184104</td>\n",
       "      <td>9.763480</td>\n",
       "      <td>95.325538</td>\n",
       "      <td>5.769549e+09</td>\n",
       "      <td>22.475860</td>\n",
       "    </tr>\n",
       "    <tr>\n",
       "      <th>1</th>\n",
       "      <td>Austria</td>\n",
       "      <td>AUT</td>\n",
       "      <td>1995</td>\n",
       "      <td>5.527</td>\n",
       "      <td>18130.83</td>\n",
       "      <td>19.483</td>\n",
       "      <td>6.395</td>\n",
       "      <td>35.196</td>\n",
       "      <td>373.122</td>\n",
       "      <td>3.217542e+10</td>\n",
       "      <td>...</td>\n",
       "      <td>35246376.0</td>\n",
       "      <td>272500.0</td>\n",
       "      <td>4.54</td>\n",
       "      <td>9.07</td>\n",
       "      <td>0.476</td>\n",
       "      <td>1.278354</td>\n",
       "      <td>9.805369</td>\n",
       "      <td>96.145263</td>\n",
       "      <td>3.505302e+09</td>\n",
       "      <td>21.977543</td>\n",
       "    </tr>\n",
       "    <tr>\n",
       "      <th>2</th>\n",
       "      <td>Bahrain</td>\n",
       "      <td>BHR</td>\n",
       "      <td>1995</td>\n",
       "      <td>8.111</td>\n",
       "      <td>19376.36</td>\n",
       "      <td>30.046</td>\n",
       "      <td>15.133</td>\n",
       "      <td>35.604</td>\n",
       "      <td>410.342</td>\n",
       "      <td>4.082145e+10</td>\n",
       "      <td>...</td>\n",
       "      <td>35657438.0</td>\n",
       "      <td>274400.0</td>\n",
       "      <td>0.79</td>\n",
       "      <td>9.04</td>\n",
       "      <td>0.732</td>\n",
       "      <td>1.272746</td>\n",
       "      <td>9.871809</td>\n",
       "      <td>97.452614</td>\n",
       "      <td>-7.957339e+08</td>\n",
       "      <td>19.553738</td>\n",
       "    </tr>\n",
       "    <tr>\n",
       "      <th>3</th>\n",
       "      <td>Belgium</td>\n",
       "      <td>BEL</td>\n",
       "      <td>1995</td>\n",
       "      <td>3.850</td>\n",
       "      <td>19898.28</td>\n",
       "      <td>9.881</td>\n",
       "      <td>12.705</td>\n",
       "      <td>36.005</td>\n",
       "      <td>430.938</td>\n",
       "      <td>4.425614e+10</td>\n",
       "      <td>...</td>\n",
       "      <td>36063451.0</td>\n",
       "      <td>278480.0</td>\n",
       "      <td>1.18</td>\n",
       "      <td>9.04</td>\n",
       "      <td>0.320</td>\n",
       "      <td>1.306347</td>\n",
       "      <td>9.898389</td>\n",
       "      <td>97.978096</td>\n",
       "      <td>2.166769e+07</td>\n",
       "      <td>16.891333</td>\n",
       "    </tr>\n",
       "    <tr>\n",
       "      <th>4</th>\n",
       "      <td>Botswana</td>\n",
       "      <td>BWA</td>\n",
       "      <td>1995</td>\n",
       "      <td>-3.385</td>\n",
       "      <td>19016.97</td>\n",
       "      <td>-15.955</td>\n",
       "      <td>-2.148</td>\n",
       "      <td>36.399</td>\n",
       "      <td>422.360</td>\n",
       "      <td>3.926990e+10</td>\n",
       "      <td>...</td>\n",
       "      <td>36467218.0</td>\n",
       "      <td>283170.0</td>\n",
       "      <td>1.87</td>\n",
       "      <td>9.11</td>\n",
       "      <td>0.138</td>\n",
       "      <td>1.302843</td>\n",
       "      <td>9.853087</td>\n",
       "      <td>97.083324</td>\n",
       "      <td>4.449881e+09</td>\n",
       "      <td>22.216143</td>\n",
       "    </tr>\n",
       "  </tbody>\n",
       "</table>\n",
       "<p>5 rows × 24 columns</p>\n",
       "</div>"
      ],
      "text/plain": [
       "     country iso_code  year  gdp_constant_change  gdp_capita  \\\n",
       "0  Argentina      ARG  1995               -2.845    17387.03   \n",
       "1    Austria      AUT  1995                5.527    18130.83   \n",
       "2    Bahrain      BHR  1995                8.111    19376.36   \n",
       "3    Belgium      BEL  1995                3.850    19898.28   \n",
       "4   Botswana      BWA  1995               -3.385    19016.97   \n",
       "\n",
       "   vol_imports_change  vol_exports_change  population_x  gdp_current  \\\n",
       "0             -11.484              25.559        34.779      347.223   \n",
       "1              19.483               6.395        35.196      373.122   \n",
       "2              30.046              15.133        35.604      410.342   \n",
       "3               9.881              12.705        36.005      430.938   \n",
       "4             -15.955              -2.148        36.399      422.360   \n",
       "\n",
       "    imports_gns  ...  population_y  ghg_total  ghg_growth  ghg_capita  \\\n",
       "0  2.737656e+10  ...    34828168.0   260580.0        0.19        8.78   \n",
       "1  3.217542e+10  ...    35246376.0   272500.0        4.54        9.07   \n",
       "2  4.082145e+10  ...    35657438.0   274400.0        0.79        9.04   \n",
       "3  4.425614e+10  ...    36063451.0   278480.0        1.18        9.04   \n",
       "4  3.926990e+10  ...    36467218.0   283170.0        1.87        9.11   \n",
       "\n",
       "   mean_surface_temp  log_co2_capita  log_gdp_capita  log_gdp_capita_sq  \\\n",
       "0              0.210        1.184104        9.763480          95.325538   \n",
       "1              0.476        1.278354        9.805369          96.145263   \n",
       "2              0.732        1.272746        9.871809          97.452614   \n",
       "3              0.320        1.306347        9.898389          97.978096   \n",
       "4              0.138        1.302843        9.853087          97.083324   \n",
       "\n",
       "    net_exports  log_net_exports  \n",
       "0  5.769549e+09        22.475860  \n",
       "1  3.505302e+09        21.977543  \n",
       "2 -7.957339e+08        19.553738  \n",
       "3  2.166769e+07        16.891333  \n",
       "4  4.449881e+09        22.216143  \n",
       "\n",
       "[5 rows x 24 columns]"
      ]
     },
     "execution_count": 223,
     "metadata": {},
     "output_type": "execute_result"
    }
   ],
   "source": [
    "final_dataset.head()"
   ]
  },
  {
   "cell_type": "code",
   "execution_count": 216,
   "metadata": {},
   "outputs": [
    {
     "data": {
      "text/plain": [
       "Index(['country_x', 'iso_code', 'year', 'gdp_constant_change', 'gdp_capita',\n",
       "       'vol_imports_change', 'vol_exports_change', 'population_x',\n",
       "       'gdp_current', 'imports_gns', 'exports_gns', 'co2_emissions_kt',\n",
       "       'co2_emissions_capita', 'forest_area', 'population_y', 'ghg_total',\n",
       "       'ghg_growth', 'ghg_capita', 'mean_surface_temp', 'log_co2_capita',\n",
       "       'log_gdp_capita', 'log_gdp_capita_sq', 'net_exports', 'log_net_exports',\n",
       "       'country_y', 'region', 'sub_region', 'intermediate_region'],\n",
       "      dtype='object')"
      ]
     },
     "execution_count": 216,
     "metadata": {},
     "output_type": "execute_result"
    }
   ],
   "source": [
    "final_data2 = pd.merge(final_dataset, region_mapping, on = [ \"iso_code\",], how = \"left\")\n",
    "final_data2.columns"
   ]
  },
  {
   "cell_type": "code",
   "execution_count": 97,
   "metadata": {},
   "outputs": [],
   "source": [
    "# region\n",
    "asia_data = final_data2[final_data2[\"region\"] == \"Asia\"]\n",
    "africa_data = final_data2[final_data2[\"region\"] == \"Africa\"]\n",
    "europe_data = final_data2[final_data2[\"region\"] == \"Europe\"]\n",
    "americas_data = final_data2[final_data2[\"region\"] == \"Americas\"]"
   ]
  },
  {
   "cell_type": "code",
   "execution_count": 117,
   "metadata": {},
   "outputs": [],
   "source": [
    "#sub-region analysis\n",
    "eastern_asia = final_data2[final_data2[\"sub_region\"] == \"Eastern Asia\"]\n",
    "south_eastern_asia = final_data2[final_data2[\"sub_region\"] == \"South-eastern Asia\"]\n",
    "central_asia = final_data2[final_data2[\"sub_region\"] == \"Central Asia\"]\n",
    "western_asia = final_data2[final_data2[\"sub_region\"] == \"Western Asia\"]\n",
    "northern_america = final_data2[final_data2[\"sub_region\"] == \"Northern America\"]\n",
    "latin_america = final_data2[final_data2[\"sub_region\"] == \"Latin America and the Caribbean\"]"
   ]
  },
  {
   "cell_type": "code",
   "execution_count": 118,
   "metadata": {},
   "outputs": [],
   "source": [
    "def fixed_effects_model(dataset, explanatory_variable = None):\n",
    "    vars = [\"log_gdp_capita\", \"log_gdp_capita_sq\"]\n",
    "    if explanatory_variable:\n",
    "        vars.extend(explanatory_variable)\n",
    "    exog_vars = vars + np.unique(dataset.year)[1::].tolist()\n",
    "    dataset['year'] = pd.to_datetime(dataset['year'], format='%Y')\n",
    "    dataset = dataset.set_index('year', append=True)\n",
    "    exog = sm.tools.tools.add_constant(dataset.filter(exog_vars, axis = 1))\n",
    "    endog = dataset[\"log_co2_capita\"]\n",
    "    mod_fe = PanelOLS(endog, exog, time_effects=True)\n",
    "    fe_res = mod_fe.fit()\n",
    "    print(fe_res)"
   ]
  },
  {
   "cell_type": "code",
   "execution_count": 128,
   "metadata": {},
   "outputs": [
    {
     "name": "stdout",
     "output_type": "stream",
     "text": [
      "                          PanelOLS Estimation Summary                           \n",
      "================================================================================\n",
      "Dep. Variable:         log_co2_capita   R-squared:                        0.6041\n",
      "Estimator:                   PanelOLS   R-squared (Between):              0.4505\n",
      "No. Observations:                  78   R-squared (Within):               0.0000\n",
      "Date:                Wed, Mar 16 2022   R-squared (Overall):              0.4505\n",
      "Time:                        12:56:53   Log-likelihood                   -16.989\n",
      "Cov. Estimator:            Unadjusted                                           \n",
      "                                        F-statistic:                      18.307\n",
      "Entities:                          78   P-value                           0.0000\n",
      "Avg Obs:                       1.0000   Distribution:                    F(4,48)\n",
      "Min Obs:                       1.0000                                           \n",
      "Max Obs:                       1.0000   F-statistic (robust):             18.307\n",
      "                                        P-value                           0.0000\n",
      "Time periods:                      26   Distribution:                    F(4,48)\n",
      "Avg Obs:                       3.0000                                           \n",
      "Min Obs:                       3.0000                                           \n",
      "Max Obs:                       3.0000                                           \n",
      "                                                                                \n",
      "                                 Parameter Estimates                                 \n",
      "=====================================================================================\n",
      "                   Parameter  Std. Err.     T-stat    P-value    Lower CI    Upper CI\n",
      "-------------------------------------------------------------------------------------\n",
      "const                -40.349     17.412    -2.3173     0.0248     -75.357     -5.3403\n",
      "log_gdp_capita        7.9836     3.3520     2.3818     0.0212      1.2440      14.723\n",
      "log_gdp_capita_sq    -0.3538     0.1644    -2.1520     0.0365     -0.6843     -0.0232\n",
      "forest_area          -0.0112     0.0030    -3.7510     0.0005     -0.0173     -0.0052\n",
      "log_net_exports      -0.0836     0.0491    -1.7025     0.0951     -0.1824      0.0151\n",
      "=====================================================================================\n",
      "\n",
      "F-test for Poolability: 3.5306\n",
      "P-value: 0.0001\n",
      "Distribution: F(25,48)\n",
      "\n",
      "Included effects: Time\n"
     ]
    },
    {
     "name": "stderr",
     "output_type": "stream",
     "text": [
      "<ipython-input-118-c8f45a6c4de2>:6: SettingWithCopyWarning: \n",
      "A value is trying to be set on a copy of a slice from a DataFrame.\n",
      "Try using .loc[row_indexer,col_indexer] = value instead\n",
      "\n",
      "See the caveats in the documentation: https://pandas.pydata.org/pandas-docs/stable/user_guide/indexing.html#returning-a-view-versus-a-copy\n",
      "  dataset['year'] = pd.to_datetime(dataset['year'], format='%Y')\n"
     ]
    }
   ],
   "source": [
    "fixed_effects_model(africa_data, [\"forest_area\", \"log_net_exports\"])"
   ]
  },
  {
   "cell_type": "code",
   "execution_count": 129,
   "metadata": {},
   "outputs": [
    {
     "name": "stdout",
     "output_type": "stream",
     "text": [
      "                          PanelOLS Estimation Summary                           \n",
      "================================================================================\n",
      "Dep. Variable:         log_co2_capita   R-squared:                        0.6347\n",
      "Estimator:                   PanelOLS   R-squared (Between):              0.4592\n",
      "No. Observations:                 364   R-squared (Within):               0.0000\n",
      "Date:                Wed, Mar 16 2022   R-squared (Overall):              0.4592\n",
      "Time:                        12:56:56   Log-likelihood                   -68.525\n",
      "Cov. Estimator:            Unadjusted                                           \n",
      "                                        F-statistic:                      145.11\n",
      "Entities:                         364   P-value                           0.0000\n",
      "Avg Obs:                       1.0000   Distribution:                   F(4,334)\n",
      "Min Obs:                       1.0000                                           \n",
      "Max Obs:                       1.0000   F-statistic (robust):             145.11\n",
      "                                        P-value                           0.0000\n",
      "Time periods:                      26   Distribution:                   F(4,334)\n",
      "Avg Obs:                       14.000                                           \n",
      "Min Obs:                       14.000                                           \n",
      "Max Obs:                       14.000                                           \n",
      "                                                                                \n",
      "                                 Parameter Estimates                                 \n",
      "=====================================================================================\n",
      "                   Parameter  Std. Err.     T-stat    P-value    Lower CI    Upper CI\n",
      "-------------------------------------------------------------------------------------\n",
      "const                -47.745     6.0217    -7.9287     0.0000     -59.590     -35.899\n",
      "log_gdp_capita        9.1354     1.1644     7.8454     0.0000      6.8449      11.426\n",
      "log_gdp_capita_sq    -0.4078     0.0570    -7.1562     0.0000     -0.5198     -0.2957\n",
      "forest_area          -0.0091     0.0011    -8.4784     0.0000     -0.0113     -0.0070\n",
      "log_net_exports      -0.0308     0.0156    -1.9717     0.0495     -0.0616  -7.189e-05\n",
      "=====================================================================================\n",
      "\n",
      "F-test for Poolability: 21.760\n",
      "P-value: 0.0000\n",
      "Distribution: F(25,334)\n",
      "\n",
      "Included effects: Time\n"
     ]
    },
    {
     "name": "stderr",
     "output_type": "stream",
     "text": [
      "<ipython-input-118-c8f45a6c4de2>:6: SettingWithCopyWarning: \n",
      "A value is trying to be set on a copy of a slice from a DataFrame.\n",
      "Try using .loc[row_indexer,col_indexer] = value instead\n",
      "\n",
      "See the caveats in the documentation: https://pandas.pydata.org/pandas-docs/stable/user_guide/indexing.html#returning-a-view-versus-a-copy\n",
      "  dataset['year'] = pd.to_datetime(dataset['year'], format='%Y')\n"
     ]
    }
   ],
   "source": [
    "fixed_effects_model(europe_data, [\"forest_area\", \"log_net_exports\"])"
   ]
  },
  {
   "cell_type": "code",
   "execution_count": 130,
   "metadata": {},
   "outputs": [
    {
     "name": "stdout",
     "output_type": "stream",
     "text": [
      "                          PanelOLS Estimation Summary                           \n",
      "================================================================================\n",
      "Dep. Variable:         log_co2_capita   R-squared:                        0.7212\n",
      "Estimator:                   PanelOLS   R-squared (Between):              0.5202\n",
      "No. Observations:                  78   R-squared (Within):               0.0000\n",
      "Date:                Wed, Mar 16 2022   R-squared (Overall):              0.5202\n",
      "Time:                        12:57:00   Log-likelihood                   -6.2503\n",
      "Cov. Estimator:            Unadjusted                                           \n",
      "                                        F-statistic:                      31.045\n",
      "Entities:                          78   P-value                           0.0000\n",
      "Avg Obs:                       1.0000   Distribution:                    F(4,48)\n",
      "Min Obs:                       1.0000                                           \n",
      "Max Obs:                       1.0000   F-statistic (robust):             31.045\n",
      "                                        P-value                           0.0000\n",
      "Time periods:                      26   Distribution:                    F(4,48)\n",
      "Avg Obs:                       3.0000                                           \n",
      "Min Obs:                       3.0000                                           \n",
      "Max Obs:                       3.0000                                           \n",
      "                                                                                \n",
      "                                 Parameter Estimates                                 \n",
      "=====================================================================================\n",
      "                   Parameter  Std. Err.     T-stat    P-value    Lower CI    Upper CI\n",
      "-------------------------------------------------------------------------------------\n",
      "const                -49.017     13.110    -3.7387     0.0005     -75.377     -22.656\n",
      "log_gdp_capita        9.4683     2.5266     3.7475     0.0005      4.3883      14.548\n",
      "log_gdp_capita_sq    -0.4183     0.1222    -3.4241     0.0013     -0.6639     -0.1727\n",
      "forest_area          -0.0120     0.0025    -4.8002     0.0000     -0.0170     -0.0070\n",
      "log_net_exports      -0.0748     0.0440    -1.7013     0.0954     -0.1632      0.0136\n",
      "=====================================================================================\n",
      "\n",
      "F-test for Poolability: 4.0556\n",
      "P-value: 0.0000\n",
      "Distribution: F(25,48)\n",
      "\n",
      "Included effects: Time\n"
     ]
    },
    {
     "name": "stderr",
     "output_type": "stream",
     "text": [
      "<ipython-input-118-c8f45a6c4de2>:6: SettingWithCopyWarning: \n",
      "A value is trying to be set on a copy of a slice from a DataFrame.\n",
      "Try using .loc[row_indexer,col_indexer] = value instead\n",
      "\n",
      "See the caveats in the documentation: https://pandas.pydata.org/pandas-docs/stable/user_guide/indexing.html#returning-a-view-versus-a-copy\n",
      "  dataset['year'] = pd.to_datetime(dataset['year'], format='%Y')\n"
     ]
    }
   ],
   "source": [
    "fixed_effects_model(americas_data, [\"forest_area\", \"log_net_exports\"])"
   ]
  },
  {
   "cell_type": "code",
   "execution_count": 119,
   "metadata": {},
   "outputs": [
    {
     "name": "stdout",
     "output_type": "stream",
     "text": [
      "                          PanelOLS Estimation Summary                           \n",
      "================================================================================\n",
      "Dep. Variable:         log_co2_capita   R-squared:                        0.6476\n",
      "Estimator:                   PanelOLS   R-squared (Between):              0.4988\n",
      "No. Observations:                 208   R-squared (Within):               0.0000\n",
      "Date:                Wed, Mar 16 2022   R-squared (Overall):              0.4988\n",
      "Time:                        12:54:47   Log-likelihood                   -27.299\n",
      "Cov. Estimator:            Unadjusted                                           \n",
      "                                        F-statistic:                      81.791\n",
      "Entities:                         208   P-value                           0.0000\n",
      "Avg Obs:                       1.0000   Distribution:                   F(4,178)\n",
      "Min Obs:                       1.0000                                           \n",
      "Max Obs:                       1.0000   F-statistic (robust):             81.791\n",
      "                                        P-value                           0.0000\n",
      "Time periods:                      26   Distribution:                   F(4,178)\n",
      "Avg Obs:                       8.0000                                           \n",
      "Min Obs:                       8.0000                                           \n",
      "Max Obs:                       8.0000                                           \n",
      "                                                                                \n",
      "                                 Parameter Estimates                                 \n",
      "=====================================================================================\n",
      "                   Parameter  Std. Err.     T-stat    P-value    Lower CI    Upper CI\n",
      "-------------------------------------------------------------------------------------\n",
      "const                -60.792     8.9712    -6.7763     0.0000     -78.496     -43.088\n",
      "log_gdp_capita        11.625     1.7359     6.6968     0.0000      8.1992      15.050\n",
      "log_gdp_capita_sq    -0.5294     0.0845    -6.2618     0.0000     -0.6962     -0.3625\n",
      "forest_area          -0.0089     0.0014    -6.5090     0.0000     -0.0116     -0.0062\n",
      "log_net_exports      -0.0176     0.0203    -0.8703     0.3853     -0.0576      0.0223\n",
      "=====================================================================================\n",
      "\n",
      "F-test for Poolability: 13.011\n",
      "P-value: 0.0000\n",
      "Distribution: F(25,178)\n",
      "\n",
      "Included effects: Time\n"
     ]
    },
    {
     "name": "stderr",
     "output_type": "stream",
     "text": [
      "<ipython-input-118-c8f45a6c4de2>:6: SettingWithCopyWarning: \n",
      "A value is trying to be set on a copy of a slice from a DataFrame.\n",
      "Try using .loc[row_indexer,col_indexer] = value instead\n",
      "\n",
      "See the caveats in the documentation: https://pandas.pydata.org/pandas-docs/stable/user_guide/indexing.html#returning-a-view-versus-a-copy\n",
      "  dataset['year'] = pd.to_datetime(dataset['year'], format='%Y')\n"
     ]
    }
   ],
   "source": [
    "fixed_effects_model(asia_data, [\"forest_area\", \"log_net_exports\"])"
   ]
  },
  {
   "cell_type": "code",
   "execution_count": 120,
   "metadata": {},
   "outputs": [
    {
     "name": "stdout",
     "output_type": "stream",
     "text": [
      "                          PanelOLS Estimation Summary                           \n",
      "================================================================================\n",
      "Dep. Variable:         log_co2_capita   R-squared:                        0.4820\n",
      "Estimator:                   PanelOLS   R-squared (Between):              0.3822\n",
      "No. Observations:                  78   R-squared (Within):               0.0000\n",
      "Date:                Wed, Mar 16 2022   R-squared (Overall):              0.3822\n",
      "Time:                        12:54:51   Log-likelihood                   -27.468\n",
      "Cov. Estimator:            Unadjusted                                           \n",
      "                                        F-statistic:                      23.263\n",
      "Entities:                          78   P-value                           0.0000\n",
      "Avg Obs:                       1.0000   Distribution:                    F(2,50)\n",
      "Min Obs:                       1.0000                                           \n",
      "Max Obs:                       1.0000   F-statistic (robust):             23.263\n",
      "                                        P-value                           0.0000\n",
      "Time periods:                      26   Distribution:                    F(2,50)\n",
      "Avg Obs:                       3.0000                                           \n",
      "Min Obs:                       3.0000                                           \n",
      "Max Obs:                       3.0000                                           \n",
      "                                                                                \n",
      "                                 Parameter Estimates                                 \n",
      "=====================================================================================\n",
      "                   Parameter  Std. Err.     T-stat    P-value    Lower CI    Upper CI\n",
      "-------------------------------------------------------------------------------------\n",
      "const                -59.583     18.068    -3.2977     0.0018     -95.874     -23.293\n",
      "log_gdp_capita        11.370     3.5363     3.2153     0.0023      4.2675      18.473\n",
      "log_gdp_capita_sq    -0.5221     0.1725    -3.0269     0.0039     -0.8686     -0.1756\n",
      "=====================================================================================\n",
      "\n",
      "F-test for Poolability: 2.9688\n",
      "P-value: 0.0005\n",
      "Distribution: F(25,50)\n",
      "\n",
      "Included effects: Time\n"
     ]
    },
    {
     "name": "stderr",
     "output_type": "stream",
     "text": [
      "<ipython-input-118-c8f45a6c4de2>:6: SettingWithCopyWarning: \n",
      "A value is trying to be set on a copy of a slice from a DataFrame.\n",
      "Try using .loc[row_indexer,col_indexer] = value instead\n",
      "\n",
      "See the caveats in the documentation: https://pandas.pydata.org/pandas-docs/stable/user_guide/indexing.html#returning-a-view-versus-a-copy\n",
      "  dataset['year'] = pd.to_datetime(dataset['year'], format='%Y')\n"
     ]
    }
   ],
   "source": [
    "fixed_effects_model(africa_data)"
   ]
  },
  {
   "cell_type": "code",
   "execution_count": 121,
   "metadata": {},
   "outputs": [
    {
     "name": "stdout",
     "output_type": "stream",
     "text": [
      "                          PanelOLS Estimation Summary                           \n",
      "================================================================================\n",
      "Dep. Variable:         log_co2_capita   R-squared:                        0.5765\n",
      "Estimator:                   PanelOLS   R-squared (Between):              0.5318\n",
      "No. Observations:                  78   R-squared (Within):               0.0000\n",
      "Date:                Wed, Mar 16 2022   R-squared (Overall):              0.5318\n",
      "Time:                        12:54:54   Log-likelihood                   -22.558\n",
      "Cov. Estimator:            Unadjusted                                           \n",
      "                                        F-statistic:                      34.032\n",
      "Entities:                          78   P-value                           0.0000\n",
      "Avg Obs:                       1.0000   Distribution:                    F(2,50)\n",
      "Min Obs:                       1.0000                                           \n",
      "Max Obs:                       1.0000   F-statistic (robust):             34.032\n",
      "                                        P-value                           0.0000\n",
      "Time periods:                      26   Distribution:                    F(2,50)\n",
      "Avg Obs:                       3.0000                                           \n",
      "Min Obs:                       3.0000                                           \n",
      "Max Obs:                       3.0000                                           \n",
      "                                                                                \n",
      "                                 Parameter Estimates                                 \n",
      "=====================================================================================\n",
      "                   Parameter  Std. Err.     T-stat    P-value    Lower CI    Upper CI\n",
      "-------------------------------------------------------------------------------------\n",
      "const                -61.924     15.514    -3.9915     0.0002     -93.084     -30.763\n",
      "log_gdp_capita        11.646     3.0048     3.8758     0.0003      5.6109      17.682\n",
      "log_gdp_capita_sq    -0.5274     0.1451    -3.6336     0.0007     -0.8189     -0.2358\n",
      "=====================================================================================\n",
      "\n",
      "F-test for Poolability: 2.5787\n",
      "P-value: 0.0022\n",
      "Distribution: F(25,50)\n",
      "\n",
      "Included effects: Time\n"
     ]
    },
    {
     "name": "stderr",
     "output_type": "stream",
     "text": [
      "<ipython-input-118-c8f45a6c4de2>:6: SettingWithCopyWarning: \n",
      "A value is trying to be set on a copy of a slice from a DataFrame.\n",
      "Try using .loc[row_indexer,col_indexer] = value instead\n",
      "\n",
      "See the caveats in the documentation: https://pandas.pydata.org/pandas-docs/stable/user_guide/indexing.html#returning-a-view-versus-a-copy\n",
      "  dataset['year'] = pd.to_datetime(dataset['year'], format='%Y')\n"
     ]
    }
   ],
   "source": [
    "fixed_effects_model(americas_data)"
   ]
  },
  {
   "cell_type": "code",
   "execution_count": 122,
   "metadata": {},
   "outputs": [
    {
     "name": "stdout",
     "output_type": "stream",
     "text": [
      "                          PanelOLS Estimation Summary                           \n",
      "================================================================================\n",
      "Dep. Variable:         log_co2_capita   R-squared:                        0.5559\n",
      "Estimator:                   PanelOLS   R-squared (Between):              0.3939\n",
      "No. Observations:                 364   R-squared (Within):               0.0000\n",
      "Date:                Wed, Mar 16 2022   R-squared (Overall):              0.3939\n",
      "Time:                        12:54:58   Log-likelihood                   -104.09\n",
      "Cov. Estimator:            Unadjusted                                           \n",
      "                                        F-statistic:                      210.30\n",
      "Entities:                         364   P-value                           0.0000\n",
      "Avg Obs:                       1.0000   Distribution:                   F(2,336)\n",
      "Min Obs:                       1.0000                                           \n",
      "Max Obs:                       1.0000   F-statistic (robust):             210.30\n",
      "                                        P-value                           0.0000\n",
      "Time periods:                      26   Distribution:                   F(2,336)\n",
      "Avg Obs:                       14.000                                           \n",
      "Min Obs:                       14.000                                           \n",
      "Max Obs:                       14.000                                           \n",
      "                                                                                \n",
      "                                 Parameter Estimates                                 \n",
      "=====================================================================================\n",
      "                   Parameter  Std. Err.     T-stat    P-value    Lower CI    Upper CI\n",
      "-------------------------------------------------------------------------------------\n",
      "const                -61.960     6.2291    -9.9468     0.0000     -74.213     -49.707\n",
      "log_gdp_capita        11.746     1.2180     9.6435     0.0000      9.3498      14.141\n",
      "log_gdp_capita_sq    -0.5361     0.0594    -9.0305     0.0000     -0.6529     -0.4193\n",
      "=====================================================================================\n",
      "\n",
      "F-test for Poolability: 18.902\n",
      "P-value: 0.0000\n",
      "Distribution: F(25,336)\n",
      "\n",
      "Included effects: Time\n"
     ]
    },
    {
     "name": "stderr",
     "output_type": "stream",
     "text": [
      "<ipython-input-118-c8f45a6c4de2>:6: SettingWithCopyWarning: \n",
      "A value is trying to be set on a copy of a slice from a DataFrame.\n",
      "Try using .loc[row_indexer,col_indexer] = value instead\n",
      "\n",
      "See the caveats in the documentation: https://pandas.pydata.org/pandas-docs/stable/user_guide/indexing.html#returning-a-view-versus-a-copy\n",
      "  dataset['year'] = pd.to_datetime(dataset['year'], format='%Y')\n"
     ]
    }
   ],
   "source": [
    "fixed_effects_model(europe_data)"
   ]
  },
  {
   "cell_type": "code",
   "execution_count": 61,
   "metadata": {},
   "outputs": [
    {
     "name": "stdout",
     "output_type": "stream",
     "text": [
      "                          PanelOLS Estimation Summary                           \n",
      "================================================================================\n",
      "Dep. Variable:         log_co2_capita   R-squared:                        0.8578\n",
      "Estimator:                   PanelOLS   R-squared (Between):              0.8512\n",
      "No. Observations:                 208   R-squared (Within):               0.0000\n",
      "Date:                Wed, Mar 16 2022   R-squared (Overall):              0.8512\n",
      "Time:                        01:34:31   Log-likelihood                   -134.03\n",
      "Cov. Estimator:            Unadjusted                                           \n",
      "                                        F-statistic:                      543.07\n",
      "Entities:                         208   P-value                           0.0000\n",
      "Avg Obs:                       1.0000   Distribution:                   F(2,180)\n",
      "Min Obs:                       1.0000                                           \n",
      "Max Obs:                       1.0000   F-statistic (robust):             543.07\n",
      "                                        P-value                           0.0000\n",
      "Time periods:                      26   Distribution:                   F(2,180)\n",
      "Avg Obs:                       8.0000                                           \n",
      "Min Obs:                       8.0000                                           \n",
      "Max Obs:                       8.0000                                           \n",
      "                                                                                \n",
      "                                 Parameter Estimates                                 \n",
      "=====================================================================================\n",
      "                   Parameter  Std. Err.     T-stat    P-value    Lower CI    Upper CI\n",
      "-------------------------------------------------------------------------------------\n",
      "const                -22.041     2.3338    -9.4442     0.0000     -26.646     -17.436\n",
      "log_gdp_capita        3.8348     0.5094     7.5278     0.0000      2.8296      4.8401\n",
      "log_gdp_capita_sq    -0.1469     0.0275    -5.3377     0.0000     -0.2012     -0.0926\n",
      "=====================================================================================\n",
      "\n",
      "F-test for Poolability: 2.2041\n",
      "P-value: 0.0016\n",
      "Distribution: F(25,180)\n",
      "\n",
      "Included effects: Time\n"
     ]
    },
    {
     "name": "stderr",
     "output_type": "stream",
     "text": [
      "<ipython-input-53-65976474825e>:4: SettingWithCopyWarning: \n",
      "A value is trying to be set on a copy of a slice from a DataFrame.\n",
      "Try using .loc[row_indexer,col_indexer] = value instead\n",
      "\n",
      "See the caveats in the documentation: https://pandas.pydata.org/pandas-docs/stable/user_guide/indexing.html#returning-a-view-versus-a-copy\n",
      "  dataset['year'] = pd.to_datetime(dataset['year'], format='%Y')\n"
     ]
    }
   ],
   "source": [
    "fixed_effects_model(south_eastern_asia)"
   ]
  },
  {
   "cell_type": "code",
   "execution_count": 124,
   "metadata": {},
   "outputs": [
    {
     "name": "stdout",
     "output_type": "stream",
     "text": [
      "                          PanelOLS Estimation Summary                           \n",
      "================================================================================\n",
      "Dep. Variable:         log_co2_capita   R-squared:                        0.5672\n",
      "Estimator:                   PanelOLS   R-squared (Between):              0.3966\n",
      "No. Observations:                 104   R-squared (Within):               0.0000\n",
      "Date:                Wed, Mar 16 2022   R-squared (Overall):              0.3966\n",
      "Time:                        12:55:49   Log-likelihood                   -20.635\n",
      "Cov. Estimator:            Unadjusted                                           \n",
      "                                        F-statistic:                      49.795\n",
      "Entities:                         104   P-value                           0.0000\n",
      "Avg Obs:                       1.0000   Distribution:                    F(2,76)\n",
      "Min Obs:                       1.0000                                           \n",
      "Max Obs:                       1.0000   F-statistic (robust):             49.795\n",
      "                                        P-value                           0.0000\n",
      "Time periods:                      26   Distribution:                    F(2,76)\n",
      "Avg Obs:                       4.0000                                           \n",
      "Min Obs:                       4.0000                                           \n",
      "Max Obs:                       4.0000                                           \n",
      "                                                                                \n",
      "                                 Parameter Estimates                                 \n",
      "=====================================================================================\n",
      "                   Parameter  Std. Err.     T-stat    P-value    Lower CI    Upper CI\n",
      "-------------------------------------------------------------------------------------\n",
      "const                -97.217     16.066    -6.0512     0.0000     -129.21     -65.219\n",
      "log_gdp_capita        18.598     3.1252     5.9509     0.0000      12.374      24.822\n",
      "log_gdp_capita_sq    -0.8682     0.1515    -5.7296     0.0000     -1.1700     -0.5664\n",
      "=====================================================================================\n",
      "\n",
      "F-test for Poolability: 5.6282\n",
      "P-value: 0.0000\n",
      "Distribution: F(25,76)\n",
      "\n",
      "Included effects: Time\n"
     ]
    },
    {
     "name": "stderr",
     "output_type": "stream",
     "text": [
      "<ipython-input-118-c8f45a6c4de2>:6: SettingWithCopyWarning: \n",
      "A value is trying to be set on a copy of a slice from a DataFrame.\n",
      "Try using .loc[row_indexer,col_indexer] = value instead\n",
      "\n",
      "See the caveats in the documentation: https://pandas.pydata.org/pandas-docs/stable/user_guide/indexing.html#returning-a-view-versus-a-copy\n",
      "  dataset['year'] = pd.to_datetime(dataset['year'], format='%Y')\n"
     ]
    }
   ],
   "source": [
    "fixed_effects_model(south_eastern_asia)"
   ]
  },
  {
   "cell_type": "code",
   "execution_count": 64,
   "metadata": {},
   "outputs": [
    {
     "name": "stdout",
     "output_type": "stream",
     "text": [
      "                          PanelOLS Estimation Summary                           \n",
      "================================================================================\n",
      "Dep. Variable:         log_co2_capita   R-squared:                        0.8819\n",
      "Estimator:                   PanelOLS   R-squared (Between):              0.8703\n",
      "No. Observations:                 260   R-squared (Within):               0.0000\n",
      "Date:                Wed, Mar 16 2022   R-squared (Overall):              0.8703\n",
      "Time:                        01:34:44   Log-likelihood                   -155.55\n",
      "Cov. Estimator:            Unadjusted                                           \n",
      "                                        F-statistic:                      865.92\n",
      "Entities:                         260   P-value                           0.0000\n",
      "Avg Obs:                       1.0000   Distribution:                   F(2,232)\n",
      "Min Obs:                       1.0000                                           \n",
      "Max Obs:                       1.0000   F-statistic (robust):             865.92\n",
      "                                        P-value                           0.0000\n",
      "Time periods:                      26   Distribution:                   F(2,232)\n",
      "Avg Obs:                      10.0000                                           \n",
      "Min Obs:                      10.0000                                           \n",
      "Max Obs:                      10.0000                                           \n",
      "                                                                                \n",
      "                                 Parameter Estimates                                 \n",
      "=====================================================================================\n",
      "                   Parameter  Std. Err.     T-stat    P-value    Lower CI    Upper CI\n",
      "-------------------------------------------------------------------------------------\n",
      "const                -18.509     1.9819    -9.3389     0.0000     -22.414     -14.604\n",
      "log_gdp_capita        3.0032     0.4330     6.9364     0.0000      2.1502      3.8563\n",
      "log_gdp_capita_sq    -0.0993     0.0234    -4.2430     0.0000     -0.1454     -0.0532\n",
      "=====================================================================================\n",
      "\n",
      "F-test for Poolability: 2.8033\n",
      "P-value: 0.0000\n",
      "Distribution: F(25,232)\n",
      "\n",
      "Included effects: Time\n"
     ]
    },
    {
     "name": "stderr",
     "output_type": "stream",
     "text": [
      "<ipython-input-53-65976474825e>:4: SettingWithCopyWarning: \n",
      "A value is trying to be set on a copy of a slice from a DataFrame.\n",
      "Try using .loc[row_indexer,col_indexer] = value instead\n",
      "\n",
      "See the caveats in the documentation: https://pandas.pydata.org/pandas-docs/stable/user_guide/indexing.html#returning-a-view-versus-a-copy\n",
      "  dataset['year'] = pd.to_datetime(dataset['year'], format='%Y')\n"
     ]
    }
   ],
   "source": [
    "fixed_effects_model(western_asia)"
   ]
  },
  {
   "cell_type": "code",
   "execution_count": 126,
   "metadata": {},
   "outputs": [
    {
     "name": "stdout",
     "output_type": "stream",
     "text": [
      "                          PanelOLS Estimation Summary                           \n",
      "================================================================================\n",
      "Dep. Variable:         log_co2_capita   R-squared:                        0.5765\n",
      "Estimator:                   PanelOLS   R-squared (Between):              0.5318\n",
      "No. Observations:                  78   R-squared (Within):               0.0000\n",
      "Date:                Wed, Mar 16 2022   R-squared (Overall):              0.5318\n",
      "Time:                        12:56:08   Log-likelihood                   -22.558\n",
      "Cov. Estimator:            Unadjusted                                           \n",
      "                                        F-statistic:                      34.032\n",
      "Entities:                          78   P-value                           0.0000\n",
      "Avg Obs:                       1.0000   Distribution:                    F(2,50)\n",
      "Min Obs:                       1.0000                                           \n",
      "Max Obs:                       1.0000   F-statistic (robust):             34.032\n",
      "                                        P-value                           0.0000\n",
      "Time periods:                      26   Distribution:                    F(2,50)\n",
      "Avg Obs:                       3.0000                                           \n",
      "Min Obs:                       3.0000                                           \n",
      "Max Obs:                       3.0000                                           \n",
      "                                                                                \n",
      "                                 Parameter Estimates                                 \n",
      "=====================================================================================\n",
      "                   Parameter  Std. Err.     T-stat    P-value    Lower CI    Upper CI\n",
      "-------------------------------------------------------------------------------------\n",
      "const                -61.924     15.514    -3.9915     0.0002     -93.084     -30.763\n",
      "log_gdp_capita        11.646     3.0048     3.8758     0.0003      5.6109      17.682\n",
      "log_gdp_capita_sq    -0.5274     0.1451    -3.6336     0.0007     -0.8189     -0.2358\n",
      "=====================================================================================\n",
      "\n",
      "F-test for Poolability: 2.5787\n",
      "P-value: 0.0022\n",
      "Distribution: F(25,50)\n",
      "\n",
      "Included effects: Time\n"
     ]
    },
    {
     "name": "stderr",
     "output_type": "stream",
     "text": [
      "<ipython-input-118-c8f45a6c4de2>:6: SettingWithCopyWarning: \n",
      "A value is trying to be set on a copy of a slice from a DataFrame.\n",
      "Try using .loc[row_indexer,col_indexer] = value instead\n",
      "\n",
      "See the caveats in the documentation: https://pandas.pydata.org/pandas-docs/stable/user_guide/indexing.html#returning-a-view-versus-a-copy\n",
      "  dataset['year'] = pd.to_datetime(dataset['year'], format='%Y')\n"
     ]
    }
   ],
   "source": [
    "fixed_effects_model(latin_america)"
   ]
  },
  {
   "cell_type": "code",
   "execution_count": 236,
   "metadata": {},
   "outputs": [
    {
     "name": "stdout",
     "output_type": "stream",
     "text": [
      "                          PanelOLS Estimation Summary                           \n",
      "================================================================================\n",
      "Dep. Variable:         log_co2_capita   R-squared:                        0.6476\n",
      "Estimator:                   PanelOLS   R-squared (Between):              0.4988\n",
      "No. Observations:                 208   R-squared (Within):               0.0000\n",
      "Date:                Wed, Mar 16 2022   R-squared (Overall):              0.4988\n",
      "Time:                        14:54:37   Log-likelihood                   -27.299\n",
      "Cov. Estimator:            Unadjusted                                           \n",
      "                                        F-statistic:                      81.791\n",
      "Entities:                         208   P-value                           0.0000\n",
      "Avg Obs:                       1.0000   Distribution:                   F(4,178)\n",
      "Min Obs:                       1.0000                                           \n",
      "Max Obs:                       1.0000   F-statistic (robust):             81.791\n",
      "                                        P-value                           0.0000\n",
      "Time periods:                      26   Distribution:                   F(4,178)\n",
      "Avg Obs:                       8.0000                                           \n",
      "Min Obs:                       8.0000                                           \n",
      "Max Obs:                       8.0000                                           \n",
      "                                                                                \n",
      "                                 Parameter Estimates                                 \n",
      "=====================================================================================\n",
      "                   Parameter  Std. Err.     T-stat    P-value    Lower CI    Upper CI\n",
      "-------------------------------------------------------------------------------------\n",
      "const                -60.792     8.9712    -6.7763     0.0000     -78.496     -43.088\n",
      "log_gdp_capita        11.625     1.7359     6.6968     0.0000      8.1992      15.050\n",
      "log_gdp_capita_sq    -0.5294     0.0845    -6.2618     0.0000     -0.6962     -0.3625\n",
      "forest_area          -0.0089     0.0014    -6.5090     0.0000     -0.0116     -0.0062\n",
      "log_net_exports      -0.0176     0.0203    -0.8703     0.3853     -0.0576      0.0223\n",
      "=====================================================================================\n",
      "\n",
      "F-test for Poolability: 13.011\n",
      "P-value: 0.0000\n",
      "Distribution: F(25,178)\n",
      "\n",
      "Included effects: Time\n"
     ]
    }
   ],
   "source": [
    "fixed_effects_model(asia_data, [\"forest_area\", \"log_net_exports\"])"
   ]
  },
  {
   "cell_type": "markdown",
   "metadata": {},
   "source": [
    "From the above region specific regressions, we see that a 1% increase in GDP capita\n",
    "growth rate leads to approximately 1%-3% change in the growth of CO2 emissions per\n",
    "capita. For the future iterations of the project, we would want to do a more \n",
    "detailed statistical analysis of assumptions and undertake necessary variable \n",
    "manipulations. Additionally, the model would greatly benefit by incoproating more\n",
    "socio-economic variables like human development index for each country and and \n",
    "an indicator on the quality of governance and level of corruption. It would be \n",
    "interesting to see the inter-play of these socio-economic indicators on the \n",
    "level of emissions. \n",
    "\n",
    "Additionally, a test to account for the structural break like the years around \n",
    "major climate conventions would offer meaningful insights on the changes in the \n",
    "level of emissions and if these climatic conventions have had any impact on the \n",
    "level of emissions. "
   ]
  },
  {
   "cell_type": "markdown",
   "metadata": {},
   "source": []
  }
 ],
 "metadata": {
  "interpreter": {
   "hash": "31f2aee4e71d21fbe5cf8b01ff0e069b9275f58929596ceb00d14d90e3e16cd6"
  },
  "kernelspec": {
   "display_name": "Python 3.8.5 64-bit",
   "language": "python",
   "name": "python3"
  },
  "language_info": {
   "codemirror_mode": {
    "name": "ipython",
    "version": 3
   },
   "file_extension": ".py",
   "mimetype": "text/x-python",
   "name": "python",
   "nbconvert_exporter": "python",
   "pygments_lexer": "ipython3",
   "version": "3.8.5"
  },
  "orig_nbformat": 4
 },
 "nbformat": 4,
 "nbformat_minor": 2
}
