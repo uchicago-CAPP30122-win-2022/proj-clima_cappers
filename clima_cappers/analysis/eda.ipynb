{
 "cells": [
  {
   "cell_type": "markdown",
   "metadata": {},
   "source": [
    "## Analysis and  Model Development\n",
    "\n",
    "This document outlines the process of exploratory data analysis for climate and \n",
    "economic data. There are two main components:\n",
    "1. Data cleaning and Missing values\n",
    "Indicators with more than 35% of missing values are dropped. Further, countries\n",
    "with more than 35% of the data missing are also dropped from the panel dataset.\n",
    "\n",
    "2. Data Imputation\n",
    "We use KNNImputer from sklearn to do missing value imputation. \n",
    "\n",
    "3. Model Development\n",
    "\n",
    "    * PooledOLS- Linear regression on Panel dataset. This is not the appropriate \n",
    "    model to study the relationship between CO2 emissions per capita and gdp per \n",
    "    capita because it does not account for fixed effects. \n",
    "    * PanelOLS to do Fixed Effects Regressions. This model incorporates time fixed \n",
    "    effects. We use the results from this model in the dashboard.\n",
    "\n",
    "The benchhmark model to study Environmental Kuznets Curve relationship is \n",
    "\n",
    "$logCO2capita = \\beta_0 + \\beta_1 logGDPcapita + \\beta_2 (logGDPcapita)^2$\n",
    "\n",
    "\n"
   ]
  },
  {
   "cell_type": "code",
   "execution_count": 10,
   "metadata": {},
   "outputs": [],
   "source": [
    "#Import libraries\n",
    "import sqlite3\n",
    "import numpy as np\n",
    "import pandas as pd\n",
    "import matplotlib.pyplot as plt\n",
    "import seaborn as sns\n",
    "#Pooled OLS\n",
    "import statsmodels.api as sm\n",
    "from linearmodels.panel import PooledOLS\n",
    "# FE  model\n",
    "from linearmodels import PanelOLS\n",
    "from sklearn.impute import KNNImputer"
   ]
  },
  {
   "cell_type": "code",
   "execution_count": 11,
   "metadata": {},
   "outputs": [],
   "source": [
    "# Create your connection.\n",
    "con = sqlite3.connect('../data/indicators.sqlite3', check_same_thread=False)"
   ]
  },
  {
   "cell_type": "code",
   "execution_count": 12,
   "metadata": {},
   "outputs": [],
   "source": [
    "# Import dataset as pandas dataframe\n",
    "climate_data = pd.read_sql_query(\"SELECT * FROM climate_indicators\", con)\n",
    "economic_data = pd.read_sql_query(\"SELECT * FROM econ_indicators\", con)\n",
    "region_mapping = pd.read_sql_query(\"SELECT * FROM region_mapping\", con)"
   ]
  },
  {
   "cell_type": "markdown",
   "metadata": {},
   "source": [
    "### Exploring climate data"
   ]
  },
  {
   "cell_type": "code",
   "execution_count": 13,
   "metadata": {},
   "outputs": [
    {
     "data": {
      "text/html": [
       "<div>\n",
       "<style scoped>\n",
       "    .dataframe tbody tr th:only-of-type {\n",
       "        vertical-align: middle;\n",
       "    }\n",
       "\n",
       "    .dataframe tbody tr th {\n",
       "        vertical-align: top;\n",
       "    }\n",
       "\n",
       "    .dataframe thead th {\n",
       "        text-align: right;\n",
       "    }\n",
       "</style>\n",
       "<table border=\"1\" class=\"dataframe\">\n",
       "  <thead>\n",
       "    <tr style=\"text-align: right;\">\n",
       "      <th></th>\n",
       "      <th>country</th>\n",
       "      <th>iso_code</th>\n",
       "      <th>year</th>\n",
       "      <th>co2_emissions_kt</th>\n",
       "      <th>co2_emissions_capita</th>\n",
       "      <th>forest_area</th>\n",
       "      <th>population</th>\n",
       "      <th>electricity_pro_hydro</th>\n",
       "      <th>electricity_pro_natural_gas</th>\n",
       "      <th>electricity_pro_nuclear</th>\n",
       "      <th>electricity_pro_oil</th>\n",
       "      <th>electricity_pro_coal</th>\n",
       "      <th>electricity_pro_fossils</th>\n",
       "      <th>electricity_pro_renewable</th>\n",
       "      <th>pm_25</th>\n",
       "      <th>sf6_emissions</th>\n",
       "      <th>ghg_total</th>\n",
       "      <th>ghg_growth</th>\n",
       "      <th>ghg_capita</th>\n",
       "      <th>mean_surface_temp</th>\n",
       "    </tr>\n",
       "  </thead>\n",
       "  <tbody>\n",
       "    <tr>\n",
       "      <th>0</th>\n",
       "      <td>Aruba</td>\n",
       "      <td>ABW</td>\n",
       "      <td>1995</td>\n",
       "      <td>NaN</td>\n",
       "      <td>NaN</td>\n",
       "      <td>2.333333</td>\n",
       "      <td>80324.0</td>\n",
       "      <td>NaN</td>\n",
       "      <td>NaN</td>\n",
       "      <td>NaN</td>\n",
       "      <td>NaN</td>\n",
       "      <td>NaN</td>\n",
       "      <td>NaN</td>\n",
       "      <td>NaN</td>\n",
       "      <td>NaN</td>\n",
       "      <td>NaN</td>\n",
       "      <td>NaN</td>\n",
       "      <td>NaN</td>\n",
       "      <td>NaN</td>\n",
       "      <td>0.573</td>\n",
       "    </tr>\n",
       "    <tr>\n",
       "      <th>1</th>\n",
       "      <td>Aruba</td>\n",
       "      <td>ABW</td>\n",
       "      <td>1996</td>\n",
       "      <td>NaN</td>\n",
       "      <td>NaN</td>\n",
       "      <td>2.333333</td>\n",
       "      <td>83211.0</td>\n",
       "      <td>NaN</td>\n",
       "      <td>NaN</td>\n",
       "      <td>NaN</td>\n",
       "      <td>NaN</td>\n",
       "      <td>NaN</td>\n",
       "      <td>NaN</td>\n",
       "      <td>NaN</td>\n",
       "      <td>NaN</td>\n",
       "      <td>NaN</td>\n",
       "      <td>NaN</td>\n",
       "      <td>NaN</td>\n",
       "      <td>NaN</td>\n",
       "      <td>0.727</td>\n",
       "    </tr>\n",
       "    <tr>\n",
       "      <th>2</th>\n",
       "      <td>Aruba</td>\n",
       "      <td>ABW</td>\n",
       "      <td>1997</td>\n",
       "      <td>NaN</td>\n",
       "      <td>NaN</td>\n",
       "      <td>2.333333</td>\n",
       "      <td>85450.0</td>\n",
       "      <td>NaN</td>\n",
       "      <td>NaN</td>\n",
       "      <td>NaN</td>\n",
       "      <td>NaN</td>\n",
       "      <td>NaN</td>\n",
       "      <td>NaN</td>\n",
       "      <td>NaN</td>\n",
       "      <td>NaN</td>\n",
       "      <td>NaN</td>\n",
       "      <td>NaN</td>\n",
       "      <td>NaN</td>\n",
       "      <td>NaN</td>\n",
       "      <td>NaN</td>\n",
       "    </tr>\n",
       "    <tr>\n",
       "      <th>3</th>\n",
       "      <td>Aruba</td>\n",
       "      <td>ABW</td>\n",
       "      <td>1998</td>\n",
       "      <td>NaN</td>\n",
       "      <td>NaN</td>\n",
       "      <td>2.333333</td>\n",
       "      <td>87280.0</td>\n",
       "      <td>NaN</td>\n",
       "      <td>NaN</td>\n",
       "      <td>NaN</td>\n",
       "      <td>NaN</td>\n",
       "      <td>NaN</td>\n",
       "      <td>NaN</td>\n",
       "      <td>NaN</td>\n",
       "      <td>NaN</td>\n",
       "      <td>NaN</td>\n",
       "      <td>NaN</td>\n",
       "      <td>NaN</td>\n",
       "      <td>NaN</td>\n",
       "      <td>NaN</td>\n",
       "    </tr>\n",
       "    <tr>\n",
       "      <th>4</th>\n",
       "      <td>Aruba</td>\n",
       "      <td>ABW</td>\n",
       "      <td>1999</td>\n",
       "      <td>NaN</td>\n",
       "      <td>NaN</td>\n",
       "      <td>2.333333</td>\n",
       "      <td>89009.0</td>\n",
       "      <td>NaN</td>\n",
       "      <td>NaN</td>\n",
       "      <td>NaN</td>\n",
       "      <td>NaN</td>\n",
       "      <td>NaN</td>\n",
       "      <td>NaN</td>\n",
       "      <td>NaN</td>\n",
       "      <td>NaN</td>\n",
       "      <td>NaN</td>\n",
       "      <td>NaN</td>\n",
       "      <td>NaN</td>\n",
       "      <td>NaN</td>\n",
       "      <td>NaN</td>\n",
       "    </tr>\n",
       "  </tbody>\n",
       "</table>\n",
       "</div>"
      ],
      "text/plain": [
       "  country iso_code  year  co2_emissions_kt  co2_emissions_capita  forest_area  \\\n",
       "0   Aruba      ABW  1995               NaN                   NaN     2.333333   \n",
       "1   Aruba      ABW  1996               NaN                   NaN     2.333333   \n",
       "2   Aruba      ABW  1997               NaN                   NaN     2.333333   \n",
       "3   Aruba      ABW  1998               NaN                   NaN     2.333333   \n",
       "4   Aruba      ABW  1999               NaN                   NaN     2.333333   \n",
       "\n",
       "   population  electricity_pro_hydro  electricity_pro_natural_gas  \\\n",
       "0     80324.0                    NaN                          NaN   \n",
       "1     83211.0                    NaN                          NaN   \n",
       "2     85450.0                    NaN                          NaN   \n",
       "3     87280.0                    NaN                          NaN   \n",
       "4     89009.0                    NaN                          NaN   \n",
       "\n",
       "   electricity_pro_nuclear  electricity_pro_oil  electricity_pro_coal  \\\n",
       "0                      NaN                  NaN                   NaN   \n",
       "1                      NaN                  NaN                   NaN   \n",
       "2                      NaN                  NaN                   NaN   \n",
       "3                      NaN                  NaN                   NaN   \n",
       "4                      NaN                  NaN                   NaN   \n",
       "\n",
       "   electricity_pro_fossils  electricity_pro_renewable  pm_25  sf6_emissions  \\\n",
       "0                      NaN                        NaN    NaN            NaN   \n",
       "1                      NaN                        NaN    NaN            NaN   \n",
       "2                      NaN                        NaN    NaN            NaN   \n",
       "3                      NaN                        NaN    NaN            NaN   \n",
       "4                      NaN                        NaN    NaN            NaN   \n",
       "\n",
       "   ghg_total  ghg_growth  ghg_capita  mean_surface_temp  \n",
       "0        NaN         NaN         NaN              0.573  \n",
       "1        NaN         NaN         NaN              0.727  \n",
       "2        NaN         NaN         NaN                NaN  \n",
       "3        NaN         NaN         NaN                NaN  \n",
       "4        NaN         NaN         NaN                NaN  "
      ]
     },
     "execution_count": 13,
     "metadata": {},
     "output_type": "execute_result"
    }
   ],
   "source": [
    "#print the head of the data frame.\n",
    "climate_data.head()"
   ]
  },
  {
   "cell_type": "code",
   "execution_count": 14,
   "metadata": {},
   "outputs": [
    {
     "name": "stdout",
     "output_type": "stream",
     "text": [
      "<class 'pandas.core.frame.DataFrame'>\n",
      "RangeIndex: 5250 entries, 0 to 5249\n",
      "Data columns (total 20 columns):\n",
      " #   Column                       Non-Null Count  Dtype  \n",
      "---  ------                       --------------  -----  \n",
      " 0   country                      5250 non-null   object \n",
      " 1   iso_code                     5250 non-null   object \n",
      " 2   year                         5250 non-null   int64  \n",
      " 3   co2_emissions_kt             4584 non-null   float64\n",
      " 4   co2_emissions_capita         4584 non-null   float64\n",
      " 5   forest_area                  5134 non-null   float64\n",
      " 6   population                   5217 non-null   float64\n",
      " 7   electricity_pro_hydro        2903 non-null   float64\n",
      " 8   electricity_pro_natural_gas  2903 non-null   float64\n",
      " 9   electricity_pro_nuclear      2798 non-null   float64\n",
      " 10  electricity_pro_oil          2903 non-null   float64\n",
      " 11  electricity_pro_coal         2903 non-null   float64\n",
      " 12  electricity_pro_fossils      2903 non-null   float64\n",
      " 13  electricity_pro_renewable    2903 non-null   float64\n",
      " 14  pm_25                        2101 non-null   float64\n",
      " 15  sf6_emissions                538 non-null    float64\n",
      " 16  ghg_total                    4584 non-null   float64\n",
      " 17  ghg_growth                   4560 non-null   float64\n",
      " 18  ghg_capita                   4553 non-null   float64\n",
      " 19  mean_surface_temp            5034 non-null   float64\n",
      "dtypes: float64(17), int64(1), object(2)\n",
      "memory usage: 820.4+ KB\n"
     ]
    }
   ],
   "source": [
    "climate_data.info()"
   ]
  },
  {
   "cell_type": "code",
   "execution_count": 15,
   "metadata": {},
   "outputs": [
    {
     "data": {
      "text/plain": [
       "(5250, 20)"
      ]
     },
     "execution_count": 15,
     "metadata": {},
     "output_type": "execute_result"
    }
   ],
   "source": [
    "climate_data.shape"
   ]
  },
  {
   "cell_type": "markdown",
   "metadata": {},
   "source": [
    "### Missing values analysis"
   ]
  },
  {
   "cell_type": "code",
   "execution_count": 16,
   "metadata": {},
   "outputs": [
    {
     "data": {
      "text/html": [
       "<div>\n",
       "<style scoped>\n",
       "    .dataframe tbody tr th:only-of-type {\n",
       "        vertical-align: middle;\n",
       "    }\n",
       "\n",
       "    .dataframe tbody tr th {\n",
       "        vertical-align: top;\n",
       "    }\n",
       "\n",
       "    .dataframe thead th {\n",
       "        text-align: right;\n",
       "    }\n",
       "</style>\n",
       "<table border=\"1\" class=\"dataframe\">\n",
       "  <thead>\n",
       "    <tr style=\"text-align: right;\">\n",
       "      <th></th>\n",
       "      <th>percent_missing</th>\n",
       "    </tr>\n",
       "  </thead>\n",
       "  <tbody>\n",
       "    <tr>\n",
       "      <th>country</th>\n",
       "      <td>0.000000</td>\n",
       "    </tr>\n",
       "    <tr>\n",
       "      <th>iso_code</th>\n",
       "      <td>0.000000</td>\n",
       "    </tr>\n",
       "    <tr>\n",
       "      <th>year</th>\n",
       "      <td>0.000000</td>\n",
       "    </tr>\n",
       "    <tr>\n",
       "      <th>co2_emissions_kt</th>\n",
       "      <td>12.685714</td>\n",
       "    </tr>\n",
       "    <tr>\n",
       "      <th>co2_emissions_capita</th>\n",
       "      <td>12.685714</td>\n",
       "    </tr>\n",
       "    <tr>\n",
       "      <th>forest_area</th>\n",
       "      <td>2.209524</td>\n",
       "    </tr>\n",
       "    <tr>\n",
       "      <th>population</th>\n",
       "      <td>0.628571</td>\n",
       "    </tr>\n",
       "    <tr>\n",
       "      <th>electricity_pro_hydro</th>\n",
       "      <td>44.704762</td>\n",
       "    </tr>\n",
       "    <tr>\n",
       "      <th>electricity_pro_natural_gas</th>\n",
       "      <td>44.704762</td>\n",
       "    </tr>\n",
       "    <tr>\n",
       "      <th>electricity_pro_nuclear</th>\n",
       "      <td>46.704762</td>\n",
       "    </tr>\n",
       "    <tr>\n",
       "      <th>electricity_pro_oil</th>\n",
       "      <td>44.704762</td>\n",
       "    </tr>\n",
       "    <tr>\n",
       "      <th>electricity_pro_coal</th>\n",
       "      <td>44.704762</td>\n",
       "    </tr>\n",
       "    <tr>\n",
       "      <th>electricity_pro_fossils</th>\n",
       "      <td>44.704762</td>\n",
       "    </tr>\n",
       "    <tr>\n",
       "      <th>electricity_pro_renewable</th>\n",
       "      <td>44.704762</td>\n",
       "    </tr>\n",
       "    <tr>\n",
       "      <th>pm_25</th>\n",
       "      <td>59.980952</td>\n",
       "    </tr>\n",
       "    <tr>\n",
       "      <th>sf6_emissions</th>\n",
       "      <td>89.752381</td>\n",
       "    </tr>\n",
       "    <tr>\n",
       "      <th>ghg_total</th>\n",
       "      <td>12.685714</td>\n",
       "    </tr>\n",
       "    <tr>\n",
       "      <th>ghg_growth</th>\n",
       "      <td>13.142857</td>\n",
       "    </tr>\n",
       "    <tr>\n",
       "      <th>ghg_capita</th>\n",
       "      <td>13.276190</td>\n",
       "    </tr>\n",
       "    <tr>\n",
       "      <th>mean_surface_temp</th>\n",
       "      <td>4.114286</td>\n",
       "    </tr>\n",
       "  </tbody>\n",
       "</table>\n",
       "</div>"
      ],
      "text/plain": [
       "                             percent_missing\n",
       "country                             0.000000\n",
       "iso_code                            0.000000\n",
       "year                                0.000000\n",
       "co2_emissions_kt                   12.685714\n",
       "co2_emissions_capita               12.685714\n",
       "forest_area                         2.209524\n",
       "population                          0.628571\n",
       "electricity_pro_hydro              44.704762\n",
       "electricity_pro_natural_gas        44.704762\n",
       "electricity_pro_nuclear            46.704762\n",
       "electricity_pro_oil                44.704762\n",
       "electricity_pro_coal               44.704762\n",
       "electricity_pro_fossils            44.704762\n",
       "electricity_pro_renewable          44.704762\n",
       "pm_25                              59.980952\n",
       "sf6_emissions                      89.752381\n",
       "ghg_total                          12.685714\n",
       "ghg_growth                         13.142857\n",
       "ghg_capita                         13.276190\n",
       "mean_surface_temp                   4.114286"
      ]
     },
     "execution_count": 16,
     "metadata": {},
     "output_type": "execute_result"
    }
   ],
   "source": [
    "percent_missing = climate_data.isnull().sum() * 100 / len(climate_data)\n",
    "missing_value_df = pd.DataFrame({'percent_missing': percent_missing})\n",
    "missing_value_df"
   ]
  },
  {
   "cell_type": "markdown",
   "metadata": {},
   "source": [
    "As electricity production variables, pm25 and sf6 emissions have more almost 50%\n",
    "of data missing, we can drop these variables. We drop variables with more than \n",
    "35% of data."
   ]
  },
  {
   "cell_type": "code",
   "execution_count": 17,
   "metadata": {},
   "outputs": [
    {
     "data": {
      "text/plain": [
       "Index(['country', 'iso_code', 'year', 'co2_emissions_kt',\n",
       "       'co2_emissions_capita', 'forest_area', 'population', 'ghg_total',\n",
       "       'ghg_growth', 'ghg_capita', 'mean_surface_temp'],\n",
       "      dtype='object')"
      ]
     },
     "execution_count": 17,
     "metadata": {},
     "output_type": "execute_result"
    }
   ],
   "source": [
    "perc = 35.0\n",
    "min_count =  int(((100-perc)/100)*climate_data.shape[0] + 1)\n",
    "climate_data = climate_data.dropna(axis = 1, thresh = min_count)\n",
    "climate_data.columns"
   ]
  },
  {
   "cell_type": "code",
   "execution_count": 18,
   "metadata": {},
   "outputs": [],
   "source": [
    "def missing_values_graph(frame, obs, time, var, Yname):\n",
    "    test = frame[[obs, time, var]]\n",
    "    test[var].fillna(-1, inplace=True)\n",
    "    test = test.groupby([obs, time])[var].aggregate('mean').unstack()\n",
    "    test[test > 0] = 1\n",
    "    cmap = sns.xkcd_palette([\"grey\", \"blue\"])\n",
    "    plt.figure(figsize=(10, 5))\n",
    "    ax = sns.heatmap(test, center=0, cmap=cmap, cbar=False,\n",
    "                     cbar_kws={'ticks': [-1, 0, 1]})\n",
    "    ax.set(yticklabels=[])\n",
    "    plt.ylabel(Yname+ \" (N=\" + str(len(test)) + \")\", fontsize=14)\n",
    "    plt.xlabel(\"\")\n",
    "    plt.title((var + \"\\n missing values (grey), availabe values (blue)\"),\n",
    "              fontsize=14)\n",
    "    plt.tight_layout()\n",
    "    plt.show()"
   ]
  },
  {
   "cell_type": "markdown",
   "metadata": {},
   "source": [
    "The above function creates a graph for the variable of interest. On the y-axsis you see the the observations (names in this case). On the x-axis you see the years. Available values are highlighed blue, while missing data are grey."
   ]
  },
  {
   "cell_type": "code",
   "execution_count": 19,
   "metadata": {},
   "outputs": [
    {
     "name": "stderr",
     "output_type": "stream",
     "text": [
      "<ipython-input-18-3bd2c6c465af>:3: SettingWithCopyWarning: \n",
      "A value is trying to be set on a copy of a slice from a DataFrame\n",
      "\n",
      "See the caveats in the documentation: https://pandas.pydata.org/pandas-docs/stable/user_guide/indexing.html#returning-a-view-versus-a-copy\n",
      "  test[var].fillna(-1, inplace=True)\n"
     ]
    },
    {
     "data": {
      "image/png": "[encoded data removed]",
      "text/plain": [
       "<Figure size 720x360 with 1 Axes>"
      ]
     },
     "metadata": {
      "needs_background": "light"
     },
     "output_type": "display_data"
    },
    {
     "name": "stdout",
     "output_type": "stream",
     "text": [
      "None\n"
     ]
    },
    {
     "name": "stderr",
     "output_type": "stream",
     "text": [
      "<ipython-input-18-3bd2c6c465af>:3: SettingWithCopyWarning: \n",
      "A value is trying to be set on a copy of a slice from a DataFrame\n",
      "\n",
      "See the caveats in the documentation: https://pandas.pydata.org/pandas-docs/stable/user_guide/indexing.html#returning-a-view-versus-a-copy\n",
      "  test[var].fillna(-1, inplace=True)\n"
     ]
    },
    {
     "data": {
      "image/png": "[encoded data removed]",
      "text/plain": [
       "<Figure size 720x360 with 1 Axes>"
      ]
     },
     "metadata": {
      "needs_background": "light"
     },
     "output_type": "display_data"
    },
    {
     "name": "stdout",
     "output_type": "stream",
     "text": [
      "None\n"
     ]
    },
    {
     "name": "stderr",
     "output_type": "stream",
     "text": [
      "<ipython-input-18-3bd2c6c465af>:3: SettingWithCopyWarning: \n",
      "A value is trying to be set on a copy of a slice from a DataFrame\n",
      "\n",
      "See the caveats in the documentation: https://pandas.pydata.org/pandas-docs/stable/user_guide/indexing.html#returning-a-view-versus-a-copy\n",
      "  test[var].fillna(-1, inplace=True)\n"
     ]
    },
    {
     "data": {
      "image/png": "[encoded data removed]",
      "text/plain": [
       "<Figure size 720x360 with 1 Axes>"
      ]
     },
     "metadata": {
      "needs_background": "light"
     },
     "output_type": "display_data"
    },
    {
     "name": "stdout",
     "output_type": "stream",
     "text": [
      "None\n"
     ]
    },
    {
     "name": "stderr",
     "output_type": "stream",
     "text": [
      "<ipython-input-18-3bd2c6c465af>:3: SettingWithCopyWarning: \n",
      "A value is trying to be set on a copy of a slice from a DataFrame\n",
      "\n",
      "See the caveats in the documentation: https://pandas.pydata.org/pandas-docs/stable/user_guide/indexing.html#returning-a-view-versus-a-copy\n",
      "  test[var].fillna(-1, inplace=True)\n"
     ]
    },
    {
     "data": {
      "image/png": "[encoded data removed]",
      "text/plain": [
       "<Figure size 720x360 with 1 Axes>"
      ]
     },
     "metadata": {
      "needs_background": "light"
     },
     "output_type": "display_data"
    },
    {
     "name": "stdout",
     "output_type": "stream",
     "text": [
      "None\n"
     ]
    },
    {
     "name": "stderr",
     "output_type": "stream",
     "text": [
      "<ipython-input-18-3bd2c6c465af>:3: SettingWithCopyWarning: \n",
      "A value is trying to be set on a copy of a slice from a DataFrame\n",
      "\n",
      "See the caveats in the documentation: https://pandas.pydata.org/pandas-docs/stable/user_guide/indexing.html#returning-a-view-versus-a-copy\n",
      "  test[var].fillna(-1, inplace=True)\n"
     ]
    },
    {
     "data": {
      "image/png": "[encoded data removed]",
      "text/plain": [
       "<Figure size 720x360 with 1 Axes>"
      ]
     },
     "metadata": {
      "needs_background": "light"
     },
     "output_type": "display_data"
    },
    {
     "name": "stdout",
     "output_type": "stream",
     "text": [
      "None\n"
     ]
    },
    {
     "name": "stderr",
     "output_type": "stream",
     "text": [
      "<ipython-input-18-3bd2c6c465af>:3: SettingWithCopyWarning: \n",
      "A value is trying to be set on a copy of a slice from a DataFrame\n",
      "\n",
      "See the caveats in the documentation: https://pandas.pydata.org/pandas-docs/stable/user_guide/indexing.html#returning-a-view-versus-a-copy\n",
      "  test[var].fillna(-1, inplace=True)\n"
     ]
    },
    {
     "data": {
      "image/png": "[encoded data removed]",
      "text/plain": [
       "<Figure size 720x360 with 1 Axes>"
      ]
     },
     "metadata": {
      "needs_background": "light"
     },
     "output_type": "display_data"
    },
    {
     "name": "stdout",
     "output_type": "stream",
     "text": [
      "None\n"
     ]
    },
    {
     "name": "stderr",
     "output_type": "stream",
     "text": [
      "<ipython-input-18-3bd2c6c465af>:3: SettingWithCopyWarning: \n",
      "A value is trying to be set on a copy of a slice from a DataFrame\n",
      "\n",
      "See the caveats in the documentation: https://pandas.pydata.org/pandas-docs/stable/user_guide/indexing.html#returning-a-view-versus-a-copy\n",
      "  test[var].fillna(-1, inplace=True)\n"
     ]
    },
    {
     "data": {
      "image/png": "[encoded data removed]",
      "text/plain": [
       "<Figure size 720x360 with 1 Axes>"
      ]
     },
     "metadata": {
      "needs_background": "light"
     },
     "output_type": "display_data"
    },
    {
     "name": "stdout",
     "output_type": "stream",
     "text": [
      "None\n"
     ]
    },
    {
     "name": "stderr",
     "output_type": "stream",
     "text": [
      "<ipython-input-18-3bd2c6c465af>:3: SettingWithCopyWarning: \n",
      "A value is trying to be set on a copy of a slice from a DataFrame\n",
      "\n",
      "See the caveats in the documentation: https://pandas.pydata.org/pandas-docs/stable/user_guide/indexing.html#returning-a-view-versus-a-copy\n",
      "  test[var].fillna(-1, inplace=True)\n"
     ]
    },
    {
     "data": {
      "image/png": "[encoded data removed]",
      "text/plain": [
       "<Figure size 720x360 with 1 Axes>"
      ]
     },
     "metadata": {
      "needs_background": "light"
     },
     "output_type": "display_data"
    },
    {
     "name": "stdout",
     "output_type": "stream",
     "text": [
      "None\n"
     ]
    }
   ],
   "source": [
    "for col in climate_data.columns[3:]:\n",
    "    print(missing_values_graph(climate_data, \"iso_code\", \"year\", col, col))"
   ]
  },
  {
   "cell_type": "markdown",
   "metadata": {},
   "source": [
    "### Exploring economic data"
   ]
  },
  {
   "cell_type": "code",
   "execution_count": 20,
   "metadata": {},
   "outputs": [
    {
     "data": {
      "text/html": [
       "<div>\n",
       "<style scoped>\n",
       "    .dataframe tbody tr th:only-of-type {\n",
       "        vertical-align: middle;\n",
       "    }\n",
       "\n",
       "    .dataframe tbody tr th {\n",
       "        vertical-align: top;\n",
       "    }\n",
       "\n",
       "    .dataframe thead th {\n",
       "        text-align: right;\n",
       "    }\n",
       "</style>\n",
       "<table border=\"1\" class=\"dataframe\">\n",
       "  <thead>\n",
       "    <tr style=\"text-align: right;\">\n",
       "      <th></th>\n",
       "      <th>country</th>\n",
       "      <th>iso_code</th>\n",
       "      <th>year</th>\n",
       "      <th>gdp_constant_change</th>\n",
       "      <th>gdp_capita</th>\n",
       "      <th>vol_imports_change</th>\n",
       "      <th>vol_exports_change</th>\n",
       "      <th>population</th>\n",
       "      <th>gdp_current</th>\n",
       "      <th>energy_usage</th>\n",
       "      <th>imports_gns</th>\n",
       "      <th>exports_gns</th>\n",
       "    </tr>\n",
       "  </thead>\n",
       "  <tbody>\n",
       "    <tr>\n",
       "      <th>0</th>\n",
       "      <td>Afghanistan</td>\n",
       "      <td>AFG</td>\n",
       "      <td>1995</td>\n",
       "      <td></td>\n",
       "      <td></td>\n",
       "      <td></td>\n",
       "      <td></td>\n",
       "      <td></td>\n",
       "      <td></td>\n",
       "      <td></td>\n",
       "      <td></td>\n",
       "      <td></td>\n",
       "    </tr>\n",
       "    <tr>\n",
       "      <th>1</th>\n",
       "      <td>Albania</td>\n",
       "      <td>ALB</td>\n",
       "      <td>1995</td>\n",
       "      <td>8.9</td>\n",
       "      <td>4582.93</td>\n",
       "      <td>0.0</td>\n",
       "      <td></td>\n",
       "      <td>3.188</td>\n",
       "      <td>9.643</td>\n",
       "      <td>417.034843</td>\n",
       "      <td></td>\n",
       "      <td></td>\n",
       "    </tr>\n",
       "    <tr>\n",
       "      <th>2</th>\n",
       "      <td>Algeria</td>\n",
       "      <td>DZA</td>\n",
       "      <td>1995</td>\n",
       "      <td>3.848</td>\n",
       "      <td>8158.72</td>\n",
       "      <td>2.0</td>\n",
       "      <td>5.733</td>\n",
       "      <td>28.06</td>\n",
       "      <td>204.348</td>\n",
       "      <td>843.041996</td>\n",
       "      <td>16590532511.0</td>\n",
       "      <td>33084611492.0</td>\n",
       "    </tr>\n",
       "    <tr>\n",
       "      <th>3</th>\n",
       "      <td>Angola</td>\n",
       "      <td>AGO</td>\n",
       "      <td>1995</td>\n",
       "      <td>10.364</td>\n",
       "      <td>3973.12</td>\n",
       "      <td>27.968</td>\n",
       "      <td>12.24</td>\n",
       "      <td>14.771</td>\n",
       "      <td>37.582</td>\n",
       "      <td>455.666087</td>\n",
       "      <td></td>\n",
       "      <td></td>\n",
       "    </tr>\n",
       "    <tr>\n",
       "      <th>4</th>\n",
       "      <td>Antigua and Barbuda</td>\n",
       "      <td>ATG</td>\n",
       "      <td>1995</td>\n",
       "      <td>-4.359</td>\n",
       "      <td>16127.97</td>\n",
       "      <td></td>\n",
       "      <td></td>\n",
       "      <td>0.067</td>\n",
       "      <td>0.909</td>\n",
       "      <td></td>\n",
       "      <td></td>\n",
       "      <td></td>\n",
       "    </tr>\n",
       "  </tbody>\n",
       "</table>\n",
       "</div>"
      ],
      "text/plain": [
       "               country iso_code  year gdp_constant_change gdp_capita  \\\n",
       "0          Afghanistan      AFG  1995                                  \n",
       "1              Albania      ALB  1995                 8.9    4582.93   \n",
       "2              Algeria      DZA  1995               3.848    8158.72   \n",
       "3               Angola      AGO  1995              10.364    3973.12   \n",
       "4  Antigua and Barbuda      ATG  1995              -4.359   16127.97   \n",
       "\n",
       "  vol_imports_change vol_exports_change population gdp_current energy_usage  \\\n",
       "0                                                                             \n",
       "1                0.0                         3.188       9.643   417.034843   \n",
       "2                2.0              5.733      28.06     204.348   843.041996   \n",
       "3             27.968              12.24     14.771      37.582   455.666087   \n",
       "4                                            0.067       0.909                \n",
       "\n",
       "     imports_gns    exports_gns  \n",
       "0                                \n",
       "1                                \n",
       "2  16590532511.0  33084611492.0  \n",
       "3                                \n",
       "4                                "
      ]
     },
     "execution_count": 20,
     "metadata": {},
     "output_type": "execute_result"
    }
   ],
   "source": [
    "economic_data.head()"
   ]
  },
  {
   "cell_type": "code",
   "execution_count": 21,
   "metadata": {},
   "outputs": [
    {
     "name": "stdout",
     "output_type": "stream",
     "text": [
      "<class 'pandas.core.frame.DataFrame'>\n",
      "RangeIndex: 5070 entries, 0 to 5069\n",
      "Data columns (total 12 columns):\n",
      " #   Column               Non-Null Count  Dtype \n",
      "---  ------               --------------  ----- \n",
      " 0   country              5070 non-null   object\n",
      " 1   iso_code             5070 non-null   object\n",
      " 2   year                 5070 non-null   int64 \n",
      " 3   gdp_constant_change  5070 non-null   object\n",
      " 4   gdp_capita           5070 non-null   object\n",
      " 5   vol_imports_change   5070 non-null   object\n",
      " 6   vol_exports_change   5070 non-null   object\n",
      " 7   population           5070 non-null   object\n",
      " 8   gdp_current          5070 non-null   object\n",
      " 9   energy_usage         5070 non-null   object\n",
      " 10  imports_gns          5070 non-null   object\n",
      " 11  exports_gns          5070 non-null   object\n",
      "dtypes: int64(1), object(11)\n",
      "memory usage: 475.4+ KB\n"
     ]
    }
   ],
   "source": [
    "economic_data.info()"
   ]
  },
  {
   "cell_type": "code",
   "execution_count": 22,
   "metadata": {},
   "outputs": [
    {
     "name": "stdout",
     "output_type": "stream",
     "text": [
      "<class 'pandas.core.frame.DataFrame'>\n",
      "RangeIndex: 5070 entries, 0 to 5069\n",
      "Data columns (total 12 columns):\n",
      " #   Column               Non-Null Count  Dtype  \n",
      "---  ------               --------------  -----  \n",
      " 0   country              5070 non-null   object \n",
      " 1   iso_code             5070 non-null   object \n",
      " 2   year                 5070 non-null   int64  \n",
      " 3   gdp_constant_change  4932 non-null   float64\n",
      " 4   gdp_capita           4926 non-null   float64\n",
      " 5   vol_imports_change   4399 non-null   float64\n",
      " 6   vol_exports_change   4425 non-null   float64\n",
      " 7   population           4948 non-null   float64\n",
      " 8   gdp_current          4957 non-null   float64\n",
      " 9   energy_usage         2851 non-null   float64\n",
      " 10  imports_gns          3730 non-null   float64\n",
      " 11  exports_gns          3730 non-null   float64\n",
      "dtypes: float64(9), int64(1), object(2)\n",
      "memory usage: 475.4+ KB\n"
     ]
    }
   ],
   "source": [
    "# convert string columns to numeric dtype\n",
    "for col in economic_data.columns[3:]:\n",
    "    economic_data[col]=pd.to_numeric(economic_data[col])\n",
    "economic_data.info()"
   ]
  },
  {
   "cell_type": "code",
   "execution_count": 23,
   "metadata": {},
   "outputs": [
    {
     "data": {
      "text/html": [
       "<div>\n",
       "<style scoped>\n",
       "    .dataframe tbody tr th:only-of-type {\n",
       "        vertical-align: middle;\n",
       "    }\n",
       "\n",
       "    .dataframe tbody tr th {\n",
       "        vertical-align: top;\n",
       "    }\n",
       "\n",
       "    .dataframe thead th {\n",
       "        text-align: right;\n",
       "    }\n",
       "</style>\n",
       "<table border=\"1\" class=\"dataframe\">\n",
       "  <thead>\n",
       "    <tr style=\"text-align: right;\">\n",
       "      <th></th>\n",
       "      <th>percent_missing</th>\n",
       "    </tr>\n",
       "  </thead>\n",
       "  <tbody>\n",
       "    <tr>\n",
       "      <th>country</th>\n",
       "      <td>0.000000</td>\n",
       "    </tr>\n",
       "    <tr>\n",
       "      <th>iso_code</th>\n",
       "      <td>0.000000</td>\n",
       "    </tr>\n",
       "    <tr>\n",
       "      <th>year</th>\n",
       "      <td>0.000000</td>\n",
       "    </tr>\n",
       "    <tr>\n",
       "      <th>gdp_constant_change</th>\n",
       "      <td>2.628571</td>\n",
       "    </tr>\n",
       "    <tr>\n",
       "      <th>gdp_capita</th>\n",
       "      <td>2.742857</td>\n",
       "    </tr>\n",
       "    <tr>\n",
       "      <th>vol_imports_change</th>\n",
       "      <td>12.780952</td>\n",
       "    </tr>\n",
       "    <tr>\n",
       "      <th>vol_exports_change</th>\n",
       "      <td>12.285714</td>\n",
       "    </tr>\n",
       "    <tr>\n",
       "      <th>population</th>\n",
       "      <td>2.323810</td>\n",
       "    </tr>\n",
       "    <tr>\n",
       "      <th>gdp_current</th>\n",
       "      <td>2.152381</td>\n",
       "    </tr>\n",
       "    <tr>\n",
       "      <th>energy_usage</th>\n",
       "      <td>42.266667</td>\n",
       "    </tr>\n",
       "    <tr>\n",
       "      <th>imports_gns</th>\n",
       "      <td>25.523810</td>\n",
       "    </tr>\n",
       "    <tr>\n",
       "      <th>exports_gns</th>\n",
       "      <td>25.523810</td>\n",
       "    </tr>\n",
       "  </tbody>\n",
       "</table>\n",
       "</div>"
      ],
      "text/plain": [
       "                     percent_missing\n",
       "country                     0.000000\n",
       "iso_code                    0.000000\n",
       "year                        0.000000\n",
       "gdp_constant_change         2.628571\n",
       "gdp_capita                  2.742857\n",
       "vol_imports_change         12.780952\n",
       "vol_exports_change         12.285714\n",
       "population                  2.323810\n",
       "gdp_current                 2.152381\n",
       "energy_usage               42.266667\n",
       "imports_gns                25.523810\n",
       "exports_gns                25.523810"
      ]
     },
     "execution_count": 23,
     "metadata": {},
     "output_type": "execute_result"
    }
   ],
   "source": [
    "percent_missing = economic_data.isnull().sum() * 100 / len(climate_data)\n",
    "missing_value_df = pd.DataFrame({'percent_missing': percent_missing})\n",
    "missing_value_df"
   ]
  },
  {
   "cell_type": "code",
   "execution_count": 24,
   "metadata": {},
   "outputs": [
    {
     "data": {
      "text/plain": [
       "(5070, 12)"
      ]
     },
     "execution_count": 24,
     "metadata": {},
     "output_type": "execute_result"
    }
   ],
   "source": [
    "economic_data.shape"
   ]
  },
  {
   "cell_type": "code",
   "execution_count": 25,
   "metadata": {},
   "outputs": [
    {
     "data": {
      "text/plain": [
       "(5070, 11)"
      ]
     },
     "execution_count": 25,
     "metadata": {},
     "output_type": "execute_result"
    }
   ],
   "source": [
    "perc = 35.0\n",
    "min_count =  int(((100-perc)/100)*economic_data.shape[0] + 1)\n",
    "economic_data = economic_data.dropna(axis = 1, thresh = min_count)\n",
    "economic_data.shape"
   ]
  },
  {
   "cell_type": "code",
   "execution_count": 26,
   "metadata": {},
   "outputs": [
    {
     "name": "stderr",
     "output_type": "stream",
     "text": [
      "<ipython-input-18-3bd2c6c465af>:3: SettingWithCopyWarning: \n",
      "A value is trying to be set on a copy of a slice from a DataFrame\n",
      "\n",
      "See the caveats in the documentation: https://pandas.pydata.org/pandas-docs/stable/user_guide/indexing.html#returning-a-view-versus-a-copy\n",
      "  test[var].fillna(-1, inplace=True)\n"
     ]
    },
    {
     "data": {
      "image/png": "[encoded data removed]",
      "text/plain": [
       "<Figure size 720x360 with 1 Axes>"
      ]
     },
     "metadata": {
      "needs_background": "light"
     },
     "output_type": "display_data"
    },
    {
     "name": "stdout",
     "output_type": "stream",
     "text": [
      "None\n"
     ]
    },
    {
     "name": "stderr",
     "output_type": "stream",
     "text": [
      "<ipython-input-18-3bd2c6c465af>:3: SettingWithCopyWarning: \n",
      "A value is trying to be set on a copy of a slice from a DataFrame\n",
      "\n",
      "See the caveats in the documentation: https://pandas.pydata.org/pandas-docs/stable/user_guide/indexing.html#returning-a-view-versus-a-copy\n",
      "  test[var].fillna(-1, inplace=True)\n"
     ]
    },
    {
     "data": {
      "image/png": "[encoded data removed]",
      "text/plain": [
       "<Figure size 720x360 with 1 Axes>"
      ]
     },
     "metadata": {
      "needs_background": "light"
     },
     "output_type": "display_data"
    },
    {
     "name": "stdout",
     "output_type": "stream",
     "text": [
      "None\n"
     ]
    },
    {
     "name": "stderr",
     "output_type": "stream",
     "text": [
      "<ipython-input-18-3bd2c6c465af>:3: SettingWithCopyWarning: \n",
      "A value is trying to be set on a copy of a slice from a DataFrame\n",
      "\n",
      "See the caveats in the documentation: https://pandas.pydata.org/pandas-docs/stable/user_guide/indexing.html#returning-a-view-versus-a-copy\n",
      "  test[var].fillna(-1, inplace=True)\n"
     ]
    },
    {
     "data": {
      "image/png": "[encoded data removed]",
      "text/plain": [
       "<Figure size 720x360 with 1 Axes>"
      ]
     },
     "metadata": {
      "needs_background": "light"
     },
     "output_type": "display_data"
    },
    {
     "name": "stdout",
     "output_type": "stream",
     "text": [
      "None\n"
     ]
    },
    {
     "name": "stderr",
     "output_type": "stream",
     "text": [
      "<ipython-input-18-3bd2c6c465af>:3: SettingWithCopyWarning: \n",
      "A value is trying to be set on a copy of a slice from a DataFrame\n",
      "\n",
      "See the caveats in the documentation: https://pandas.pydata.org/pandas-docs/stable/user_guide/indexing.html#returning-a-view-versus-a-copy\n",
      "  test[var].fillna(-1, inplace=True)\n"
     ]
    },
    {
     "data": {
      "image/png": "[encoded data removed]",
      "text/plain": [
       "<Figure size 720x360 with 1 Axes>"
      ]
     },
     "metadata": {
      "needs_background": "light"
     },
     "output_type": "display_data"
    },
    {
     "name": "stdout",
     "output_type": "stream",
     "text": [
      "None\n"
     ]
    },
    {
     "name": "stderr",
     "output_type": "stream",
     "text": [
      "<ipython-input-18-3bd2c6c465af>:3: SettingWithCopyWarning: \n",
      "A value is trying to be set on a copy of a slice from a DataFrame\n",
      "\n",
      "See the caveats in the documentation: https://pandas.pydata.org/pandas-docs/stable/user_guide/indexing.html#returning-a-view-versus-a-copy\n",
      "  test[var].fillna(-1, inplace=True)\n"
     ]
    },
    {
     "data": {
      "image/png": "[encoded data removed]",
      "text/plain": [
       "<Figure size 720x360 with 1 Axes>"
      ]
     },
     "metadata": {
      "needs_background": "light"
     },
     "output_type": "display_data"
    },
    {
     "name": "stdout",
     "output_type": "stream",
     "text": [
      "None\n"
     ]
    },
    {
     "name": "stderr",
     "output_type": "stream",
     "text": [
      "<ipython-input-18-3bd2c6c465af>:3: SettingWithCopyWarning: \n",
      "A value is trying to be set on a copy of a slice from a DataFrame\n",
      "\n",
      "See the caveats in the documentation: https://pandas.pydata.org/pandas-docs/stable/user_guide/indexing.html#returning-a-view-versus-a-copy\n",
      "  test[var].fillna(-1, inplace=True)\n"
     ]
    },
    {
     "data": {
      "image/png": "[encoded data removed]",
      "text/plain": [
       "<Figure size 720x360 with 1 Axes>"
      ]
     },
     "metadata": {
      "needs_background": "light"
     },
     "output_type": "display_data"
    },
    {
     "name": "stdout",
     "output_type": "stream",
     "text": [
      "None\n"
     ]
    },
    {
     "name": "stderr",
     "output_type": "stream",
     "text": [
      "<ipython-input-18-3bd2c6c465af>:3: SettingWithCopyWarning: \n",
      "A value is trying to be set on a copy of a slice from a DataFrame\n",
      "\n",
      "See the caveats in the documentation: https://pandas.pydata.org/pandas-docs/stable/user_guide/indexing.html#returning-a-view-versus-a-copy\n",
      "  test[var].fillna(-1, inplace=True)\n"
     ]
    },
    {
     "data": {
      "image/png": "[encoded data removed]",
      "text/plain": [
       "<Figure size 720x360 with 1 Axes>"
      ]
     },
     "metadata": {
      "needs_background": "light"
     },
     "output_type": "display_data"
    },
    {
     "name": "stdout",
     "output_type": "stream",
     "text": [
      "None\n"
     ]
    },
    {
     "name": "stderr",
     "output_type": "stream",
     "text": [
      "<ipython-input-18-3bd2c6c465af>:3: SettingWithCopyWarning: \n",
      "A value is trying to be set on a copy of a slice from a DataFrame\n",
      "\n",
      "See the caveats in the documentation: https://pandas.pydata.org/pandas-docs/stable/user_guide/indexing.html#returning-a-view-versus-a-copy\n",
      "  test[var].fillna(-1, inplace=True)\n"
     ]
    },
    {
     "data": {
      "image/png": "[encoded data removed]",
      "text/plain": [
       "<Figure size 720x360 with 1 Axes>"
      ]
     },
     "metadata": {
      "needs_background": "light"
     },
     "output_type": "display_data"
    },
    {
     "name": "stdout",
     "output_type": "stream",
     "text": [
      "None\n"
     ]
    }
   ],
   "source": [
    "for col in economic_data.columns[3:]:\n",
    "    print(missing_values_graph(economic_data, \"iso_code\", \"year\", col, col))"
   ]
  },
  {
   "cell_type": "markdown",
   "metadata": {},
   "source": [
    "# Selecting Countries for Region Specific Analysis"
   ]
  },
  {
   "cell_type": "markdown",
   "metadata": {},
   "source": [
    "We want to keep countries for which we have enough data to perform further analysis. We start by looking at the percentage of missing values for each country, and ddrop the countries for which this proportion is greater than 35%. "
   ]
  },
  {
   "cell_type": "code",
   "execution_count": 27,
   "metadata": {},
   "outputs": [
    {
     "data": {
      "text/html": [
       "<div>\n",
       "<style scoped>\n",
       "    .dataframe tbody tr th:only-of-type {\n",
       "        vertical-align: middle;\n",
       "    }\n",
       "\n",
       "    .dataframe tbody tr th {\n",
       "        vertical-align: top;\n",
       "    }\n",
       "\n",
       "    .dataframe thead th {\n",
       "        text-align: right;\n",
       "    }\n",
       "</style>\n",
       "<table border=\"1\" class=\"dataframe\">\n",
       "  <thead>\n",
       "    <tr style=\"text-align: right;\">\n",
       "      <th></th>\n",
       "      <th>country</th>\n",
       "      <th>iso_code</th>\n",
       "      <th>year</th>\n",
       "      <th>gdp_constant_change</th>\n",
       "      <th>gdp_capita</th>\n",
       "      <th>vol_imports_change</th>\n",
       "      <th>vol_exports_change</th>\n",
       "      <th>population_x</th>\n",
       "      <th>gdp_current</th>\n",
       "      <th>imports_gns</th>\n",
       "      <th>exports_gns</th>\n",
       "      <th>co2_emissions_kt</th>\n",
       "      <th>co2_emissions_capita</th>\n",
       "      <th>forest_area</th>\n",
       "      <th>population_y</th>\n",
       "      <th>ghg_total</th>\n",
       "      <th>ghg_growth</th>\n",
       "      <th>ghg_capita</th>\n",
       "      <th>mean_surface_temp</th>\n",
       "    </tr>\n",
       "  </thead>\n",
       "  <tbody>\n",
       "    <tr>\n",
       "      <th>0</th>\n",
       "      <td>Afghanistan</td>\n",
       "      <td>AFG</td>\n",
       "      <td>1995</td>\n",
       "      <td>NaN</td>\n",
       "      <td>NaN</td>\n",
       "      <td>NaN</td>\n",
       "      <td>NaN</td>\n",
       "      <td>NaN</td>\n",
       "      <td>NaN</td>\n",
       "      <td>NaN</td>\n",
       "      <td>NaN</td>\n",
       "      <td>1250.0</td>\n",
       "      <td>0.069020</td>\n",
       "      <td>1.850994</td>\n",
       "      <td>18110662.0</td>\n",
       "      <td>13480.0</td>\n",
       "      <td>1.88</td>\n",
       "      <td>0.61</td>\n",
       "      <td>0.401</td>\n",
       "    </tr>\n",
       "    <tr>\n",
       "      <th>1</th>\n",
       "      <td>Albania</td>\n",
       "      <td>ALB</td>\n",
       "      <td>1995</td>\n",
       "      <td>8.900</td>\n",
       "      <td>4582.93</td>\n",
       "      <td>0.000</td>\n",
       "      <td>NaN</td>\n",
       "      <td>3.188</td>\n",
       "      <td>9.643</td>\n",
       "      <td>NaN</td>\n",
       "      <td>NaN</td>\n",
       "      <td>1950.0</td>\n",
       "      <td>0.611710</td>\n",
       "      <td>28.432482</td>\n",
       "      <td>3187784.0</td>\n",
       "      <td>7430.0</td>\n",
       "      <td>-3.06</td>\n",
       "      <td>2.39</td>\n",
       "      <td>-0.127</td>\n",
       "    </tr>\n",
       "    <tr>\n",
       "      <th>2</th>\n",
       "      <td>Algeria</td>\n",
       "      <td>DZA</td>\n",
       "      <td>1995</td>\n",
       "      <td>3.848</td>\n",
       "      <td>8158.72</td>\n",
       "      <td>2.000</td>\n",
       "      <td>5.733</td>\n",
       "      <td>28.060</td>\n",
       "      <td>204.348</td>\n",
       "      <td>1.659053e+10</td>\n",
       "      <td>3.308461e+10</td>\n",
       "      <td>73050.0</td>\n",
       "      <td>2.540181</td>\n",
       "      <td>0.681435</td>\n",
       "      <td>28757788.0</td>\n",
       "      <td>103000.0</td>\n",
       "      <td>4.23</td>\n",
       "      <td>3.60</td>\n",
       "      <td>0.619</td>\n",
       "    </tr>\n",
       "    <tr>\n",
       "      <th>3</th>\n",
       "      <td>Angola</td>\n",
       "      <td>AGO</td>\n",
       "      <td>1995</td>\n",
       "      <td>10.364</td>\n",
       "      <td>3973.12</td>\n",
       "      <td>27.968</td>\n",
       "      <td>12.240</td>\n",
       "      <td>14.771</td>\n",
       "      <td>37.582</td>\n",
       "      <td>NaN</td>\n",
       "      <td>NaN</td>\n",
       "      <td>10780.0</td>\n",
       "      <td>0.773026</td>\n",
       "      <td>62.954757</td>\n",
       "      <td>13945205.0</td>\n",
       "      <td>48460.0</td>\n",
       "      <td>6.50</td>\n",
       "      <td>5.12</td>\n",
       "      <td>0.827</td>\n",
       "    </tr>\n",
       "    <tr>\n",
       "      <th>4</th>\n",
       "      <td>Antigua and Barbuda</td>\n",
       "      <td>ATG</td>\n",
       "      <td>1995</td>\n",
       "      <td>-4.359</td>\n",
       "      <td>16127.97</td>\n",
       "      <td>NaN</td>\n",
       "      <td>NaN</td>\n",
       "      <td>0.067</td>\n",
       "      <td>0.909</td>\n",
       "      <td>NaN</td>\n",
       "      <td>NaN</td>\n",
       "      <td>270.0</td>\n",
       "      <td>3.931733</td>\n",
       "      <td>22.227273</td>\n",
       "      <td>68672.0</td>\n",
       "      <td>460.0</td>\n",
       "      <td>6.14</td>\n",
       "      <td>6.69</td>\n",
       "      <td>0.522</td>\n",
       "    </tr>\n",
       "  </tbody>\n",
       "</table>\n",
       "</div>"
      ],
      "text/plain": [
       "               country iso_code  year  gdp_constant_change  gdp_capita  \\\n",
       "0          Afghanistan      AFG  1995                  NaN         NaN   \n",
       "1              Albania      ALB  1995                8.900     4582.93   \n",
       "2              Algeria      DZA  1995                3.848     8158.72   \n",
       "3               Angola      AGO  1995               10.364     3973.12   \n",
       "4  Antigua and Barbuda      ATG  1995               -4.359    16127.97   \n",
       "\n",
       "   vol_imports_change  vol_exports_change  population_x  gdp_current  \\\n",
       "0                 NaN                 NaN           NaN          NaN   \n",
       "1               0.000                 NaN         3.188        9.643   \n",
       "2               2.000               5.733        28.060      204.348   \n",
       "3              27.968              12.240        14.771       37.582   \n",
       "4                 NaN                 NaN         0.067        0.909   \n",
       "\n",
       "    imports_gns   exports_gns  co2_emissions_kt  co2_emissions_capita  \\\n",
       "0           NaN           NaN            1250.0              0.069020   \n",
       "1           NaN           NaN            1950.0              0.611710   \n",
       "2  1.659053e+10  3.308461e+10           73050.0              2.540181   \n",
       "3           NaN           NaN           10780.0              0.773026   \n",
       "4           NaN           NaN             270.0              3.931733   \n",
       "\n",
       "   forest_area  population_y  ghg_total  ghg_growth  ghg_capita  \\\n",
       "0     1.850994    18110662.0    13480.0        1.88        0.61   \n",
       "1    28.432482     3187784.0     7430.0       -3.06        2.39   \n",
       "2     0.681435    28757788.0   103000.0        4.23        3.60   \n",
       "3    62.954757    13945205.0    48460.0        6.50        5.12   \n",
       "4    22.227273       68672.0      460.0        6.14        6.69   \n",
       "\n",
       "   mean_surface_temp  \n",
       "0              0.401  \n",
       "1             -0.127  \n",
       "2              0.619  \n",
       "3              0.827  \n",
       "4              0.522  "
      ]
     },
     "execution_count": 27,
     "metadata": {},
     "output_type": "execute_result"
    }
   ],
   "source": [
    "combined_data = pd.merge(economic_data, climate_data, on = [\"iso_code\", \"year\", \"country\"], how = \"left\")\n",
    "combined_data.head()"
   ]
  },
  {
   "cell_type": "code",
   "execution_count": 28,
   "metadata": {},
   "outputs": [],
   "source": [
    "def missing_data_prop(df):\n",
    "    perc = 35.0\n",
    "    min_count =  int(((100-perc)/100)*df.shape[0] + 1)\n",
    "    df = df.dropna(axis = 1, thresh = min_count)\n",
    "    return df"
   ]
  },
  {
   "cell_type": "code",
   "execution_count": 22,
   "metadata": {},
   "outputs": [],
   "source": [
    "# \n",
    "drop_countries = []\n",
    "for country in combined_data[\"iso_code\"].unique():\n",
    "    df = combined_data[combined_data[\"iso_code\"] == country]\n",
    "    df_clean = missing_data_prop(df)\n",
    "    if df.shape[1] != df_clean.shape[1]:\n",
    "        drop_countries.append(country)\n",
    "\n",
    "combined_data = combined_data[combined_data.iso_code.isin(drop_countries) == False]"
   ]
  },
  {
   "cell_type": "code",
   "execution_count": 23,
   "metadata": {},
   "outputs": [
    {
     "data": {
      "text/plain": [
       "114"
      ]
     },
     "execution_count": 23,
     "metadata": {},
     "output_type": "execute_result"
    }
   ],
   "source": [
    "#114 countries left\n",
    "len(combined_data.iso_code.unique())"
   ]
  },
  {
   "cell_type": "markdown",
   "metadata": {},
   "source": [
    "# Pooled OLS"
   ]
  },
  {
   "cell_type": "code",
   "execution_count": 30,
   "metadata": {},
   "outputs": [
    {
     "data": {
      "text/html": [
       "<div>\n",
       "<style scoped>\n",
       "    .dataframe tbody tr th:only-of-type {\n",
       "        vertical-align: middle;\n",
       "    }\n",
       "\n",
       "    .dataframe tbody tr th {\n",
       "        vertical-align: top;\n",
       "    }\n",
       "\n",
       "    .dataframe thead th {\n",
       "        text-align: right;\n",
       "    }\n",
       "</style>\n",
       "<table border=\"1\" class=\"dataframe\">\n",
       "  <thead>\n",
       "    <tr style=\"text-align: right;\">\n",
       "      <th></th>\n",
       "      <th>country</th>\n",
       "      <th>iso_code</th>\n",
       "      <th>year</th>\n",
       "      <th>gdp_constant_change</th>\n",
       "      <th>gdp_capita</th>\n",
       "      <th>vol_imports_change</th>\n",
       "      <th>vol_exports_change</th>\n",
       "      <th>population_x</th>\n",
       "      <th>gdp_current</th>\n",
       "      <th>imports_gns</th>\n",
       "      <th>exports_gns</th>\n",
       "      <th>co2_emissions_kt</th>\n",
       "      <th>co2_emissions_capita</th>\n",
       "      <th>forest_area</th>\n",
       "      <th>population_y</th>\n",
       "      <th>ghg_total</th>\n",
       "      <th>ghg_growth</th>\n",
       "      <th>ghg_capita</th>\n",
       "      <th>mean_surface_temp</th>\n",
       "    </tr>\n",
       "  </thead>\n",
       "  <tbody>\n",
       "    <tr>\n",
       "      <th>0</th>\n",
       "      <td>Afghanistan</td>\n",
       "      <td>AFG</td>\n",
       "      <td>1995</td>\n",
       "      <td>NaN</td>\n",
       "      <td>NaN</td>\n",
       "      <td>NaN</td>\n",
       "      <td>NaN</td>\n",
       "      <td>NaN</td>\n",
       "      <td>NaN</td>\n",
       "      <td>NaN</td>\n",
       "      <td>NaN</td>\n",
       "      <td>1250.0</td>\n",
       "      <td>0.069020</td>\n",
       "      <td>1.850994</td>\n",
       "      <td>18110662.0</td>\n",
       "      <td>13480.0</td>\n",
       "      <td>1.88</td>\n",
       "      <td>0.61</td>\n",
       "      <td>0.401</td>\n",
       "    </tr>\n",
       "    <tr>\n",
       "      <th>1</th>\n",
       "      <td>Albania</td>\n",
       "      <td>ALB</td>\n",
       "      <td>1995</td>\n",
       "      <td>8.900</td>\n",
       "      <td>4582.93</td>\n",
       "      <td>0.000</td>\n",
       "      <td>NaN</td>\n",
       "      <td>3.188</td>\n",
       "      <td>9.643</td>\n",
       "      <td>NaN</td>\n",
       "      <td>NaN</td>\n",
       "      <td>1950.0</td>\n",
       "      <td>0.611710</td>\n",
       "      <td>28.432482</td>\n",
       "      <td>3187784.0</td>\n",
       "      <td>7430.0</td>\n",
       "      <td>-3.06</td>\n",
       "      <td>2.39</td>\n",
       "      <td>-0.127</td>\n",
       "    </tr>\n",
       "    <tr>\n",
       "      <th>2</th>\n",
       "      <td>Algeria</td>\n",
       "      <td>DZA</td>\n",
       "      <td>1995</td>\n",
       "      <td>3.848</td>\n",
       "      <td>8158.72</td>\n",
       "      <td>2.000</td>\n",
       "      <td>5.733</td>\n",
       "      <td>28.060</td>\n",
       "      <td>204.348</td>\n",
       "      <td>1.659053e+10</td>\n",
       "      <td>3.308461e+10</td>\n",
       "      <td>73050.0</td>\n",
       "      <td>2.540181</td>\n",
       "      <td>0.681435</td>\n",
       "      <td>28757788.0</td>\n",
       "      <td>103000.0</td>\n",
       "      <td>4.23</td>\n",
       "      <td>3.60</td>\n",
       "      <td>0.619</td>\n",
       "    </tr>\n",
       "    <tr>\n",
       "      <th>3</th>\n",
       "      <td>Angola</td>\n",
       "      <td>AGO</td>\n",
       "      <td>1995</td>\n",
       "      <td>10.364</td>\n",
       "      <td>3973.12</td>\n",
       "      <td>27.968</td>\n",
       "      <td>12.240</td>\n",
       "      <td>14.771</td>\n",
       "      <td>37.582</td>\n",
       "      <td>NaN</td>\n",
       "      <td>NaN</td>\n",
       "      <td>10780.0</td>\n",
       "      <td>0.773026</td>\n",
       "      <td>62.954757</td>\n",
       "      <td>13945205.0</td>\n",
       "      <td>48460.0</td>\n",
       "      <td>6.50</td>\n",
       "      <td>5.12</td>\n",
       "      <td>0.827</td>\n",
       "    </tr>\n",
       "    <tr>\n",
       "      <th>4</th>\n",
       "      <td>Antigua and Barbuda</td>\n",
       "      <td>ATG</td>\n",
       "      <td>1995</td>\n",
       "      <td>-4.359</td>\n",
       "      <td>16127.97</td>\n",
       "      <td>NaN</td>\n",
       "      <td>NaN</td>\n",
       "      <td>0.067</td>\n",
       "      <td>0.909</td>\n",
       "      <td>NaN</td>\n",
       "      <td>NaN</td>\n",
       "      <td>270.0</td>\n",
       "      <td>3.931733</td>\n",
       "      <td>22.227273</td>\n",
       "      <td>68672.0</td>\n",
       "      <td>460.0</td>\n",
       "      <td>6.14</td>\n",
       "      <td>6.69</td>\n",
       "      <td>0.522</td>\n",
       "    </tr>\n",
       "  </tbody>\n",
       "</table>\n",
       "</div>"
      ],
      "text/plain": [
       "               country iso_code  year  gdp_constant_change  gdp_capita  \\\n",
       "0          Afghanistan      AFG  1995                  NaN         NaN   \n",
       "1              Albania      ALB  1995                8.900     4582.93   \n",
       "2              Algeria      DZA  1995                3.848     8158.72   \n",
       "3               Angola      AGO  1995               10.364     3973.12   \n",
       "4  Antigua and Barbuda      ATG  1995               -4.359    16127.97   \n",
       "\n",
       "   vol_imports_change  vol_exports_change  population_x  gdp_current  \\\n",
       "0                 NaN                 NaN           NaN          NaN   \n",
       "1               0.000                 NaN         3.188        9.643   \n",
       "2               2.000               5.733        28.060      204.348   \n",
       "3              27.968              12.240        14.771       37.582   \n",
       "4                 NaN                 NaN         0.067        0.909   \n",
       "\n",
       "    imports_gns   exports_gns  co2_emissions_kt  co2_emissions_capita  \\\n",
       "0           NaN           NaN            1250.0              0.069020   \n",
       "1           NaN           NaN            1950.0              0.611710   \n",
       "2  1.659053e+10  3.308461e+10           73050.0              2.540181   \n",
       "3           NaN           NaN           10780.0              0.773026   \n",
       "4           NaN           NaN             270.0              3.931733   \n",
       "\n",
       "   forest_area  population_y  ghg_total  ghg_growth  ghg_capita  \\\n",
       "0     1.850994    18110662.0    13480.0        1.88        0.61   \n",
       "1    28.432482     3187784.0     7430.0       -3.06        2.39   \n",
       "2     0.681435    28757788.0   103000.0        4.23        3.60   \n",
       "3    62.954757    13945205.0    48460.0        6.50        5.12   \n",
       "4    22.227273       68672.0      460.0        6.14        6.69   \n",
       "\n",
       "   mean_surface_temp  \n",
       "0              0.401  \n",
       "1             -0.127  \n",
       "2              0.619  \n",
       "3              0.827  \n",
       "4              0.522  "
      ]
     },
     "execution_count": 30,
     "metadata": {},
     "output_type": "execute_result"
    }
   ],
   "source": [
    "#merged climate data and economic data\n",
    "data = combined_data.copy()\n",
    "data.head()"
   ]
  },
  {
   "cell_type": "code",
   "execution_count": 31,
   "metadata": {},
   "outputs": [
    {
     "name": "stderr",
     "output_type": "stream",
     "text": [
      "/usr/local/lib/python3.8/dist-packages/pandas/core/arraylike.py:397: RuntimeWarning: divide by zero encountered in log\n",
      "  result = getattr(ufunc, method)(*inputs, **kwargs)\n"
     ]
    }
   ],
   "source": [
    "data[\"log_co2_capita\"] = np.log(data[\"co2_emissions_capita\"])\n",
    "data[\"log_gdp_capita\"] = np.log(pd.to_numeric(data[\"gdp_capita\"]))\n",
    "data[\"log_gdp_capita_sq\"] = (np.log(pd.to_numeric(data[\"gdp_capita\"])))**2"
   ]
  },
  {
   "cell_type": "code",
   "execution_count": 32,
   "metadata": {},
   "outputs": [],
   "source": [
    "# Perform PooledOLS\n",
    "data['year'] = pd.to_datetime(data['year'], format='%Y')\n",
    "# #add column year to index\n",
    "data = data.set_index('year', append=True)"
   ]
  },
  {
   "cell_type": "code",
   "execution_count": 34,
   "metadata": {},
   "outputs": [
    {
     "name": "stderr",
     "output_type": "stream",
     "text": [
      "/home/kaveri/.local/lib/python3.8/site-packages/linearmodels/shared/exceptions.py:37: MissingValueWarning: \n",
      "Inputs contain missing values. Dropping rows with missing observations.\n",
      "  warnings.warn(missing_value_warning_msg, MissingValueWarning)\n"
     ]
    }
   ],
   "source": [
    "#exog = sm.tools.tools.add_constant(data[\"log_gdp_capita\"])\n",
    "exog = sm.tools.tools.add_constant(data.filter([\"log_gdp_capita\", \"log_gdp_capita_sq\", \"vol_exports_change\", \"vol_imports_change\", \"mean_surface_temp\"], axis = 1))\n",
    "endog = data[\"log_co2_capita\"]\n",
    "mod = PooledOLS(endog, exog)\n",
    "pooledOLS_res = mod.fit(cov_type='clustered', cluster_entity=True)\n",
    "# Store values for checking homoskedasticity graphically\n",
    "fittedvals_pooled_OLS = pooledOLS_res.predict().fitted_values\n",
    "residuals_pooled_OLS = pooledOLS_res.resids"
   ]
  },
  {
   "cell_type": "code",
   "execution_count": 35,
   "metadata": {},
   "outputs": [
    {
     "name": "stdout",
     "output_type": "stream",
     "text": [
      "                          PooledOLS Estimation Summary                          \n",
      "================================================================================\n",
      "Dep. Variable:         log_co2_capita   R-squared:                        0.8595\n",
      "Estimator:                  PooledOLS   R-squared (Between):              0.8595\n",
      "No. Observations:                3557   R-squared (Within):               0.0000\n",
      "Date:                Wed, Mar 16 2022   R-squared (Overall):              0.8595\n",
      "Time:                        11:55:17   Log-likelihood                   -3167.4\n",
      "Cov. Estimator:             Clustered                                           \n",
      "                                        F-statistic:                      4343.9\n",
      "Entities:                        3557   P-value                           0.0000\n",
      "Avg Obs:                       1.0000   Distribution:                  F(5,3551)\n",
      "Min Obs:                       1.0000                                           \n",
      "Max Obs:                       1.0000   F-statistic (robust):             4409.1\n",
      "                                        P-value                           0.0000\n",
      "Time periods:                      24   Distribution:                  F(5,3551)\n",
      "Avg Obs:                       148.21                                           \n",
      "Min Obs:                       129.00                                           \n",
      "Max Obs:                       158.00                                           \n",
      "                                                                                \n",
      "                                 Parameter Estimates                                  \n",
      "======================================================================================\n",
      "                    Parameter  Std. Err.     T-stat    P-value    Lower CI    Upper CI\n",
      "--------------------------------------------------------------------------------------\n",
      "const                 -21.630     0.5494    -39.372     0.0000     -22.707     -20.552\n",
      "log_gdp_capita         3.7205     0.1212     30.690     0.0000      3.4828      3.9581\n",
      "log_gdp_capita_sq     -0.1388     0.0066    -20.926     0.0000     -0.1518     -0.1258\n",
      "vol_exports_change     0.0007     0.0008     0.8862     0.3756     -0.0009      0.0024\n",
      "vol_imports_change     0.0008     0.0008     1.0257     0.3051     -0.0008      0.0024\n",
      "mean_surface_temp      0.0072     0.0196     0.3680     0.7129     -0.0312      0.0456\n",
      "======================================================================================\n"
     ]
    }
   ],
   "source": [
    "print(pooledOLS_res)"
   ]
  },
  {
   "cell_type": "code",
   "execution_count": 36,
   "metadata": {},
   "outputs": [
    {
     "data": {
      "image/png": "[encoded data removed]",
      "text/plain": [
       "<Figure size 720x432 with 1 Axes>"
      ]
     },
     "metadata": {
      "needs_background": "light"
     },
     "output_type": "display_data"
    }
   ],
   "source": [
    "fig, ax = plt.subplots(figsize=(10, 6))\n",
    "ax.scatter(x = data['gdp_capita'], y = data[\"co2_emissions_capita\"])\n",
    "plt.xlabel(\"GDP per capita\")\n",
    "plt.ylabel(\"GHG emissions per capita\")\n",
    "plt.show()"
   ]
  },
  {
   "cell_type": "code",
   "execution_count": 37,
   "metadata": {},
   "outputs": [
    {
     "data": {
      "image/png": "[encoded data removed]",
      "text/plain": [
       "<Figure size 432x288 with 1 Axes>"
      ]
     },
     "metadata": {
      "needs_background": "light"
     },
     "output_type": "display_data"
    }
   ],
   "source": [
    "#QQPlot to check for normality\n",
    "sm.qqplot(residuals_pooled_OLS, line='45')\n",
    "plt.show()"
   ]
  },
  {
   "cell_type": "markdown",
   "metadata": {},
   "source": [
    "The plot shows that the residuals of the plot are not normalaly distributed. Even though the residual errors are not normally distributed, the Pooled OLS estimator is still the Best Linear Unbiased Estimator (BLUE) for the panel data regression problem. Non-normality of residual errors does not affect the BLUE-ness of OLS regression model."
   ]
  },
  {
   "cell_type": "code",
   "execution_count": 38,
   "metadata": {},
   "outputs": [
    {
     "data": {
      "image/png": "[encoded data removed]",
      "text/plain": [
       "<Figure size 432x288 with 1 Axes>"
      ]
     },
     "metadata": {
      "needs_background": "light"
     },
     "output_type": "display_data"
    }
   ],
   "source": [
    "#  Homoskedasticity\n",
    "# Residuals-Plot for growing Variance Detection\n",
    "fig, ax = plt.subplots()\n",
    "ax.scatter(fittedvals_pooled_OLS, residuals_pooled_OLS, color = 'blue')\n",
    "ax.axhline(0, color = 'r', ls = '--')\n",
    "ax.set_xlabel('Predicted Values', fontsize = 15)\n",
    "ax.set_ylabel('Residuals', fontsize = 15)\n",
    "ax.set_title('Homoskedasticity Test', fontsize = 30)\n",
    "plt.show()"
   ]
  },
  {
   "cell_type": "code",
   "execution_count": 41,
   "metadata": {},
   "outputs": [
    {
     "data": {
      "image/png": "[encoded data removed]",
      "text/plain": [
       "<Figure size 432x288 with 1 Axes>"
      ]
     },
     "metadata": {
      "needs_background": "light"
     },
     "output_type": "display_data"
    }
   ],
   "source": [
    "#check for autocorrelation\n",
    "import statsmodels.graphics.tsaplots as tsap\n",
    "tsap.plot_acf(x=residuals_pooled_OLS)\n",
    "plt.show()"
   ]
  },
  {
   "cell_type": "markdown",
   "metadata": {},
   "source": [
    "The perfect correlation of 1.0 at lag 0 is to be ignored as a number is always perfectly correlated with itself. But we see significant auto-correlation between residual errors at lags 1, 2 and 3."
   ]
  },
  {
   "cell_type": "markdown",
   "metadata": {},
   "source": [
    "# Fixed Effects Regression"
   ]
  },
  {
   "cell_type": "code",
   "execution_count": 88,
   "metadata": {},
   "outputs": [
    {
     "name": "stderr",
     "output_type": "stream",
     "text": [
      "/usr/local/lib/python3.8/dist-packages/pandas/core/arraylike.py:397: RuntimeWarning: divide by zero encountered in log\n",
      "  result = getattr(ufunc, method)(*inputs, **kwargs)\n",
      "/usr/local/lib/python3.8/dist-packages/pandas/core/arraylike.py:397: RuntimeWarning: invalid value encountered in log\n",
      "  result = getattr(ufunc, method)(*inputs, **kwargs)\n"
     ]
    }
   ],
   "source": [
    "data2 = combined_data.copy()\n",
    "data2[\"log_co2_capita\"] = np.log(data2[\"co2_emissions_capita\"])\n",
    "data2[\"log_gdp_capita\"] = np.log(pd.to_numeric(data2[\"gdp_capita\"]))\n",
    "data2[\"log_gdp_capita_sq\"] = (np.log(pd.to_numeric(data2[\"gdp_capita\"])))**2\n",
    "data2[\"net_exports\"] = data2[\"exports_gns\"] - data2[\"imports_gns\"]\n",
    "data2[\"log_net_exports\"] = np.log(data2[\"net_exports\"])"
   ]
  },
  {
   "cell_type": "code",
   "execution_count": 89,
   "metadata": {},
   "outputs": [
    {
     "data": {
      "text/plain": [
       "Index(['country', 'iso_code', 'year', 'gdp_constant_change', 'gdp_capita',\n",
       "       'vol_imports_change', 'vol_exports_change', 'population_x',\n",
       "       'gdp_current', 'imports_gns', 'exports_gns', 'co2_emissions_kt',\n",
       "       'co2_emissions_capita', 'forest_area', 'population_y', 'ghg_total',\n",
       "       'ghg_growth', 'ghg_capita', 'mean_surface_temp', 'log_co2_capita',\n",
       "       'log_gdp_capita', 'log_gdp_capita_sq', 'net_exports',\n",
       "       'log_net_exports'],\n",
       "      dtype='object')"
      ]
     },
     "execution_count": 89,
     "metadata": {},
     "output_type": "execute_result"
    }
   ],
   "source": [
    "data2.columns"
   ]
  },
  {
   "cell_type": "code",
   "execution_count": 90,
   "metadata": {},
   "outputs": [],
   "source": [
    "# \n",
    "drop_countries = []\n",
    "for country in data2[\"iso_code\"].unique():\n",
    "    df = data2[data2[\"iso_code\"] == country]\n",
    "    df_clean = missing_data_prop(df)\n",
    "    if df.shape[1] != df_clean.shape[1]:\n",
    "        drop_countries.append(country)\n",
    "\n",
    "data2 = data2[data2.iso_code.isin(drop_countries) == False]"
   ]
  },
  {
   "cell_type": "code",
   "execution_count": 91,
   "metadata": {},
   "outputs": [],
   "source": [
    "# Imputing missing data grouped by countries\n",
    "def impute_missing_values(df):\n",
    "    imputer = KNNImputer(n_neighbors=2)\n",
    "    X = df.iloc[:,3:]\n",
    "    out = imputer.fit_transform(X)\n",
    "    out1 = pd.DataFrame(out, columns = df.columns[3:])\n",
    "    return out1\n",
    "\n",
    "res = data2.groupby([\"iso_code\", \"country\"], as_index = False).apply(impute_missing_values)"
   ]
  },
  {
   "cell_type": "code",
   "execution_count": 92,
   "metadata": {},
   "outputs": [
    {
     "data": {
      "text/html": [
       "<div>\n",
       "<style scoped>\n",
       "    .dataframe tbody tr th:only-of-type {\n",
       "        vertical-align: middle;\n",
       "    }\n",
       "\n",
       "    .dataframe tbody tr th {\n",
       "        vertical-align: top;\n",
       "    }\n",
       "\n",
       "    .dataframe thead th {\n",
       "        text-align: right;\n",
       "    }\n",
       "</style>\n",
       "<table border=\"1\" class=\"dataframe\">\n",
       "  <thead>\n",
       "    <tr style=\"text-align: right;\">\n",
       "      <th></th>\n",
       "      <th>gdp_constant_change</th>\n",
       "      <th>gdp_capita</th>\n",
       "      <th>vol_imports_change</th>\n",
       "      <th>vol_exports_change</th>\n",
       "      <th>population_x</th>\n",
       "      <th>gdp_current</th>\n",
       "      <th>imports_gns</th>\n",
       "      <th>exports_gns</th>\n",
       "      <th>co2_emissions_kt</th>\n",
       "      <th>co2_emissions_capita</th>\n",
       "      <th>...</th>\n",
       "      <th>population_y</th>\n",
       "      <th>ghg_total</th>\n",
       "      <th>ghg_growth</th>\n",
       "      <th>ghg_capita</th>\n",
       "      <th>mean_surface_temp</th>\n",
       "      <th>log_co2_capita</th>\n",
       "      <th>log_gdp_capita</th>\n",
       "      <th>log_gdp_capita_sq</th>\n",
       "      <th>net_exports</th>\n",
       "      <th>log_net_exports</th>\n",
       "    </tr>\n",
       "  </thead>\n",
       "  <tbody>\n",
       "    <tr>\n",
       "      <th>0</th>\n",
       "      <td>-2.845</td>\n",
       "      <td>17387.03</td>\n",
       "      <td>-11.484</td>\n",
       "      <td>25.559</td>\n",
       "      <td>34.779</td>\n",
       "      <td>347.223</td>\n",
       "      <td>2.737656e+10</td>\n",
       "      <td>3.314611e+10</td>\n",
       "      <td>113810.0</td>\n",
       "      <td>3.267757</td>\n",
       "      <td>...</td>\n",
       "      <td>34828168.0</td>\n",
       "      <td>260580.0</td>\n",
       "      <td>0.19</td>\n",
       "      <td>8.78</td>\n",
       "      <td>0.210</td>\n",
       "      <td>1.184104</td>\n",
       "      <td>9.763480</td>\n",
       "      <td>95.325538</td>\n",
       "      <td>5.769549e+09</td>\n",
       "      <td>22.475860</td>\n",
       "    </tr>\n",
       "    <tr>\n",
       "      <th>1</th>\n",
       "      <td>5.527</td>\n",
       "      <td>18130.83</td>\n",
       "      <td>19.483</td>\n",
       "      <td>6.395</td>\n",
       "      <td>35.196</td>\n",
       "      <td>373.122</td>\n",
       "      <td>3.217542e+10</td>\n",
       "      <td>3.568072e+10</td>\n",
       "      <td>126560.0</td>\n",
       "      <td>3.590724</td>\n",
       "      <td>...</td>\n",
       "      <td>35246376.0</td>\n",
       "      <td>272500.0</td>\n",
       "      <td>4.54</td>\n",
       "      <td>9.07</td>\n",
       "      <td>0.476</td>\n",
       "      <td>1.278354</td>\n",
       "      <td>9.805369</td>\n",
       "      <td>96.145263</td>\n",
       "      <td>3.505302e+09</td>\n",
       "      <td>21.977543</td>\n",
       "    </tr>\n",
       "    <tr>\n",
       "      <th>2</th>\n",
       "      <td>8.111</td>\n",
       "      <td>19376.36</td>\n",
       "      <td>30.046</td>\n",
       "      <td>15.133</td>\n",
       "      <td>35.604</td>\n",
       "      <td>410.342</td>\n",
       "      <td>4.082145e+10</td>\n",
       "      <td>4.002572e+10</td>\n",
       "      <td>127320.0</td>\n",
       "      <td>3.570644</td>\n",
       "      <td>...</td>\n",
       "      <td>35657438.0</td>\n",
       "      <td>274400.0</td>\n",
       "      <td>0.79</td>\n",
       "      <td>9.04</td>\n",
       "      <td>0.732</td>\n",
       "      <td>1.272746</td>\n",
       "      <td>9.871809</td>\n",
       "      <td>97.452614</td>\n",
       "      <td>-7.957339e+08</td>\n",
       "      <td>19.553738</td>\n",
       "    </tr>\n",
       "    <tr>\n",
       "      <th>3</th>\n",
       "      <td>3.850</td>\n",
       "      <td>19898.28</td>\n",
       "      <td>9.881</td>\n",
       "      <td>12.705</td>\n",
       "      <td>36.005</td>\n",
       "      <td>430.938</td>\n",
       "      <td>4.425614e+10</td>\n",
       "      <td>4.427781e+10</td>\n",
       "      <td>133170.0</td>\n",
       "      <td>3.692658</td>\n",
       "      <td>...</td>\n",
       "      <td>36063451.0</td>\n",
       "      <td>278480.0</td>\n",
       "      <td>1.18</td>\n",
       "      <td>9.04</td>\n",
       "      <td>0.320</td>\n",
       "      <td>1.306347</td>\n",
       "      <td>9.898389</td>\n",
       "      <td>97.978096</td>\n",
       "      <td>2.166769e+07</td>\n",
       "      <td>16.891333</td>\n",
       "    </tr>\n",
       "    <tr>\n",
       "      <th>4</th>\n",
       "      <td>-3.385</td>\n",
       "      <td>19016.97</td>\n",
       "      <td>-15.955</td>\n",
       "      <td>-2.148</td>\n",
       "      <td>36.399</td>\n",
       "      <td>422.360</td>\n",
       "      <td>3.926990e+10</td>\n",
       "      <td>4.371978e+10</td>\n",
       "      <td>134190.0</td>\n",
       "      <td>3.679743</td>\n",
       "      <td>...</td>\n",
       "      <td>36467218.0</td>\n",
       "      <td>283170.0</td>\n",
       "      <td>1.87</td>\n",
       "      <td>9.11</td>\n",
       "      <td>0.138</td>\n",
       "      <td>1.302843</td>\n",
       "      <td>9.853087</td>\n",
       "      <td>97.083324</td>\n",
       "      <td>4.449881e+09</td>\n",
       "      <td>22.216143</td>\n",
       "    </tr>\n",
       "  </tbody>\n",
       "</table>\n",
       "<p>5 rows × 21 columns</p>\n",
       "</div>"
      ],
      "text/plain": [
       "   gdp_constant_change  gdp_capita  vol_imports_change  vol_exports_change  \\\n",
       "0               -2.845    17387.03             -11.484              25.559   \n",
       "1                5.527    18130.83              19.483               6.395   \n",
       "2                8.111    19376.36              30.046              15.133   \n",
       "3                3.850    19898.28               9.881              12.705   \n",
       "4               -3.385    19016.97             -15.955              -2.148   \n",
       "\n",
       "   population_x  gdp_current   imports_gns   exports_gns  co2_emissions_kt  \\\n",
       "0        34.779      347.223  2.737656e+10  3.314611e+10          113810.0   \n",
       "1        35.196      373.122  3.217542e+10  3.568072e+10          126560.0   \n",
       "2        35.604      410.342  4.082145e+10  4.002572e+10          127320.0   \n",
       "3        36.005      430.938  4.425614e+10  4.427781e+10          133170.0   \n",
       "4        36.399      422.360  3.926990e+10  4.371978e+10          134190.0   \n",
       "\n",
       "   co2_emissions_capita  ...  population_y  ghg_total  ghg_growth  ghg_capita  \\\n",
       "0              3.267757  ...    34828168.0   260580.0        0.19        8.78   \n",
       "1              3.590724  ...    35246376.0   272500.0        4.54        9.07   \n",
       "2              3.570644  ...    35657438.0   274400.0        0.79        9.04   \n",
       "3              3.692658  ...    36063451.0   278480.0        1.18        9.04   \n",
       "4              3.679743  ...    36467218.0   283170.0        1.87        9.11   \n",
       "\n",
       "   mean_surface_temp  log_co2_capita  log_gdp_capita  log_gdp_capita_sq  \\\n",
       "0              0.210        1.184104        9.763480          95.325538   \n",
       "1              0.476        1.278354        9.805369          96.145263   \n",
       "2              0.732        1.272746        9.871809          97.452614   \n",
       "3              0.320        1.306347        9.898389          97.978096   \n",
       "4              0.138        1.302843        9.853087          97.083324   \n",
       "\n",
       "    net_exports  log_net_exports  \n",
       "0  5.769549e+09        22.475860  \n",
       "1  3.505302e+09        21.977543  \n",
       "2 -7.957339e+08        19.553738  \n",
       "3  2.166769e+07        16.891333  \n",
       "4  4.449881e+09        22.216143  \n",
       "\n",
       "[5 rows x 21 columns]"
      ]
     },
     "execution_count": 92,
     "metadata": {},
     "output_type": "execute_result"
    }
   ],
   "source": [
    "res.iloc[:,1:]\n",
    "res.reset_index(drop=True, inplace=True)\n",
    "res.head()"
   ]
  },
  {
   "cell_type": "code",
   "execution_count": 93,
   "metadata": {},
   "outputs": [],
   "source": [
    "data2.iloc[:,:3]\n",
    "data2.reset_index(drop=True, inplace=True)"
   ]
  },
  {
   "cell_type": "code",
   "execution_count": 94,
   "metadata": {},
   "outputs": [],
   "source": [
    "frames = [data2.iloc[:,:3], res]\n",
    "final_dataset = pd.concat(frames,  axis=1)"
   ]
  },
  {
   "cell_type": "code",
   "execution_count": 95,
   "metadata": {},
   "outputs": [
    {
     "data": {
      "text/html": [
       "<div>\n",
       "<style scoped>\n",
       "    .dataframe tbody tr th:only-of-type {\n",
       "        vertical-align: middle;\n",
       "    }\n",
       "\n",
       "    .dataframe tbody tr th {\n",
       "        vertical-align: top;\n",
       "    }\n",
       "\n",
       "    .dataframe thead th {\n",
       "        text-align: right;\n",
       "    }\n",
       "</style>\n",
       "<table border=\"1\" class=\"dataframe\">\n",
       "  <thead>\n",
       "    <tr style=\"text-align: right;\">\n",
       "      <th></th>\n",
       "      <th>country</th>\n",
       "      <th>iso_code</th>\n",
       "      <th>year</th>\n",
       "      <th>gdp_constant_change</th>\n",
       "      <th>gdp_capita</th>\n",
       "      <th>vol_imports_change</th>\n",
       "      <th>vol_exports_change</th>\n",
       "      <th>population_x</th>\n",
       "      <th>gdp_current</th>\n",
       "      <th>imports_gns</th>\n",
       "      <th>...</th>\n",
       "      <th>population_y</th>\n",
       "      <th>ghg_total</th>\n",
       "      <th>ghg_growth</th>\n",
       "      <th>ghg_capita</th>\n",
       "      <th>mean_surface_temp</th>\n",
       "      <th>log_co2_capita</th>\n",
       "      <th>log_gdp_capita</th>\n",
       "      <th>log_gdp_capita_sq</th>\n",
       "      <th>net_exports</th>\n",
       "      <th>log_net_exports</th>\n",
       "    </tr>\n",
       "  </thead>\n",
       "  <tbody>\n",
       "    <tr>\n",
       "      <th>0</th>\n",
       "      <td>Argentina</td>\n",
       "      <td>ARG</td>\n",
       "      <td>1995</td>\n",
       "      <td>-2.845</td>\n",
       "      <td>17387.03</td>\n",
       "      <td>-11.484</td>\n",
       "      <td>25.559</td>\n",
       "      <td>34.779</td>\n",
       "      <td>347.223</td>\n",
       "      <td>2.737656e+10</td>\n",
       "      <td>...</td>\n",
       "      <td>34828168.0</td>\n",
       "      <td>260580.0</td>\n",
       "      <td>0.19</td>\n",
       "      <td>8.78</td>\n",
       "      <td>0.210</td>\n",
       "      <td>1.184104</td>\n",
       "      <td>9.763480</td>\n",
       "      <td>95.325538</td>\n",
       "      <td>5.769549e+09</td>\n",
       "      <td>22.475860</td>\n",
       "    </tr>\n",
       "    <tr>\n",
       "      <th>1</th>\n",
       "      <td>Austria</td>\n",
       "      <td>AUT</td>\n",
       "      <td>1995</td>\n",
       "      <td>5.527</td>\n",
       "      <td>18130.83</td>\n",
       "      <td>19.483</td>\n",
       "      <td>6.395</td>\n",
       "      <td>35.196</td>\n",
       "      <td>373.122</td>\n",
       "      <td>3.217542e+10</td>\n",
       "      <td>...</td>\n",
       "      <td>35246376.0</td>\n",
       "      <td>272500.0</td>\n",
       "      <td>4.54</td>\n",
       "      <td>9.07</td>\n",
       "      <td>0.476</td>\n",
       "      <td>1.278354</td>\n",
       "      <td>9.805369</td>\n",
       "      <td>96.145263</td>\n",
       "      <td>3.505302e+09</td>\n",
       "      <td>21.977543</td>\n",
       "    </tr>\n",
       "    <tr>\n",
       "      <th>2</th>\n",
       "      <td>Bahrain</td>\n",
       "      <td>BHR</td>\n",
       "      <td>1995</td>\n",
       "      <td>8.111</td>\n",
       "      <td>19376.36</td>\n",
       "      <td>30.046</td>\n",
       "      <td>15.133</td>\n",
       "      <td>35.604</td>\n",
       "      <td>410.342</td>\n",
       "      <td>4.082145e+10</td>\n",
       "      <td>...</td>\n",
       "      <td>35657438.0</td>\n",
       "      <td>274400.0</td>\n",
       "      <td>0.79</td>\n",
       "      <td>9.04</td>\n",
       "      <td>0.732</td>\n",
       "      <td>1.272746</td>\n",
       "      <td>9.871809</td>\n",
       "      <td>97.452614</td>\n",
       "      <td>-7.957339e+08</td>\n",
       "      <td>19.553738</td>\n",
       "    </tr>\n",
       "    <tr>\n",
       "      <th>3</th>\n",
       "      <td>Belgium</td>\n",
       "      <td>BEL</td>\n",
       "      <td>1995</td>\n",
       "      <td>3.850</td>\n",
       "      <td>19898.28</td>\n",
       "      <td>9.881</td>\n",
       "      <td>12.705</td>\n",
       "      <td>36.005</td>\n",
       "      <td>430.938</td>\n",
       "      <td>4.425614e+10</td>\n",
       "      <td>...</td>\n",
       "      <td>36063451.0</td>\n",
       "      <td>278480.0</td>\n",
       "      <td>1.18</td>\n",
       "      <td>9.04</td>\n",
       "      <td>0.320</td>\n",
       "      <td>1.306347</td>\n",
       "      <td>9.898389</td>\n",
       "      <td>97.978096</td>\n",
       "      <td>2.166769e+07</td>\n",
       "      <td>16.891333</td>\n",
       "    </tr>\n",
       "    <tr>\n",
       "      <th>4</th>\n",
       "      <td>Botswana</td>\n",
       "      <td>BWA</td>\n",
       "      <td>1995</td>\n",
       "      <td>-3.385</td>\n",
       "      <td>19016.97</td>\n",
       "      <td>-15.955</td>\n",
       "      <td>-2.148</td>\n",
       "      <td>36.399</td>\n",
       "      <td>422.360</td>\n",
       "      <td>3.926990e+10</td>\n",
       "      <td>...</td>\n",
       "      <td>36467218.0</td>\n",
       "      <td>283170.0</td>\n",
       "      <td>1.87</td>\n",
       "      <td>9.11</td>\n",
       "      <td>0.138</td>\n",
       "      <td>1.302843</td>\n",
       "      <td>9.853087</td>\n",
       "      <td>97.083324</td>\n",
       "      <td>4.449881e+09</td>\n",
       "      <td>22.216143</td>\n",
       "    </tr>\n",
       "  </tbody>\n",
       "</table>\n",
       "<p>5 rows × 24 columns</p>\n",
       "</div>"
      ],
      "text/plain": [
       "     country iso_code  year  gdp_constant_change  gdp_capita  \\\n",
       "0  Argentina      ARG  1995               -2.845    17387.03   \n",
       "1    Austria      AUT  1995                5.527    18130.83   \n",
       "2    Bahrain      BHR  1995                8.111    19376.36   \n",
       "3    Belgium      BEL  1995                3.850    19898.28   \n",
       "4   Botswana      BWA  1995               -3.385    19016.97   \n",
       "\n",
       "   vol_imports_change  vol_exports_change  population_x  gdp_current  \\\n",
       "0             -11.484              25.559        34.779      347.223   \n",
       "1              19.483               6.395        35.196      373.122   \n",
       "2              30.046              15.133        35.604      410.342   \n",
       "3               9.881              12.705        36.005      430.938   \n",
       "4             -15.955              -2.148        36.399      422.360   \n",
       "\n",
       "    imports_gns  ...  population_y  ghg_total  ghg_growth  ghg_capita  \\\n",
       "0  2.737656e+10  ...    34828168.0   260580.0        0.19        8.78   \n",
       "1  3.217542e+10  ...    35246376.0   272500.0        4.54        9.07   \n",
       "2  4.082145e+10  ...    35657438.0   274400.0        0.79        9.04   \n",
       "3  4.425614e+10  ...    36063451.0   278480.0        1.18        9.04   \n",
       "4  3.926990e+10  ...    36467218.0   283170.0        1.87        9.11   \n",
       "\n",
       "   mean_surface_temp  log_co2_capita  log_gdp_capita  log_gdp_capita_sq  \\\n",
       "0              0.210        1.184104        9.763480          95.325538   \n",
       "1              0.476        1.278354        9.805369          96.145263   \n",
       "2              0.732        1.272746        9.871809          97.452614   \n",
       "3              0.320        1.306347        9.898389          97.978096   \n",
       "4              0.138        1.302843        9.853087          97.083324   \n",
       "\n",
       "    net_exports  log_net_exports  \n",
       "0  5.769549e+09        22.475860  \n",
       "1  3.505302e+09        21.977543  \n",
       "2 -7.957339e+08        19.553738  \n",
       "3  2.166769e+07        16.891333  \n",
       "4  4.449881e+09        22.216143  \n",
       "\n",
       "[5 rows x 24 columns]"
      ]
     },
     "execution_count": 95,
     "metadata": {},
     "output_type": "execute_result"
    }
   ],
   "source": [
    "final_dataset.head()"
   ]
  },
  {
   "cell_type": "code",
   "execution_count": 96,
   "metadata": {},
   "outputs": [
    {
     "data": {
      "text/plain": [
       "Index(['country_x', 'iso_code', 'year', 'gdp_constant_change', 'gdp_capita',\n",
       "       'vol_imports_change', 'vol_exports_change', 'population_x',\n",
       "       'gdp_current', 'imports_gns', 'exports_gns', 'co2_emissions_kt',\n",
       "       'co2_emissions_capita', 'forest_area', 'population_y', 'ghg_total',\n",
       "       'ghg_growth', 'ghg_capita', 'mean_surface_temp', 'log_co2_capita',\n",
       "       'log_gdp_capita', 'log_gdp_capita_sq', 'net_exports', 'log_net_exports',\n",
       "       'country_y', 'region', 'sub_region', 'intermediate_region'],\n",
       "      dtype='object')"
      ]
     },
     "execution_count": 96,
     "metadata": {},
     "output_type": "execute_result"
    }
   ],
   "source": [
    "final_data2 = pd.merge(final_dataset, region_mapping, on = [ \"iso_code\",], how = \"left\")\n",
    "final_data2.columns"
   ]
  },
  {
   "cell_type": "code",
   "execution_count": 97,
   "metadata": {},
   "outputs": [],
   "source": [
    "# region\n",
    "asia_data = final_data2[final_data2[\"region\"] == \"Asia\"]\n",
    "africa_data = final_data2[final_data2[\"region\"] == \"Africa\"]\n",
    "europe_data = final_data2[final_data2[\"region\"] == \"Europe\"]\n",
    "americas_data = final_data2[final_data2[\"region\"] == \"Americas\"]"
   ]
  },
  {
   "cell_type": "code",
   "execution_count": 98,
   "metadata": {},
   "outputs": [],
   "source": [
    "#sub-region analysis\n",
    "eastern_asia = final_data2[final_data2[\"sub_region\"] == \"Eastern Asia\"]\n",
    "south_eastern_asia = final_data2[final_data2[\"sub_region\"] == \"South-eastern Asia\"]\n",
    "central_asia = final_data2[final_data2[\"sub_region\"] == \"Central Asia\"]\n",
    "western_asia = final_data2[final_data2[\"sub_region\"] == \"Western Asia\"]\n",
    "northern_america = final_data2[final_data2[\"sub_region\"] == \"Northern America\"]\n",
    "latin_america = final_data2[final_data2[\"sub_region\"] == \"Latin America and the Caribbean\"]"
   ]
  },
  {
   "cell_type": "code",
   "execution_count": 109,
   "metadata": {},
   "outputs": [],
   "source": [
    "def fixed_effects_model(dataset, explanatory_variable = None):\n",
    "    vars = [\"log_gdp_capita\", \"log_gdp_capita_sq\"]\n",
    "    if explanatory_variable:\n",
    "        vars.extend(explanatory_variable)\n",
    "    exog_vars = vars + np.unique(dataset.year)[1::].tolist()\n",
    "    dataset['year'] = pd.to_datetime(dataset['year'], format='%Y')\n",
    "    dataset = dataset.set_index('year', append=True)\n",
    "    exog = sm.tools.tools.add_constant(dataset.filter(exog_vars, axis = 1))\n",
    "    endog = dataset[\"log_co2_capita\"]\n",
    "    mod_fe = PanelOLS(endog, exog, time_effects=True)\n",
    "    fe_res = mod_fe.fit()\n",
    "    print(fe_res)"
   ]
  },
  {
   "cell_type": "code",
   "execution_count": 112,
   "metadata": {},
   "outputs": [
    {
     "ename": "SyntaxError",
     "evalue": "closing parenthesis ']' does not match opening parenthesis '(' (<ipython-input-112-e73347ac93db>, line 1)",
     "output_type": "error",
     "traceback": [
      "\u001b[0;36m  File \u001b[0;32m\"<ipython-input-112-e73347ac93db>\"\u001b[0;36m, line \u001b[0;32m1\u001b[0m\n\u001b[0;31m    fixed_effects_model(asia_data])\u001b[0m\n\u001b[0m                                 ^\u001b[0m\n\u001b[0;31mSyntaxError\u001b[0m\u001b[0;31m:\u001b[0m closing parenthesis ']' does not match opening parenthesis '('\n"
     ]
    }
   ],
   "source": [
    "fixed_effects_model(asia_data)"
   ]
  },
  {
   "cell_type": "code",
   "execution_count": 57,
   "metadata": {},
   "outputs": [
    {
     "name": "stdout",
     "output_type": "stream",
     "text": [
      "                          PanelOLS Estimation Summary                           \n",
      "================================================================================\n",
      "Dep. Variable:         log_co2_capita   R-squared:                        0.8631\n",
      "Estimator:                   PanelOLS   R-squared (Between):              0.8632\n",
      "No. Observations:                 728   R-squared (Within):               0.0000\n",
      "Date:                Wed, Mar 16 2022   R-squared (Overall):              0.8632\n",
      "Time:                        01:33:43   Log-likelihood                   -501.21\n",
      "Cov. Estimator:            Unadjusted                                           \n",
      "                                        F-statistic:                      2207.5\n",
      "Entities:                         728   P-value                           0.0000\n",
      "Avg Obs:                       1.0000   Distribution:                   F(2,700)\n",
      "Min Obs:                       1.0000                                           \n",
      "Max Obs:                       1.0000   F-statistic (robust):             2207.5\n",
      "                                        P-value                           0.0000\n",
      "Time periods:                      26   Distribution:                   F(2,700)\n",
      "Avg Obs:                       28.000                                           \n",
      "Min Obs:                       28.000                                           \n",
      "Max Obs:                       28.000                                           \n",
      "                                                                                \n",
      "                                 Parameter Estimates                                 \n",
      "=====================================================================================\n",
      "                   Parameter  Std. Err.     T-stat    P-value    Lower CI    Upper CI\n",
      "-------------------------------------------------------------------------------------\n",
      "const                -20.988     1.2214    -17.184     0.0000     -23.386     -18.590\n",
      "log_gdp_capita        3.5816     0.2676     13.386     0.0000      3.0563      4.1069\n",
      "log_gdp_capita_sq    -0.1319     0.0145    -9.1100     0.0000     -0.1604     -0.1035\n",
      "=====================================================================================\n",
      "\n",
      "F-test for Poolability: 6.7049\n",
      "P-value: 0.0000\n",
      "Distribution: F(25,700)\n",
      "\n",
      "Included effects: Time\n"
     ]
    },
    {
     "name": "stderr",
     "output_type": "stream",
     "text": [
      "<ipython-input-53-65976474825e>:4: SettingWithCopyWarning: \n",
      "A value is trying to be set on a copy of a slice from a DataFrame.\n",
      "Try using .loc[row_indexer,col_indexer] = value instead\n",
      "\n",
      "See the caveats in the documentation: https://pandas.pydata.org/pandas-docs/stable/user_guide/indexing.html#returning-a-view-versus-a-copy\n",
      "  dataset['year'] = pd.to_datetime(dataset['year'], format='%Y')\n"
     ]
    }
   ],
   "source": [
    "fixed_effects_model(africa_data)"
   ]
  },
  {
   "cell_type": "code",
   "execution_count": 58,
   "metadata": {},
   "outputs": [
    {
     "name": "stdout",
     "output_type": "stream",
     "text": [
      "                          PanelOLS Estimation Summary                           \n",
      "================================================================================\n",
      "Dep. Variable:         log_co2_capita   R-squared:                        0.8331\n",
      "Estimator:                   PanelOLS   R-squared (Between):              0.8510\n",
      "No. Observations:                 520   R-squared (Within):               0.0000\n",
      "Date:                Wed, Mar 16 2022   R-squared (Overall):              0.8510\n",
      "Time:                        01:33:47   Log-likelihood                   -344.90\n",
      "Cov. Estimator:            Unadjusted                                           \n",
      "                                        F-statistic:                      1227.8\n",
      "Entities:                         520   P-value                           0.0000\n",
      "Avg Obs:                       1.0000   Distribution:                   F(2,492)\n",
      "Min Obs:                       1.0000                                           \n",
      "Max Obs:                       1.0000   F-statistic (robust):             1227.8\n",
      "                                        P-value                           0.0000\n",
      "Time periods:                      26   Distribution:                   F(2,492)\n",
      "Avg Obs:                       20.000                                           \n",
      "Min Obs:                       20.000                                           \n",
      "Max Obs:                       20.000                                           \n",
      "                                                                                \n",
      "                                 Parameter Estimates                                 \n",
      "=====================================================================================\n",
      "                   Parameter  Std. Err.     T-stat    P-value    Lower CI    Upper CI\n",
      "-------------------------------------------------------------------------------------\n",
      "const                -22.099     1.5385    -14.364     0.0000     -25.122     -19.076\n",
      "log_gdp_capita        3.8674     0.3336     11.591     0.0000      3.2118      4.5229\n",
      "log_gdp_capita_sq    -0.1494     0.0179    -8.3481     0.0000     -0.1845     -0.1142\n",
      "=====================================================================================\n",
      "\n",
      "F-test for Poolability: 7.7041\n",
      "P-value: 0.0000\n",
      "Distribution: F(25,492)\n",
      "\n",
      "Included effects: Time\n"
     ]
    },
    {
     "name": "stderr",
     "output_type": "stream",
     "text": [
      "<ipython-input-53-65976474825e>:4: SettingWithCopyWarning: \n",
      "A value is trying to be set on a copy of a slice from a DataFrame.\n",
      "Try using .loc[row_indexer,col_indexer] = value instead\n",
      "\n",
      "See the caveats in the documentation: https://pandas.pydata.org/pandas-docs/stable/user_guide/indexing.html#returning-a-view-versus-a-copy\n",
      "  dataset['year'] = pd.to_datetime(dataset['year'], format='%Y')\n"
     ]
    }
   ],
   "source": [
    "fixed_effects_model(americas_data)"
   ]
  },
  {
   "cell_type": "code",
   "execution_count": 59,
   "metadata": {},
   "outputs": [
    {
     "name": "stdout",
     "output_type": "stream",
     "text": [
      "                          PanelOLS Estimation Summary                           \n",
      "================================================================================\n",
      "Dep. Variable:         log_co2_capita   R-squared:                        0.8524\n",
      "Estimator:                   PanelOLS   R-squared (Between):              0.8518\n",
      "No. Observations:                 936   R-squared (Within):               0.0000\n",
      "Date:                Wed, Mar 16 2022   R-squared (Overall):              0.8518\n",
      "Time:                        01:34:02   Log-likelihood                   -674.20\n",
      "Cov. Estimator:            Unadjusted                                           \n",
      "                                        F-statistic:                      2621.9\n",
      "Entities:                         936   P-value                           0.0000\n",
      "Avg Obs:                       1.0000   Distribution:                   F(2,908)\n",
      "Min Obs:                       1.0000                                           \n",
      "Max Obs:                       1.0000   F-statistic (robust):             2621.9\n",
      "                                        P-value                           0.0000\n",
      "Time periods:                      26   Distribution:                   F(2,908)\n",
      "Avg Obs:                       36.000                                           \n",
      "Min Obs:                       36.000                                           \n",
      "Max Obs:                       36.000                                           \n",
      "                                                                                \n",
      "                                 Parameter Estimates                                 \n",
      "=====================================================================================\n",
      "                   Parameter  Std. Err.     T-stat    P-value    Lower CI    Upper CI\n",
      "-------------------------------------------------------------------------------------\n",
      "const                -21.263     1.1193    -18.997     0.0000     -23.460     -19.066\n",
      "log_gdp_capita        3.6302     0.2449     14.826     0.0000      3.1496      4.1107\n",
      "log_gdp_capita_sq    -0.1339     0.0132    -10.107     0.0000     -0.1599     -0.1079\n",
      "=====================================================================================\n",
      "\n",
      "F-test for Poolability: 8.1461\n",
      "P-value: 0.0000\n",
      "Distribution: F(25,908)\n",
      "\n",
      "Included effects: Time\n"
     ]
    },
    {
     "name": "stderr",
     "output_type": "stream",
     "text": [
      "<ipython-input-53-65976474825e>:4: SettingWithCopyWarning: \n",
      "A value is trying to be set on a copy of a slice from a DataFrame.\n",
      "Try using .loc[row_indexer,col_indexer] = value instead\n",
      "\n",
      "See the caveats in the documentation: https://pandas.pydata.org/pandas-docs/stable/user_guide/indexing.html#returning-a-view-versus-a-copy\n",
      "  dataset['year'] = pd.to_datetime(dataset['year'], format='%Y')\n"
     ]
    }
   ],
   "source": [
    "fixed_effects_model(europe_data)"
   ]
  },
  {
   "cell_type": "code",
   "execution_count": 60,
   "metadata": {},
   "outputs": [
    {
     "name": "stderr",
     "output_type": "stream",
     "text": [
      "<ipython-input-53-65976474825e>:4: SettingWithCopyWarning: \n",
      "A value is trying to be set on a copy of a slice from a DataFrame.\n",
      "Try using .loc[row_indexer,col_indexer] = value instead\n",
      "\n",
      "See the caveats in the documentation: https://pandas.pydata.org/pandas-docs/stable/user_guide/indexing.html#returning-a-view-versus-a-copy\n",
      "  dataset['year'] = pd.to_datetime(dataset['year'], format='%Y')\n"
     ]
    },
    {
     "ename": "AbsorbingEffectError",
     "evalue": "\nThe model cannot be estimated. The included effects have fully absorbed\none or more of the variables. This occurs when one or more of the dependent\nvariable is perfectly explained using the effects included in the model.\n\nThe following variables or variable combinations have been fully absorbed\nor have become perfectly collinear after effects are removed:\n\n          const, log_gdp_capita, log_gdp_capita_sq\n          const, log_gdp_capita, log_gdp_capita_sq\n\nSet drop_absorbed=True to automatically drop absorbed variables.\n",
     "output_type": "error",
     "traceback": [
      "\u001b[0;31m---------------------------------------------------------------------------\u001b[0m",
      "\u001b[0;31mAbsorbingEffectError\u001b[0m                      Traceback (most recent call last)",
      "\u001b[0;32m<ipython-input-60-adf2c79f535d>\u001b[0m in \u001b[0;36m<module>\u001b[0;34m\u001b[0m\n\u001b[0;32m----> 1\u001b[0;31m \u001b[0mfixed_effects_model\u001b[0m\u001b[0;34m(\u001b[0m\u001b[0meastern_asia\u001b[0m\u001b[0;34m)\u001b[0m\u001b[0;34m\u001b[0m\u001b[0;34m\u001b[0m\u001b[0m\n\u001b[0m",
      "\u001b[0;32m<ipython-input-53-65976474825e>\u001b[0m in \u001b[0;36mfixed_effects_model\u001b[0;34m(dataset, explanatory_variable)\u001b[0m\n\u001b[1;32m      7\u001b[0m     \u001b[0mendog\u001b[0m \u001b[0;34m=\u001b[0m \u001b[0mdataset\u001b[0m\u001b[0;34m[\u001b[0m\u001b[0;34m\"log_co2_capita\"\u001b[0m\u001b[0;34m]\u001b[0m\u001b[0;34m\u001b[0m\u001b[0;34m\u001b[0m\u001b[0m\n\u001b[1;32m      8\u001b[0m     \u001b[0mmod_fe\u001b[0m \u001b[0;34m=\u001b[0m \u001b[0mPanelOLS\u001b[0m\u001b[0;34m(\u001b[0m\u001b[0mendog\u001b[0m\u001b[0;34m,\u001b[0m \u001b[0mexog\u001b[0m\u001b[0;34m,\u001b[0m \u001b[0mtime_effects\u001b[0m\u001b[0;34m=\u001b[0m\u001b[0;32mTrue\u001b[0m\u001b[0;34m)\u001b[0m\u001b[0;34m\u001b[0m\u001b[0;34m\u001b[0m\u001b[0m\n\u001b[0;32m----> 9\u001b[0;31m     \u001b[0mfe_res\u001b[0m \u001b[0;34m=\u001b[0m \u001b[0mmod_fe\u001b[0m\u001b[0;34m.\u001b[0m\u001b[0mfit\u001b[0m\u001b[0;34m(\u001b[0m\u001b[0;34m)\u001b[0m\u001b[0;34m\u001b[0m\u001b[0;34m\u001b[0m\u001b[0m\n\u001b[0m\u001b[1;32m     10\u001b[0m     \u001b[0mprint\u001b[0m\u001b[0;34m(\u001b[0m\u001b[0mfe_res\u001b[0m\u001b[0;34m)\u001b[0m\u001b[0;34m\u001b[0m\u001b[0;34m\u001b[0m\u001b[0m\n",
      "\u001b[0;32m~/.local/lib/python3.8/site-packages/linearmodels/panel/model.py\u001b[0m in \u001b[0;36mfit\u001b[0;34m(self, use_lsdv, use_lsmr, low_memory, cov_type, debiased, auto_df, count_effects, **cov_config)\u001b[0m\n\u001b[1;32m   1814\u001b[0m         \u001b[0;32mif\u001b[0m \u001b[0mself\u001b[0m\u001b[0;34m.\u001b[0m\u001b[0mentity_effects\u001b[0m \u001b[0;32mor\u001b[0m \u001b[0mself\u001b[0m\u001b[0;34m.\u001b[0m\u001b[0mtime_effects\u001b[0m \u001b[0;32mor\u001b[0m \u001b[0mself\u001b[0m\u001b[0;34m.\u001b[0m\u001b[0mother_effects\u001b[0m\u001b[0;34m:\u001b[0m\u001b[0;34m\u001b[0m\u001b[0;34m\u001b[0m\u001b[0m\n\u001b[1;32m   1815\u001b[0m             \u001b[0;32mif\u001b[0m \u001b[0;32mnot\u001b[0m \u001b[0mself\u001b[0m\u001b[0;34m.\u001b[0m\u001b[0m_drop_absorbed\u001b[0m\u001b[0;34m:\u001b[0m\u001b[0;34m\u001b[0m\u001b[0;34m\u001b[0m\u001b[0m\n\u001b[0;32m-> 1816\u001b[0;31m                 \u001b[0mcheck_absorbed\u001b[0m\u001b[0;34m(\u001b[0m\u001b[0mx\u001b[0m\u001b[0;34m,\u001b[0m \u001b[0;34m[\u001b[0m\u001b[0mstr\u001b[0m\u001b[0;34m(\u001b[0m\u001b[0mvar\u001b[0m\u001b[0;34m)\u001b[0m \u001b[0;32mfor\u001b[0m \u001b[0mvar\u001b[0m \u001b[0;32min\u001b[0m \u001b[0mself\u001b[0m\u001b[0;34m.\u001b[0m\u001b[0mexog\u001b[0m\u001b[0;34m.\u001b[0m\u001b[0mvars\u001b[0m\u001b[0;34m]\u001b[0m\u001b[0;34m)\u001b[0m\u001b[0;34m\u001b[0m\u001b[0;34m\u001b[0m\u001b[0m\n\u001b[0m\u001b[1;32m   1817\u001b[0m             \u001b[0;32melse\u001b[0m\u001b[0;34m:\u001b[0m\u001b[0;34m\u001b[0m\u001b[0;34m\u001b[0m\u001b[0m\n\u001b[1;32m   1818\u001b[0m                 \u001b[0;31m# TODO: Need to special case the constant here when determining which to retain\u001b[0m\u001b[0;34m\u001b[0m\u001b[0;34m\u001b[0m\u001b[0;34m\u001b[0m\u001b[0m\n",
      "\u001b[0;32m~/.local/lib/python3.8/site-packages/linearmodels/panel/utility.py\u001b[0m in \u001b[0;36mcheck_absorbed\u001b[0;34m(x, variables, x_orig)\u001b[0m\n\u001b[1;32m    444\u001b[0m         \u001b[0mabsorbed_variables\u001b[0m \u001b[0;34m=\u001b[0m \u001b[0;34m\"\\n\"\u001b[0m\u001b[0;34m.\u001b[0m\u001b[0mjoin\u001b[0m\u001b[0;34m(\u001b[0m\u001b[0mrows\u001b[0m\u001b[0;34m)\u001b[0m\u001b[0;34m\u001b[0m\u001b[0;34m\u001b[0m\u001b[0m\n\u001b[1;32m    445\u001b[0m         \u001b[0mmsg\u001b[0m \u001b[0;34m=\u001b[0m \u001b[0mabsorbing_error_msg\u001b[0m\u001b[0;34m.\u001b[0m\u001b[0mformat\u001b[0m\u001b[0;34m(\u001b[0m\u001b[0mabsorbed_variables\u001b[0m\u001b[0;34m=\u001b[0m\u001b[0mabsorbed_variables\u001b[0m\u001b[0;34m)\u001b[0m\u001b[0;34m\u001b[0m\u001b[0;34m\u001b[0m\u001b[0m\n\u001b[0;32m--> 446\u001b[0;31m         \u001b[0;32mraise\u001b[0m \u001b[0mAbsorbingEffectError\u001b[0m\u001b[0;34m(\u001b[0m\u001b[0mmsg\u001b[0m\u001b[0;34m)\u001b[0m\u001b[0;34m\u001b[0m\u001b[0;34m\u001b[0m\u001b[0m\n\u001b[0m\u001b[1;32m    447\u001b[0m     \u001b[0;32mif\u001b[0m \u001b[0mx_orig\u001b[0m \u001b[0;32mis\u001b[0m \u001b[0;32mNone\u001b[0m\u001b[0;34m:\u001b[0m\u001b[0;34m\u001b[0m\u001b[0;34m\u001b[0m\u001b[0m\n\u001b[1;32m    448\u001b[0m         \u001b[0;32mreturn\u001b[0m\u001b[0;34m\u001b[0m\u001b[0;34m\u001b[0m\u001b[0m\n",
      "\u001b[0;31mAbsorbingEffectError\u001b[0m: \nThe model cannot be estimated. The included effects have fully absorbed\none or more of the variables. This occurs when one or more of the dependent\nvariable is perfectly explained using the effects included in the model.\n\nThe following variables or variable combinations have been fully absorbed\nor have become perfectly collinear after effects are removed:\n\n          const, log_gdp_capita, log_gdp_capita_sq\n          const, log_gdp_capita, log_gdp_capita_sq\n\nSet drop_absorbed=True to automatically drop absorbed variables.\n"
     ]
    }
   ],
   "source": [
    "fixed_effects_model(eastern_asia)"
   ]
  },
  {
   "cell_type": "code",
   "execution_count": 61,
   "metadata": {},
   "outputs": [
    {
     "name": "stdout",
     "output_type": "stream",
     "text": [
      "                          PanelOLS Estimation Summary                           \n",
      "================================================================================\n",
      "Dep. Variable:         log_co2_capita   R-squared:                        0.8578\n",
      "Estimator:                   PanelOLS   R-squared (Between):              0.8512\n",
      "No. Observations:                 208   R-squared (Within):               0.0000\n",
      "Date:                Wed, Mar 16 2022   R-squared (Overall):              0.8512\n",
      "Time:                        01:34:31   Log-likelihood                   -134.03\n",
      "Cov. Estimator:            Unadjusted                                           \n",
      "                                        F-statistic:                      543.07\n",
      "Entities:                         208   P-value                           0.0000\n",
      "Avg Obs:                       1.0000   Distribution:                   F(2,180)\n",
      "Min Obs:                       1.0000                                           \n",
      "Max Obs:                       1.0000   F-statistic (robust):             543.07\n",
      "                                        P-value                           0.0000\n",
      "Time periods:                      26   Distribution:                   F(2,180)\n",
      "Avg Obs:                       8.0000                                           \n",
      "Min Obs:                       8.0000                                           \n",
      "Max Obs:                       8.0000                                           \n",
      "                                                                                \n",
      "                                 Parameter Estimates                                 \n",
      "=====================================================================================\n",
      "                   Parameter  Std. Err.     T-stat    P-value    Lower CI    Upper CI\n",
      "-------------------------------------------------------------------------------------\n",
      "const                -22.041     2.3338    -9.4442     0.0000     -26.646     -17.436\n",
      "log_gdp_capita        3.8348     0.5094     7.5278     0.0000      2.8296      4.8401\n",
      "log_gdp_capita_sq    -0.1469     0.0275    -5.3377     0.0000     -0.2012     -0.0926\n",
      "=====================================================================================\n",
      "\n",
      "F-test for Poolability: 2.2041\n",
      "P-value: 0.0016\n",
      "Distribution: F(25,180)\n",
      "\n",
      "Included effects: Time\n"
     ]
    },
    {
     "name": "stderr",
     "output_type": "stream",
     "text": [
      "<ipython-input-53-65976474825e>:4: SettingWithCopyWarning: \n",
      "A value is trying to be set on a copy of a slice from a DataFrame.\n",
      "Try using .loc[row_indexer,col_indexer] = value instead\n",
      "\n",
      "See the caveats in the documentation: https://pandas.pydata.org/pandas-docs/stable/user_guide/indexing.html#returning-a-view-versus-a-copy\n",
      "  dataset['year'] = pd.to_datetime(dataset['year'], format='%Y')\n"
     ]
    }
   ],
   "source": [
    "fixed_effects_model(south_eastern_asia)"
   ]
  },
  {
   "cell_type": "code",
   "execution_count": 62,
   "metadata": {},
   "outputs": [
    {
     "name": "stdout",
     "output_type": "stream",
     "text": [
      "                          PanelOLS Estimation Summary                           \n",
      "================================================================================\n",
      "Dep. Variable:         log_co2_capita   R-squared:                        0.8578\n",
      "Estimator:                   PanelOLS   R-squared (Between):              0.8512\n",
      "No. Observations:                 208   R-squared (Within):               0.0000\n",
      "Date:                Wed, Mar 16 2022   R-squared (Overall):              0.8512\n",
      "Time:                        01:34:35   Log-likelihood                   -134.03\n",
      "Cov. Estimator:            Unadjusted                                           \n",
      "                                        F-statistic:                      543.07\n",
      "Entities:                         208   P-value                           0.0000\n",
      "Avg Obs:                       1.0000   Distribution:                   F(2,180)\n",
      "Min Obs:                       1.0000                                           \n",
      "Max Obs:                       1.0000   F-statistic (robust):             543.07\n",
      "                                        P-value                           0.0000\n",
      "Time periods:                      26   Distribution:                   F(2,180)\n",
      "Avg Obs:                       8.0000                                           \n",
      "Min Obs:                       8.0000                                           \n",
      "Max Obs:                       8.0000                                           \n",
      "                                                                                \n",
      "                                 Parameter Estimates                                 \n",
      "=====================================================================================\n",
      "                   Parameter  Std. Err.     T-stat    P-value    Lower CI    Upper CI\n",
      "-------------------------------------------------------------------------------------\n",
      "const                -22.041     2.3338    -9.4442     0.0000     -26.646     -17.436\n",
      "log_gdp_capita        3.8348     0.5094     7.5278     0.0000      2.8296      4.8401\n",
      "log_gdp_capita_sq    -0.1469     0.0275    -5.3377     0.0000     -0.2012     -0.0926\n",
      "=====================================================================================\n",
      "\n",
      "F-test for Poolability: 2.2041\n",
      "P-value: 0.0016\n",
      "Distribution: F(25,180)\n",
      "\n",
      "Included effects: Time\n"
     ]
    },
    {
     "name": "stderr",
     "output_type": "stream",
     "text": [
      "<ipython-input-53-65976474825e>:4: SettingWithCopyWarning: \n",
      "A value is trying to be set on a copy of a slice from a DataFrame.\n",
      "Try using .loc[row_indexer,col_indexer] = value instead\n",
      "\n",
      "See the caveats in the documentation: https://pandas.pydata.org/pandas-docs/stable/user_guide/indexing.html#returning-a-view-versus-a-copy\n",
      "  dataset['year'] = pd.to_datetime(dataset['year'], format='%Y')\n"
     ]
    }
   ],
   "source": [
    "fixed_effects_model(south_eastern_asia)"
   ]
  },
  {
   "cell_type": "code",
   "execution_count": 63,
   "metadata": {},
   "outputs": [
    {
     "name": "stdout",
     "output_type": "stream",
     "text": [
      "                          PanelOLS Estimation Summary                           \n",
      "================================================================================\n",
      "Dep. Variable:         log_co2_capita   R-squared:                        0.8806\n",
      "Estimator:                   PanelOLS   R-squared (Between):              0.8660\n",
      "No. Observations:                  78   R-squared (Within):               0.0000\n",
      "Date:                Wed, Mar 16 2022   R-squared (Overall):              0.8660\n",
      "Time:                        01:34:40   Log-likelihood                   -23.248\n",
      "Cov. Estimator:            Unadjusted                                           \n",
      "                                        F-statistic:                      184.32\n",
      "Entities:                          78   P-value                           0.0000\n",
      "Avg Obs:                       1.0000   Distribution:                    F(2,50)\n",
      "Min Obs:                       1.0000                                           \n",
      "Max Obs:                       1.0000   F-statistic (robust):             184.32\n",
      "                                        P-value                           0.0000\n",
      "Time periods:                      26   Distribution:                    F(2,50)\n",
      "Avg Obs:                       3.0000                                           \n",
      "Min Obs:                       3.0000                                           \n",
      "Max Obs:                       3.0000                                           \n",
      "                                                                                \n",
      "                                 Parameter Estimates                                 \n",
      "=====================================================================================\n",
      "                   Parameter  Std. Err.     T-stat    P-value    Lower CI    Upper CI\n",
      "-------------------------------------------------------------------------------------\n",
      "const                -18.542     4.7373    -3.9140     0.0003     -28.057     -9.0267\n",
      "log_gdp_capita        2.8951     1.0289     2.8138     0.0070      0.8285      4.9617\n",
      "log_gdp_capita_sq    -0.0868     0.0553    -1.5687     0.1230     -0.1980      0.0243\n",
      "=====================================================================================\n",
      "\n",
      "F-test for Poolability: 2.0635\n",
      "P-value: 0.0147\n",
      "Distribution: F(25,50)\n",
      "\n",
      "Included effects: Time\n"
     ]
    },
    {
     "name": "stderr",
     "output_type": "stream",
     "text": [
      "<ipython-input-53-65976474825e>:4: SettingWithCopyWarning: \n",
      "A value is trying to be set on a copy of a slice from a DataFrame.\n",
      "Try using .loc[row_indexer,col_indexer] = value instead\n",
      "\n",
      "See the caveats in the documentation: https://pandas.pydata.org/pandas-docs/stable/user_guide/indexing.html#returning-a-view-versus-a-copy\n",
      "  dataset['year'] = pd.to_datetime(dataset['year'], format='%Y')\n"
     ]
    }
   ],
   "source": [
    "fixed_effects_model(central_asia)"
   ]
  },
  {
   "cell_type": "code",
   "execution_count": 64,
   "metadata": {},
   "outputs": [
    {
     "name": "stdout",
     "output_type": "stream",
     "text": [
      "                          PanelOLS Estimation Summary                           \n",
      "================================================================================\n",
      "Dep. Variable:         log_co2_capita   R-squared:                        0.8819\n",
      "Estimator:                   PanelOLS   R-squared (Between):              0.8703\n",
      "No. Observations:                 260   R-squared (Within):               0.0000\n",
      "Date:                Wed, Mar 16 2022   R-squared (Overall):              0.8703\n",
      "Time:                        01:34:44   Log-likelihood                   -155.55\n",
      "Cov. Estimator:            Unadjusted                                           \n",
      "                                        F-statistic:                      865.92\n",
      "Entities:                         260   P-value                           0.0000\n",
      "Avg Obs:                       1.0000   Distribution:                   F(2,232)\n",
      "Min Obs:                       1.0000                                           \n",
      "Max Obs:                       1.0000   F-statistic (robust):             865.92\n",
      "                                        P-value                           0.0000\n",
      "Time periods:                      26   Distribution:                   F(2,232)\n",
      "Avg Obs:                      10.0000                                           \n",
      "Min Obs:                      10.0000                                           \n",
      "Max Obs:                      10.0000                                           \n",
      "                                                                                \n",
      "                                 Parameter Estimates                                 \n",
      "=====================================================================================\n",
      "                   Parameter  Std. Err.     T-stat    P-value    Lower CI    Upper CI\n",
      "-------------------------------------------------------------------------------------\n",
      "const                -18.509     1.9819    -9.3389     0.0000     -22.414     -14.604\n",
      "log_gdp_capita        3.0032     0.4330     6.9364     0.0000      2.1502      3.8563\n",
      "log_gdp_capita_sq    -0.0993     0.0234    -4.2430     0.0000     -0.1454     -0.0532\n",
      "=====================================================================================\n",
      "\n",
      "F-test for Poolability: 2.8033\n",
      "P-value: 0.0000\n",
      "Distribution: F(25,232)\n",
      "\n",
      "Included effects: Time\n"
     ]
    },
    {
     "name": "stderr",
     "output_type": "stream",
     "text": [
      "<ipython-input-53-65976474825e>:4: SettingWithCopyWarning: \n",
      "A value is trying to be set on a copy of a slice from a DataFrame.\n",
      "Try using .loc[row_indexer,col_indexer] = value instead\n",
      "\n",
      "See the caveats in the documentation: https://pandas.pydata.org/pandas-docs/stable/user_guide/indexing.html#returning-a-view-versus-a-copy\n",
      "  dataset['year'] = pd.to_datetime(dataset['year'], format='%Y')\n"
     ]
    }
   ],
   "source": [
    "fixed_effects_model(western_asia)"
   ]
  },
  {
   "cell_type": "code",
   "execution_count": 65,
   "metadata": {},
   "outputs": [
    {
     "name": "stdout",
     "output_type": "stream",
     "text": [
      "                          PanelOLS Estimation Summary                           \n",
      "================================================================================\n",
      "Dep. Variable:         log_co2_capita   R-squared:                        0.8067\n",
      "Estimator:                   PanelOLS   R-squared (Between):              0.7934\n",
      "No. Observations:                  52   R-squared (Within):               0.0000\n",
      "Date:                Wed, Mar 16 2022   R-squared (Overall):              0.7934\n",
      "Time:                        01:34:48   Log-likelihood                   -29.671\n",
      "Cov. Estimator:            Unadjusted                                           \n",
      "                                        F-statistic:                      50.067\n",
      "Entities:                          52   P-value                           0.0000\n",
      "Avg Obs:                       1.0000   Distribution:                    F(2,24)\n",
      "Min Obs:                       1.0000                                           \n",
      "Max Obs:                       1.0000   F-statistic (robust):             50.067\n",
      "                                        P-value                           0.0000\n",
      "Time periods:                      26   Distribution:                    F(2,24)\n",
      "Avg Obs:                       2.0000                                           \n",
      "Min Obs:                       2.0000                                           \n",
      "Max Obs:                       2.0000                                           \n",
      "                                                                                \n",
      "                                 Parameter Estimates                                 \n",
      "=====================================================================================\n",
      "                   Parameter  Std. Err.     T-stat    P-value    Lower CI    Upper CI\n",
      "-------------------------------------------------------------------------------------\n",
      "const                -16.351     7.6398    -2.1403     0.0427     -32.119     -0.5834\n",
      "log_gdp_capita        2.7283     1.6864     1.6178     0.1188     -0.7523      6.2088\n",
      "log_gdp_capita_sq    -0.0947     0.0919    -1.0301     0.3132     -0.2844      0.0950\n",
      "=====================================================================================\n",
      "\n",
      "F-test for Poolability: 1.1312\n",
      "P-value: 0.3824\n",
      "Distribution: F(25,24)\n",
      "\n",
      "Included effects: Time\n"
     ]
    },
    {
     "name": "stderr",
     "output_type": "stream",
     "text": [
      "<ipython-input-53-65976474825e>:4: SettingWithCopyWarning: \n",
      "A value is trying to be set on a copy of a slice from a DataFrame.\n",
      "Try using .loc[row_indexer,col_indexer] = value instead\n",
      "\n",
      "See the caveats in the documentation: https://pandas.pydata.org/pandas-docs/stable/user_guide/indexing.html#returning-a-view-versus-a-copy\n",
      "  dataset['year'] = pd.to_datetime(dataset['year'], format='%Y')\n"
     ]
    }
   ],
   "source": [
    "fixed_effects_model(northern_america)"
   ]
  },
  {
   "cell_type": "code",
   "execution_count": 66,
   "metadata": {},
   "outputs": [
    {
     "name": "stdout",
     "output_type": "stream",
     "text": [
      "                          PanelOLS Estimation Summary                           \n",
      "================================================================================\n",
      "Dep. Variable:         log_co2_capita   R-squared:                        0.8395\n",
      "Estimator:                   PanelOLS   R-squared (Between):              0.8565\n",
      "No. Observations:                 468   R-squared (Within):               0.0000\n",
      "Date:                Wed, Mar 16 2022   R-squared (Overall):              0.8565\n",
      "Time:                        01:34:59   Log-likelihood                   -296.20\n",
      "Cov. Estimator:            Unadjusted                                           \n",
      "                                        F-statistic:                      1150.4\n",
      "Entities:                         468   P-value                           0.0000\n",
      "Avg Obs:                       1.0000   Distribution:                   F(2,440)\n",
      "Min Obs:                       1.0000                                           \n",
      "Max Obs:                       1.0000   F-statistic (robust):             1150.4\n",
      "                                        P-value                           0.0000\n",
      "Time periods:                      26   Distribution:                   F(2,440)\n",
      "Avg Obs:                       18.000                                           \n",
      "Min Obs:                       18.000                                           \n",
      "Max Obs:                       18.000                                           \n",
      "                                                                                \n",
      "                                 Parameter Estimates                                 \n",
      "=====================================================================================\n",
      "                   Parameter  Std. Err.     T-stat    P-value    Lower CI    Upper CI\n",
      "-------------------------------------------------------------------------------------\n",
      "const                -23.226     1.5939    -14.571     0.0000     -26.359     -20.093\n",
      "log_gdp_capita        4.1059     0.3449     11.905     0.0000      3.4281      4.7837\n",
      "log_gdp_capita_sq    -0.1618     0.0185    -8.7639     0.0000     -0.1980     -0.1255\n",
      "=====================================================================================\n",
      "\n",
      "F-test for Poolability: 7.4866\n",
      "P-value: 0.0000\n",
      "Distribution: F(25,440)\n",
      "\n",
      "Included effects: Time\n"
     ]
    },
    {
     "name": "stderr",
     "output_type": "stream",
     "text": [
      "<ipython-input-53-65976474825e>:4: SettingWithCopyWarning: \n",
      "A value is trying to be set on a copy of a slice from a DataFrame.\n",
      "Try using .loc[row_indexer,col_indexer] = value instead\n",
      "\n",
      "See the caveats in the documentation: https://pandas.pydata.org/pandas-docs/stable/user_guide/indexing.html#returning-a-view-versus-a-copy\n",
      "  dataset['year'] = pd.to_datetime(dataset['year'], format='%Y')\n"
     ]
    }
   ],
   "source": [
    "fixed_effects_model(latin_america)"
   ]
  },
  {
   "cell_type": "code",
   "execution_count": 48,
   "metadata": {},
   "outputs": [],
   "source": []
  },
  {
   "cell_type": "code",
   "execution_count": null,
   "metadata": {},
   "outputs": [],
   "source": []
  }
 ],
 "metadata": {
  "interpreter": {
   "hash": "31f2aee4e71d21fbe5cf8b01ff0e069b9275f58929596ceb00d14d90e3e16cd6"
  },
  "kernelspec": {
   "display_name": "Python 3.8.5 64-bit",
   "language": "python",
   "name": "python3"
  },
  "language_info": {
   "codemirror_mode": {
    "name": "ipython",
    "version": 3
   },
   "file_extension": ".py",
   "mimetype": "text/x-python",
   "name": "python",
   "nbconvert_exporter": "python",
   "pygments_lexer": "ipython3",
   "version": "3.8.5"
  },
  "orig_nbformat": 4
 },
 "nbformat": 4,
 "nbformat_minor": 2
}
